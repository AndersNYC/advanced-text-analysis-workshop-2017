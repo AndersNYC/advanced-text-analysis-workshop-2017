{
 "cells": [
  {
   "cell_type": "markdown",
   "metadata": {},
   "source": [
    "# Advanced Text Analysis with SpaCy and Scikit-Learn\n",
    "\n",
    "This notebook was originally prepared for the workshop [Advanced Text Analysis with SpaCy and Scikit-Learn](http://dhweek.nycdh.org/event/advanced-text-analysis-with-spacy-and-scikit-learn/), at NYU, presented as part of NYCDH Week 2017. It was then updated for inclusion in the [Spacy Notebooks](https://github.com/explosion/spacy-notebooks/blob/master/notebooks/conference_notebooks/advanced_text_analysis.ipynb) repo, and updated once more for the workshop [Text Analysis with SpaCy and Scikit-Learn](https://pydata.org/nyc2017/schedule/presentation/51/) at PyData NYC 2017. \n",
    "\n",
    "Here, we try out features of the SpaCy library for natural language processing. We also do some statistical analysis using the scikit-learn library. \n",
    "\n",
    "Prepared by [Jonathan Reeve](http://jonreeve.com) ([Group for Experimental Methods in the Humanities](http://xpmethod.plaintext.in/), Columbia University). All code here is licensed under the MIT License. "
   ]
  },
  {
   "cell_type": "markdown",
   "metadata": {},
   "source": [
    "## Installation\n",
    "\n",
    "At a minimum, you'll need the Python packages `spacy`, `scikit-learn`, and `pandas`. If you're already using Anaconda, you probably only have to install `spacy`. Optionally, to show sentence diagrams, you'll also need `ete3`, and to show heatmaps, you'll need `seaborn`. You can usually get them on a Linux-like system (including, probably, MacOS) by running the command:  \n",
    "\n",
    "```bash\n",
    "sudo pip3 install spacy scikit-learn pandas ete3 seaborn\n",
    "```\n",
    "\n",
    "Or with Anaconda using: \n",
    "\n",
    "```bash\n",
    "conda install -c conda-forge spacy\n",
    "```\n",
    "\n",
    "Now download the SpaCy data with this command (it's an 852M file, so this command will take some time): \n",
    "\n",
    "\n",
    "```bash\n",
    "sudo python -m spacy download en_core_web_lg\n",
    "```\n",
    "\n",
    "To get my sent2tree library and all the sample data, simply `git clone` the repository where this notebook lives: \n",
    "\n",
    "```bash\n",
    "git clone https://github.com/JonathanReeve/advanced-text-analysis-workshop-2017.git\n",
    "```\n",
    "\n",
    "### Troubleshooting and Caveats\n",
    "\n",
    "If you run into any issues with the above, or if you need Windows or OS-specific instructions, see [SpaCy's quickstart guide](https://spacy.io/usage/), and just replace the `en` model with `en_core_web_lg` where appropriate. For more on downloading language models (there are a few ways of doing it), see [the SpaCy documentation on models](https://spacy.io/usage/models). \n",
    "\n",
    "The code assumes you have the lastest SpaCy, 2.0 at the time of writing. \n",
    "\n",
    "This code only been tested on Python 3. But it could work with Python 2. (Although why are you still using Python 2?)"
   ]
  },
  {
   "cell_type": "code",
   "execution_count": 17,
   "metadata": {
    "collapsed": true
   },
   "outputs": [],
   "source": [
    "import spacy\n",
    "import pandas as pd\n",
    "import numpy as np\n",
    "from collections import Counter\n",
    "from glob import glob\n",
    "import matplotlib.pyplot as plt\n",
    "from sklearn.decomposition import TruncatedSVD\n",
    "from sklearn.feature_extraction.text import TfidfVectorizer\n",
    "\n",
    "# The following are optional dependencies. \n",
    "# Feel free to comment these out. \n",
    "# Sent2tree uses the sent2tree.py module in this repository. \n",
    "from sent2tree import sentenceTree\n",
    "import ete3 \n",
    "import seaborn\n",
    "\n",
    "# Display plots in this notebook, instead of externally. \n",
    "from pylab import rcParams\n",
    "rcParams['figure.figsize'] = 16, 8\n",
    "%matplotlib inline"
   ]
  },
  {
   "cell_type": "code",
   "execution_count": 52,
   "metadata": {},
   "outputs": [
    {
     "name": "stdout",
     "output_type": "stream",
     "text": [
      "\n",
      "    \u001b[93mInfo about spaCy\u001b[0m\n",
      "\n",
      "    spaCy version      2.0.3          \n",
      "    Location           /home/jon/.local/lib/python3.6/site-packages/spacy\n",
      "    Platform           Linux-4.13.12-1-ARCH-x86_64-with-arch-17.6-ISO-Rolling\n",
      "    Python version     3.6.3          \n",
      "    Models             en             \n",
      "\n"
     ]
    }
   ],
   "source": [
    "# What Spacy version do you have? \n",
    "spacy.info()"
   ]
  },
  {
   "cell_type": "code",
   "execution_count": 2,
   "metadata": {
    "collapsed": true
   },
   "outputs": [],
   "source": [
    "# Load the SpaCy data. This command might take a little while. \n",
    "# nlp = spacy.load('en') # For SpaCy 1.X\n",
    "nlp = spacy.load('en_core_web_lg')"
   ]
  },
  {
   "cell_type": "markdown",
   "metadata": {},
   "source": [
    "The sample data is the script of the 1975 film _Monty Python and the Holy Grail_, taken from the NLTK Book corpus, and the Project Gutenberg edition of Jane Austen's novel _Pride and Prejudice_. "
   ]
  },
  {
   "cell_type": "code",
   "execution_count": 3,
   "metadata": {
    "collapsed": true
   },
   "outputs": [],
   "source": [
    "grail_raw = open('grail.txt').read()\n",
    "pride_raw = open('pride.txt').read()"
   ]
  },
  {
   "cell_type": "code",
   "execution_count": 4,
   "metadata": {
    "collapsed": true
   },
   "outputs": [],
   "source": [
    "# Parse the texts. These commands might take a little while. \n",
    "grail = nlp(grail_raw)\n",
    "pride = nlp(pride_raw)"
   ]
  },
  {
   "cell_type": "markdown",
   "metadata": {},
   "source": [
    "# Exploring the Document\n",
    "\n",
    "Each SpaCy document is already tokenized into words, which are accessible by iterating over the document: "
   ]
  },
  {
   "cell_type": "code",
   "execution_count": 5,
   "metadata": {},
   "outputs": [
    {
     "data": {
      "text/plain": [
       "﻿It"
      ]
     },
     "execution_count": 5,
     "metadata": {},
     "output_type": "execute_result"
    }
   ],
   "source": [
    "pride[0]"
   ]
  },
  {
   "cell_type": "code",
   "execution_count": 6,
   "metadata": {},
   "outputs": [
    {
     "data": {
      "text/plain": [
       "﻿It is a truth universally acknowledged, that a single"
      ]
     },
     "execution_count": 6,
     "metadata": {},
     "output_type": "execute_result"
    }
   ],
   "source": [
    "pride[:10]"
   ]
  },
  {
   "cell_type": "markdown",
   "metadata": {},
   "source": [
    "You can also iterate over the sentences. `doc.sents` is a generator object, so we can use `next()`: "
   ]
  },
  {
   "cell_type": "code",
   "execution_count": 7,
   "metadata": {},
   "outputs": [
    {
     "data": {
      "text/plain": [
       "﻿It is a truth universally acknowledged, that a single man in possession\n",
       "of a good fortune, must be in want of a wife.\n"
      ]
     },
     "execution_count": 7,
     "metadata": {},
     "output_type": "execute_result"
    }
   ],
   "source": [
    "next(pride.sents)"
   ]
  },
  {
   "cell_type": "markdown",
   "metadata": {},
   "source": [
    "Or you can force it into a list, and then do things with it: "
   ]
  },
  {
   "cell_type": "code",
   "execution_count": 8,
   "metadata": {
    "scrolled": false
   },
   "outputs": [
    {
     "data": {
      "text/plain": [
       "Darcy, as well as Elizabeth, really loved them; and they were both ever\n",
       "sensible of the warmest gratitude towards the persons who, by bringing\n",
       "her into Derbyshire, had been the means of uniting them."
      ]
     },
     "execution_count": 8,
     "metadata": {},
     "output_type": "execute_result"
    }
   ],
   "source": [
    "prideSents = list(pride.sents)\n",
    "prideSents[-1]"
   ]
  },
  {
   "cell_type": "code",
   "execution_count": 9,
   "metadata": {},
   "outputs": [
    {
     "data": {
      "text/plain": [
       "[crash] \n",
       "CAMERAMAN: Christ!"
      ]
     },
     "execution_count": 9,
     "metadata": {},
     "output_type": "execute_result"
    }
   ],
   "source": [
    "list(grail.sents)[-1]"
   ]
  },
  {
   "cell_type": "markdown",
   "metadata": {},
   "source": [
    "For example, let's find the longest sentence(s) in _Pride and Prejudice_: "
   ]
  },
  {
   "cell_type": "code",
   "execution_count": 10,
   "metadata": {},
   "outputs": [
    {
     "data": {
      "text/plain": [
       "[Every lingering struggle in his favour grew fainter\n",
       " and fainter; and in farther justification of Mr. Darcy, she could not\n",
       " but allow that Mr. Bingley, when questioned by Jane, had long ago\n",
       " asserted his blamelessness in the affair; that proud and repulsive as\n",
       " were his manners, she had never, in the whole course of their\n",
       " acquaintance--an acquaintance which had latterly brought them much\n",
       " together, and given her a sort of intimacy with his ways--seen anything\n",
       " that betrayed him to be unprincipled or unjust--anything that spoke him\n",
       " of irreligious or immoral habits; that among his own connections he was\n",
       " esteemed and valued--that even Wickham had allowed him merit as a\n",
       " brother, and that she had often heard him speak so affectionately of his\n",
       " sister as to prove him capable of _some_ amiable feeling; that had his\n",
       " actions been what Mr. Wickham represented them, so gross a violation of\n",
       " everything right could hardly have been concealed from the world; and\n",
       " that friendship between a person capable of it, and such an amiable man\n",
       " as Mr. Bingley, was incomprehensible.\n",
       " ]"
      ]
     },
     "execution_count": 10,
     "metadata": {},
     "output_type": "execute_result"
    }
   ],
   "source": [
    "prideSentenceLengths = [len(sent) for sent in prideSents]\n",
    "[sent for sent in prideSents if len(sent) == max(prideSentenceLengths)]"
   ]
  },
  {
   "cell_type": "markdown",
   "metadata": {},
   "source": [
    "## Exploring Words\n",
    "\n",
    "Each word has a crazy number of properties: "
   ]
  },
  {
   "cell_type": "code",
   "execution_count": 11,
   "metadata": {},
   "outputs": [
    {
     "data": {
      "text/plain": [
       "universally"
      ]
     },
     "execution_count": 11,
     "metadata": {},
     "output_type": "execute_result"
    }
   ],
   "source": [
    "pride[4]"
   ]
  },
  {
   "cell_type": "code",
   "execution_count": 12,
   "metadata": {},
   "outputs": [
    {
     "data": {
      "text/plain": [
       "['ancestors',\n",
       " 'check_flag',\n",
       " 'children',\n",
       " 'cluster',\n",
       " 'conjuncts',\n",
       " 'dep',\n",
       " 'dep_',\n",
       " 'doc',\n",
       " 'ent_id',\n",
       " 'ent_id_',\n",
       " 'ent_iob',\n",
       " 'ent_iob_',\n",
       " 'ent_type',\n",
       " 'ent_type_',\n",
       " 'get_extension',\n",
       " 'has_extension',\n",
       " 'has_vector',\n",
       " 'head',\n",
       " 'i',\n",
       " 'idx',\n",
       " 'is_alpha',\n",
       " 'is_ancestor',\n",
       " 'is_ascii',\n",
       " 'is_bracket',\n",
       " 'is_digit',\n",
       " 'is_left_punct',\n",
       " 'is_lower',\n",
       " 'is_oov',\n",
       " 'is_punct',\n",
       " 'is_quote',\n",
       " 'is_right_punct',\n",
       " 'is_sent_start',\n",
       " 'is_space',\n",
       " 'is_stop',\n",
       " 'is_title',\n",
       " 'is_upper',\n",
       " 'lang',\n",
       " 'lang_',\n",
       " 'left_edge',\n",
       " 'lefts',\n",
       " 'lemma',\n",
       " 'lemma_',\n",
       " 'lex_id',\n",
       " 'like_email',\n",
       " 'like_num',\n",
       " 'like_url',\n",
       " 'lower',\n",
       " 'lower_',\n",
       " 'n_lefts',\n",
       " 'n_rights',\n",
       " 'nbor',\n",
       " 'norm',\n",
       " 'norm_',\n",
       " 'orth',\n",
       " 'orth_',\n",
       " 'pos',\n",
       " 'pos_',\n",
       " 'prefix',\n",
       " 'prefix_',\n",
       " 'prob',\n",
       " 'rank',\n",
       " 'right_edge',\n",
       " 'rights',\n",
       " 'sent_start',\n",
       " 'sentiment',\n",
       " 'set_extension',\n",
       " 'shape',\n",
       " 'shape_',\n",
       " 'similarity',\n",
       " 'string',\n",
       " 'subtree',\n",
       " 'suffix',\n",
       " 'suffix_',\n",
       " 'tag',\n",
       " 'tag_',\n",
       " 'text',\n",
       " 'text_with_ws',\n",
       " 'vector',\n",
       " 'vector_norm',\n",
       " 'vocab',\n",
       " 'whitespace_']"
      ]
     },
     "execution_count": 12,
     "metadata": {},
     "output_type": "execute_result"
    }
   ],
   "source": [
    "[prop for prop in dir(pride[4]) if not prop.startswith('_')]"
   ]
  },
  {
   "cell_type": "markdown",
   "metadata": {},
   "source": [
    "Using just the indices (`.i`), we can make a lexical dispersion plot for the occurrences of that word in the novel. (This is just the SpaCy equivalent of the lexical dispersion plot from the NLTK Book, chapter 1.) "
   ]
  },
  {
   "cell_type": "code",
   "execution_count": 13,
   "metadata": {},
   "outputs": [
    {
     "data": {
      "text/plain": [
       "4"
      ]
     },
     "execution_count": 13,
     "metadata": {},
     "output_type": "execute_result"
    }
   ],
   "source": [
    "pride[4].i"
   ]
  },
  {
   "cell_type": "code",
   "execution_count": 14,
   "metadata": {
    "collapsed": true
   },
   "outputs": [],
   "source": [
    "def locations(needle, haystack): \n",
    "    \"\"\" \n",
    "    Make a list of locations, bin those into a histogram, \n",
    "    and finally put it into a Pandas Series object so that we\n",
    "    can later make it into a DataFrame. \n",
    "    \"\"\"\n",
    "    return pd.Series(np.histogram(\n",
    "        [word.i for word in haystack \n",
    "         if word.text.lower() == needle], bins=50)[0])"
   ]
  },
  {
   "cell_type": "code",
   "execution_count": 16,
   "metadata": {},
   "outputs": [
    {
     "data": {
      "text/plain": [
       "array([<matplotlib.axes._subplots.AxesSubplot object at 0x7f92af505c50>,\n",
       "       <matplotlib.axes._subplots.AxesSubplot object at 0x7f92af45d4e0>,\n",
       "       <matplotlib.axes._subplots.AxesSubplot object at 0x7f92af4657b8>,\n",
       "       <matplotlib.axes._subplots.AxesSubplot object at 0x7f92af3ac390>], dtype=object)"
      ]
     },
     "execution_count": 16,
     "metadata": {},
     "output_type": "execute_result"
    },
    {
     "data": {
      "image/png": "[encoded data removed]",
      "text/plain": [
       "<matplotlib.figure.Figure at 0x7f92af7ad160>"
      ]
     },
     "metadata": {},
     "output_type": "display_data"
    }
   ],
   "source": [
    "# I have no idea why I have to keep running this. \n",
    "rcParams['figure.figsize'] = 16, 8\n",
    "\n",
    "pd.DataFrame(\n",
    "    {name: locations(name.lower(), pride) \n",
    "     for name in ['Elizabeth', 'Darcy', 'Jane', 'Bennet']}\n",
    ").plot(subplots=True)"
   ]
  },
  {
   "cell_type": "markdown",
   "metadata": {},
   "source": [
    "See if you can tell which characters end up getting together at the end, just based on this plot. "
   ]
  },
  {
   "cell_type": "markdown",
   "metadata": {},
   "source": [
    "# Exploring Named Entities\n",
    "\n",
    "Named entities can be accessed through `doc.ents`. Let's find all the types of named entities from _Monty Python and the Holy Grail_: "
   ]
  },
  {
   "cell_type": "code",
   "execution_count": 18,
   "metadata": {},
   "outputs": [
    {
     "data": {
      "text/plain": [
       "{'CARDINAL',\n",
       " 'DATE',\n",
       " 'EVENT',\n",
       " 'FAC',\n",
       " 'GPE',\n",
       " 'LANGUAGE',\n",
       " 'LAW',\n",
       " 'LOC',\n",
       " 'MONEY',\n",
       " 'NORP',\n",
       " 'ORDINAL',\n",
       " 'ORG',\n",
       " 'PERSON',\n",
       " 'PRODUCT',\n",
       " 'QUANTITY',\n",
       " 'TIME',\n",
       " 'WORK_OF_ART'}"
      ]
     },
     "execution_count": 18,
     "metadata": {},
     "output_type": "execute_result"
    }
   ],
   "source": [
    "set([w.label_ for w in grail.ents])"
   ]
  },
  {
   "cell_type": "markdown",
   "metadata": {},
   "source": [
    "What about those that are works of art? "
   ]
  },
  {
   "cell_type": "code",
   "execution_count": 19,
   "metadata": {},
   "outputs": [
    {
     "data": {
      "text/plain": [
       "[Man', Thy mer--\n",
       " BLACK KNIGHT, The Tale of Sir, Farewell, SHRUBBER, Til, The Holy Hand Grenade, the Book of Armaments, Camaaaaaargue, Black Beast, Black Beast, Black Beast, the Gorge of Eternal Peril]"
      ]
     },
     "execution_count": 19,
     "metadata": {},
     "output_type": "execute_result"
    }
   ],
   "source": [
    "[ent for ent in grail.ents if ent.label_ == 'WORK_OF_ART']"
   ]
  },
  {
   "cell_type": "markdown",
   "metadata": {},
   "source": [
    "Place names? "
   ]
  },
  {
   "cell_type": "code",
   "execution_count": 20,
   "metadata": {},
   "outputs": [
    {
     "data": {
      "text/plain": [
       "[England,\n",
       " Mercea,\n",
       " Mercea,\n",
       " Providence,\n",
       " Hiyaah,\n",
       " Yeaaah,\n",
       " Yeaah,\n",
       " Bristol,\n",
       " England,\n",
       " I.  ,\n",
       " Zoot,\n",
       " Dingo,\n",
       " Zoot,\n",
       " Castle Anthrax,\n",
       " Neee,\n",
       " Thsss,\n",
       " Britain,\n",
       " Hiyya,\n",
       " Hiyya,\n",
       " Hiyah,\n",
       " Hiyya,\n",
       " Hoa,\n",
       " Antioch,\n",
       " Antioch,\n",
       " France,\n",
       " Saint Aauuuves,\n",
       " Cornwall,\n",
       " Assyria]"
      ]
     },
     "execution_count": 20,
     "metadata": {},
     "output_type": "execute_result"
    }
   ],
   "source": [
    "[ent for ent in grail.ents if ent.label_ == 'GPE']"
   ]
  },
  {
   "cell_type": "markdown",
   "metadata": {},
   "source": [
    "Organizations? "
   ]
  },
  {
   "cell_type": "code",
   "execution_count": 21,
   "metadata": {},
   "outputs": [
    {
     "data": {
      "text/plain": [
       "{'',\n",
       " 'ARTHUR',\n",
       " 'ARTHUR:',\n",
       " \"Aauuuuugh'\",\n",
       " 'Arimathea',\n",
       " 'Ayy',\n",
       " 'BEDEVERE',\n",
       " 'BLACK KNIGHT',\n",
       " 'CART',\n",
       " 'CARTOON',\n",
       " 'CONCORDE',\n",
       " 'Camelot',\n",
       " 'Chicken',\n",
       " 'Excalibur',\n",
       " 'FRENCH',\n",
       " 'Guy de Loimbard',\n",
       " 'Holy Grail',\n",
       " 'Iiiiives',\n",
       " 'KNIGHTS',\n",
       " 'Knights',\n",
       " 'Knights of Ni',\n",
       " 'Knights of the Round Table',\n",
       " 'LAUNCELOT',\n",
       " 'N--',\n",
       " 'PATSY',\n",
       " 'Pure',\n",
       " 'Quoi',\n",
       " \"That's--\",\n",
       " 'Un',\n",
       " 'VILLAGER',\n",
       " 'WITCH',\n",
       " 'n--',\n",
       " \"the BLACK KNIGHT's\",\n",
       " 'the Court of Camelot',\n",
       " 'the Holy Grail',\n",
       " 'the Holy Hand Grenade',\n",
       " 'the Holy Pin'}"
      ]
     },
     "execution_count": 21,
     "metadata": {},
     "output_type": "execute_result"
    }
   ],
   "source": [
    "set(list([ent.string.strip() for ent in grail.ents if ent.label_ == 'ORG']))"
   ]
  },
  {
   "cell_type": "markdown",
   "metadata": {},
   "source": [
    "How about groups of people? "
   ]
  },
  {
   "cell_type": "code",
   "execution_count": 22,
   "metadata": {},
   "outputs": [
    {
     "data": {
      "text/plain": [
       "{'Aaaugh',\n",
       " 'African ',\n",
       " 'Anarcho',\n",
       " 'Britons',\n",
       " 'English ',\n",
       " 'European ',\n",
       " 'FRENCH ',\n",
       " 'French',\n",
       " 'French ',\n",
       " 'Saxons'}"
      ]
     },
     "execution_count": 22,
     "metadata": {},
     "output_type": "execute_result"
    }
   ],
   "source": [
    "set([ent.string for ent in grail.ents if ent.label_ == 'NORP'])"
   ]
  },
  {
   "cell_type": "markdown",
   "metadata": {},
   "source": [
    "\"French\" here refers to French _people_, not the French language. We can verify that by getting all the sentences in which this particular type of entity occurs: "
   ]
  },
  {
   "cell_type": "code",
   "execution_count": 23,
   "metadata": {},
   "outputs": [
    {
     "data": {
      "text/plain": [
       "[I'm French!  ,\n",
       " Well, now, uh, Launcelot, Galahad, and I, uh, wait until nightfall, and then leap out of the rabbit, taking the French, uh, by surprise.  ,\n",
       " The ferocity of the French taunting took him completely by surprise, and Arthur became convinced that a new strategy was required if the quest for the Holy Grail were to be brought to a successful conclusion.  ,\n",
       " So, we French fellows outwit you a second time!,\n",
       " So, you think you could out-clever us French folk with your silly knees-bent running about advancing behaviour?!  ,\n",
       " [exciting music] [music stops] [silence] French persons!\n",
       " FRENCH GUARDS: [taunting] ...]"
      ]
     },
     "execution_count": 23,
     "metadata": {},
     "output_type": "execute_result"
    }
   ],
   "source": [
    "frenchPeople = [ent for ent in grail.ents if ent.label_ == 'NORP' and ent.string.strip() == 'French']\n",
    "[ent.sent for ent in frenchPeople]"
   ]
  },
  {
   "cell_type": "markdown",
   "metadata": {},
   "source": [
    "# Parts of Speech\n",
    "\n",
    "Each word already has a part of speech and a tag associated with it. Here's a list of all the parts of speech in _Pride and Prejudice_: "
   ]
  },
  {
   "cell_type": "code",
   "execution_count": 24,
   "metadata": {},
   "outputs": [
    {
     "data": {
      "text/plain": [
       "{83: 'ADJ',\n",
       " 84: 'ADP',\n",
       " 85: 'ADV',\n",
       " 88: 'CCONJ',\n",
       " 89: 'DET',\n",
       " 90: 'INTJ',\n",
       " 91: 'NOUN',\n",
       " 92: 'NUM',\n",
       " 93: 'PART',\n",
       " 94: 'PRON',\n",
       " 95: 'PROPN',\n",
       " 96: 'PUNCT',\n",
       " 98: 'SYM',\n",
       " 99: 'VERB',\n",
       " 100: 'X',\n",
       " 102: 'SPACE'}"
      ]
     },
     "execution_count": 24,
     "metadata": {},
     "output_type": "execute_result"
    }
   ],
   "source": [
    "# Make a quick-and-dirty lookup table of POS IDs, \n",
    "# since the default representation of a POS is numeric. \n",
    "tagDict = {w.pos: w.pos_ for w in pride} \n",
    "tagDict"
   ]
  },
  {
   "cell_type": "markdown",
   "metadata": {},
   "source": [
    "It's fun to compare the distribution of parts of speech in each text: "
   ]
  },
  {
   "cell_type": "code",
   "execution_count": 25,
   "metadata": {},
   "outputs": [
    {
     "data": {
      "text/plain": [
       "<matplotlib.axes._subplots.AxesSubplot at 0x7f92af4927b8>"
      ]
     },
     "execution_count": 25,
     "metadata": {},
     "output_type": "execute_result"
    },
    {
     "data": {
      "image/png": "[encoded data removed]",
      "text/plain": [
       "<matplotlib.figure.Figure at 0x7f92af41d630>"
      ]
     },
     "metadata": {},
     "output_type": "display_data"
    }
   ],
   "source": [
    "grailPOS = pd.Series(grail.count_by(spacy.attrs.POS))/len(grail)\n",
    "pridePOS = pd.Series(pride.count_by(spacy.attrs.POS))/len(pride)\n",
    "\n",
    "rcParams['figure.figsize'] = 16, 8\n",
    "df = pd.DataFrame([grailPOS, pridePOS], index=['Grail', 'Pride'])\n",
    "df.columns = [tagDict[column] for column in df.columns]\n",
    "df.T.plot(kind='bar')"
   ]
  },
  {
   "cell_type": "markdown",
   "metadata": {},
   "source": [
    "Now we can see, for instance, what the most common pronouns might be:"
   ]
  },
  {
   "cell_type": "code",
   "execution_count": 26,
   "metadata": {},
   "outputs": [
    {
     "data": {
      "text/plain": [
       "[('I', 2066),\n",
       " ('she', 1384),\n",
       " ('it', 1287),\n",
       " ('you', 1145),\n",
       " ('he', 1100),\n",
       " ('him', 762),\n",
       " ('her', 725),\n",
       " ('they', 477),\n",
       " ('me', 444),\n",
       " ('them', 433)]"
      ]
     },
     "execution_count": 26,
     "metadata": {},
     "output_type": "execute_result"
    }
   ],
   "source": [
    "prideAdjs = [w for w in pride if w.pos_ == 'PRON']\n",
    "Counter([w.string.strip() for w in prideAdjs]).most_common(10)"
   ]
  },
  {
   "cell_type": "code",
   "execution_count": 27,
   "metadata": {},
   "outputs": [
    {
     "data": {
      "text/plain": [
       "[('I', 240),\n",
       " ('you', 202),\n",
       " ('it', 106),\n",
       " ('You', 61),\n",
       " ('We', 60),\n",
       " ('we', 57),\n",
       " ('me', 46),\n",
       " ('He', 46),\n",
       " ('he', 42),\n",
       " ('It', 35)]"
      ]
     },
     "execution_count": 27,
     "metadata": {},
     "output_type": "execute_result"
    }
   ],
   "source": [
    "grailAdjs = [w for w in grail if w.pos_ == 'PRON']\n",
    "Counter([w.string.strip() for w in grailAdjs]).most_common(10)"
   ]
  },
  {
   "cell_type": "markdown",
   "metadata": {},
   "source": [
    "Let's try this on the level of a sentence. First, let's get all the sentences in which Sir Robin is explicitly mentioned: "
   ]
  },
  {
   "cell_type": "code",
   "execution_count": 28,
   "metadata": {},
   "outputs": [
    {
     "data": {
      "text/plain": [
       "[The wise Sir Bedevere was the first to join King Arthur's knights, but other illustrious names were soon to follow: Sir Lancelot the Brave; Sir Gallahad the Pure; and Sir Robin the-not-quite-so-brave-as-Sir-Lancelot, who had nearly fought the Dragon of Angnor, who had nearly stood up to the vicious Chicken of Bristol, and who had personally wet himself at the Battle of Badon Hill; and the aptly named Sir Not-appearing-in-this-film.  ,\n",
       " The Tale of Sir Robin.  ,\n",
       " Sir Robin rode north, through the dark forest of Ewing, accompanied by his favorite minstrels.,\n",
       " Bravely bold Sir Robin, rode forth from Camelot.  ,\n",
       " He was not afraid to die, O brave Sir Robin.  ,\n",
       " Brave, brave, brave, brave Sir Robin!  ,\n",
       " To have his kneecaps split, and his body burned away, And his limbs all hacked and mangled, brave Sir Robin!,\n",
       " He is brave Sir Robin, brave Sir Robin, who--\n",
       " ROBIN:,\n",
       " Brave Sir Robin ran away.,\n",
       " Yes, brave Sir Robin turned about\n",
       " ROBIN: I didn't!,\n",
       " Bravest of the brave, Sir Robin.,\n",
       " My liege, it's Sir Robin!,\n",
       " ARTHUR: Sir Robin!\n",
       " ROBIN:,\n",
       " And so, Arthur and Bedevere and Sir Robin set out on their search to find the enchanter of whom the old man had spoken in scene twenty-four.  ,\n",
       " ARTHUR: Sir Robin!,\n",
       " ARTHUR: Brave Sir Robin, you go.,\n",
       " Sir Robin of Camelot.]"
      ]
     },
     "execution_count": 28,
     "metadata": {},
     "output_type": "execute_result"
    }
   ],
   "source": [
    "robinSents = [sent for sent in grail.sents if 'Sir Robin' in sent.string]\n",
    "robinSents"
   ]
  },
  {
   "cell_type": "markdown",
   "metadata": {},
   "source": [
    "Now let's analyze just one of these sentences."
   ]
  },
  {
   "cell_type": "code",
   "execution_count": 29,
   "metadata": {},
   "outputs": [
    {
     "data": {
      "text/plain": [
       "Sir Robin rode north, through the dark forest of Ewing, accompanied by his favorite minstrels."
      ]
     },
     "execution_count": 29,
     "metadata": {},
     "output_type": "execute_result"
    }
   ],
   "source": [
    "r2 = robinSents[2]\n",
    "r2"
   ]
  },
  {
   "cell_type": "markdown",
   "metadata": {},
   "source": [
    "Let's look at the tags and parts of speech: "
   ]
  },
  {
   "cell_type": "code",
   "execution_count": 30,
   "metadata": {},
   "outputs": [
    {
     "name": "stdout",
     "output_type": "stream",
     "text": [
      "Sir NNP PROPN\n",
      "Robin NNP PROPN\n",
      "rode VBD VERB\n",
      "north RB ADV\n",
      ", , PUNCT\n",
      "through IN ADP\n",
      "the DT DET\n",
      "dark JJ ADJ\n",
      "forest NN NOUN\n",
      "of IN ADP\n",
      "Ewing NNP PROPN\n",
      ", , PUNCT\n",
      "accompanied VBN VERB\n",
      "by IN ADP\n",
      "his PRP$ ADJ\n",
      "favorite JJ ADJ\n",
      "minstrels NNS NOUN\n",
      ". . PUNCT\n",
      "\n",
      "  SPACE\n"
     ]
    }
   ],
   "source": [
    "for word in r2: \n",
    "    print(word, word.tag_, word.pos_)"
   ]
  },
  {
   "cell_type": "markdown",
   "metadata": {},
   "source": [
    "# Dependency Parsing\n",
    "Now let's analyze the structure of the sentence. "
   ]
  },
  {
   "cell_type": "markdown",
   "metadata": {},
   "source": [
    "This sentence has lots of properties: "
   ]
  },
  {
   "cell_type": "code",
   "execution_count": 31,
   "metadata": {},
   "outputs": [
    {
     "data": {
      "text/plain": [
       "['as_doc',\n",
       " 'doc',\n",
       " 'end',\n",
       " 'end_char',\n",
       " 'ent_id',\n",
       " 'ent_id_',\n",
       " 'get_extension',\n",
       " 'get_lca_matrix',\n",
       " 'has_extension',\n",
       " 'has_vector',\n",
       " 'label',\n",
       " 'label_',\n",
       " 'lefts',\n",
       " 'lemma_',\n",
       " 'lower_',\n",
       " 'merge',\n",
       " 'n_lefts',\n",
       " 'n_rights',\n",
       " 'noun_chunks',\n",
       " 'orth_',\n",
       " 'rights',\n",
       " 'root',\n",
       " 'sent',\n",
       " 'sentiment',\n",
       " 'set_extension',\n",
       " 'similarity',\n",
       " 'start',\n",
       " 'start_char',\n",
       " 'string',\n",
       " 'subtree',\n",
       " 'text',\n",
       " 'text_with_ws',\n",
       " 'to_array',\n",
       " 'upper_',\n",
       " 'vector',\n",
       " 'vector_norm']"
      ]
     },
     "execution_count": 31,
     "metadata": {},
     "output_type": "execute_result"
    }
   ],
   "source": [
    "[prop for prop in dir(r2) if not prop.startswith('_')]"
   ]
  },
  {
   "cell_type": "markdown",
   "metadata": {},
   "source": [
    "To drill down into the sentence, we can start with the root: "
   ]
  },
  {
   "cell_type": "code",
   "execution_count": 32,
   "metadata": {},
   "outputs": [
    {
     "data": {
      "text/plain": [
       "rode"
      ]
     },
     "execution_count": 32,
     "metadata": {},
     "output_type": "execute_result"
    }
   ],
   "source": [
    "r2.root"
   ]
  },
  {
   "cell_type": "markdown",
   "metadata": {},
   "source": [
    "That root has children: "
   ]
  },
  {
   "cell_type": "code",
   "execution_count": 33,
   "metadata": {},
   "outputs": [
    {
     "data": {
      "text/plain": [
       "[Robin, north, ,, through, ,, accompanied, .]"
      ]
     },
     "execution_count": 33,
     "metadata": {},
     "output_type": "execute_result"
    }
   ],
   "source": [
    "list(r2.root.children)"
   ]
  },
  {
   "cell_type": "markdown",
   "metadata": {},
   "source": [
    "Let's see all of the children for each word:  "
   ]
  },
  {
   "cell_type": "code",
   "execution_count": 34,
   "metadata": {},
   "outputs": [
    {
     "name": "stdout",
     "output_type": "stream",
     "text": [
      "Sir :  []\n",
      "Robin :  [Sir]\n",
      "rode :  [Robin, north, ,, through, ,, accompanied, .]\n",
      "north :  []\n",
      ", :  []\n",
      "through :  [forest]\n",
      "the :  []\n",
      "dark :  []\n",
      "forest :  [the, dark, of]\n",
      "of :  [Ewing]\n",
      "Ewing :  []\n",
      ", :  []\n",
      "accompanied :  [by]\n",
      "by :  [minstrels]\n",
      "his :  []\n",
      "favorite :  []\n",
      "minstrels :  [his, favorite]\n",
      ". :  [\n",
      "]\n",
      "\n",
      " :  []\n"
     ]
    }
   ],
   "source": [
    "for word in r2: \n",
    "    print(word, ': ', str(list(word.children)))"
   ]
  },
  {
   "cell_type": "markdown",
   "metadata": {},
   "source": [
    "This is very messy-looking, so let's create a nicer visualization. Here I'll be using a class I wrote called sentenceTree, available in the `sent2tree` module in this repository. It just shoehorns a SpaCy span (sentence or other grammatical fragment) into a tree that can be read by the `ete3` library for handling trees. This library just allows for some pretty visualizations of trees. "
   ]
  },
  {
   "cell_type": "code",
   "execution_count": 38,
   "metadata": {},
   "outputs": [
    {
     "name": "stdout",
     "output_type": "stream",
     "text": [
      "Sir Robin rode north, through the dark forest of Ewing, accompanied by his favorite minstrels.\n",
      "\n"
     ]
    },
    {
     "data": {
      "image/png": "[encoded data removed]",
      "text/plain": [
       "<IPython.core.display.Image object>"
      ]
     },
     "execution_count": 38,
     "metadata": {},
     "output_type": "execute_result"
    }
   ],
   "source": [
    "sentenceTree(r2).render()"
   ]
  },
  {
   "cell_type": "markdown",
   "metadata": {},
   "source": [
    "You can already see how useful this might be. Since adjectives are typically children of the things they describe, we can get approximations for adjectives that describe characters. How is Sir Robin described? "
   ]
  },
  {
   "cell_type": "code",
   "execution_count": 41,
   "metadata": {},
   "outputs": [
    {
     "name": "stdout",
     "output_type": "stream",
     "text": [
      "brave\n",
      "brave\n",
      "brave\n",
      "brave\n",
      "brave\n"
     ]
    }
   ],
   "source": [
    "for sent in robinSents: \n",
    "    for word in sent: \n",
    "        if 'Robin' in word.string: \n",
    "            for child in word.children: \n",
    "                if child.pos_ == 'ADJ':\n",
    "                    print(child)"
   ]
  },
  {
   "cell_type": "markdown",
   "metadata": {},
   "source": [
    "Looks like we shouldn't always trust syntactic insight! Now let's do something similar for Pride and Prejudice. First, we'll use named entity extraction to get a list of the most frequently mentioned characters:  "
   ]
  },
  {
   "cell_type": "code",
   "execution_count": 42,
   "metadata": {},
   "outputs": [
    {
     "data": {
      "text/plain": [
       "[('', 2811),\n",
       " ('Elizabeth', 616),\n",
       " ('Darcy', 406),\n",
       " ('Bennet', 305),\n",
       " ('Jane', 288),\n",
       " ('Bingley', 237),\n",
       " ('Wickham', 182),\n",
       " ('Collins', 179),\n",
       " ('Lydia', 164),\n",
       " ('Lizzy', 95)]"
      ]
     },
     "execution_count": 42,
     "metadata": {},
     "output_type": "execute_result"
    }
   ],
   "source": [
    "Counter([w.string.strip() for w in pride.ents if w.label_ == 'PERSON']).most_common(10)"
   ]
  },
  {
   "cell_type": "markdown",
   "metadata": {},
   "source": [
    "Now we can write a function that walks down the tree from each character, looking for the first adjectives it can find: "
   ]
  },
  {
   "cell_type": "code",
   "execution_count": 43,
   "metadata": {
    "collapsed": true
   },
   "outputs": [],
   "source": [
    "def adjectivesDescribingCharacters(text, character):\n",
    "    sents = [sent for sent in pride.sents if character in sent.string]\n",
    "    adjectives = []\n",
    "    for sent in sents: \n",
    "        for word in sent: \n",
    "            if character in word.string:\n",
    "                for child in word.children: \n",
    "                    if child.pos_ == 'ADJ': \n",
    "                        adjectives.append(child.string.strip())\n",
    "    return Counter(adjectives).most_common(10)"
   ]
  },
  {
   "cell_type": "markdown",
   "metadata": {},
   "source": [
    "We'll try it on Mr. Darcy: "
   ]
  },
  {
   "cell_type": "code",
   "execution_count": 44,
   "metadata": {},
   "outputs": [
    {
     "data": {
      "text/plain": [
       "[('“', 6),\n",
       " ('late', 6),\n",
       " ('superior', 1),\n",
       " ('abominable', 1),\n",
       " ('poor', 1),\n",
       " ('intelligible', 1),\n",
       " ('her', 1),\n",
       " ('little', 1),\n",
       " ('disagreeable', 1)]"
      ]
     },
     "execution_count": 44,
     "metadata": {},
     "output_type": "execute_result"
    }
   ],
   "source": [
    "adjectivesDescribingCharacters(pride, 'Darcy')"
   ]
  },
  {
   "cell_type": "markdown",
   "metadata": {},
   "source": [
    "Now let's do the same sort of thing, but look for associated verbs. First, let's get all the sentences in which Elizabeth is mentioned:  "
   ]
  },
  {
   "cell_type": "code",
   "execution_count": 45,
   "metadata": {
    "collapsed": true
   },
   "outputs": [],
   "source": [
    "elizabethSentences = [sent for sent in pride.sents if 'Elizabeth' in sent.string]"
   ]
  },
  {
   "cell_type": "markdown",
   "metadata": {},
   "source": [
    "And we can peek at one of them: "
   ]
  },
  {
   "cell_type": "code",
   "execution_count": 46,
   "metadata": {},
   "outputs": [
    {
     "data": {
      "text/plain": [
       "Mr. Darcy walked off; and Elizabeth\n",
       "remained with no very cordial feelings toward him."
      ]
     },
     "execution_count": 46,
     "metadata": {},
     "output_type": "execute_result"
    }
   ],
   "source": [
    "elizabethSentences[3]"
   ]
  },
  {
   "cell_type": "code",
   "execution_count": 48,
   "metadata": {},
   "outputs": [
    {
     "name": "stdout",
     "output_type": "stream",
     "text": [
      "Mr. Darcy walked off; and Elizabeth\n",
      "remained with no very cordial feelings toward him.\n"
     ]
    },
    {
     "data": {
      "image/png": "[encoded data removed]",
      "text/plain": [
       "<IPython.core.display.Image object>"
      ]
     },
     "execution_count": 48,
     "metadata": {},
     "output_type": "execute_result"
    }
   ],
   "source": [
    "sentenceTree(elizabethSentences[3]).render()"
   ]
  },
  {
   "cell_type": "markdown",
   "metadata": {},
   "source": [
    "We want the verb associated with Elizabeth, _remained_, not the root verb of the sentence, _walked_, which is associated with Mr. Darcy. So let's write a function that will walk up the dependency tree from a character's name until we get to the first verb. We'll use lemmas instead of the conjugated forms to collapse _remain_, _remains_, and _remained_ into one verb: _remain_. "
   ]
  },
  {
   "cell_type": "code",
   "execution_count": 53,
   "metadata": {
    "collapsed": true
   },
   "outputs": [],
   "source": [
    "def verbsForCharacters(text, character):\n",
    "    sents = [sent for sent in pride.sents if character in sent.string]\n",
    "    charWords = []\n",
    "    for sent in sents: \n",
    "        for word in sent: \n",
    "            if character in word.string: \n",
    "                charWords.append(word)\n",
    "    charAdjectives = []\n",
    "    for word in charWords: \n",
    "        # Start walking up the list of ancestors \n",
    "        # Until we get to the first verb. \n",
    "        for ancestor in word.ancestors: \n",
    "            if ancestor.pos_.startswith('V'): \n",
    "                charAdjectives.append(ancestor.lemma_.strip())\n",
    "    return Counter(charAdjectives).most_common(20)"
   ]
  },
  {
   "cell_type": "code",
   "execution_count": 54,
   "metadata": {
    "scrolled": true
   },
   "outputs": [
    {
     "data": {
      "text/plain": [
       "[('be', 173),\n",
       " ('say', 65),\n",
       " ('have', 32),\n",
       " ('cry', 24),\n",
       " ('reply', 22),\n",
       " ('see', 22),\n",
       " ('feel', 21),\n",
       " ('make', 18),\n",
       " ('look', 16),\n",
       " ('receive', 12),\n",
       " ('find', 11),\n",
       " ('go', 10),\n",
       " ('give', 10),\n",
       " ('begin', 9),\n",
       " ('take', 9),\n",
       " ('help', 9),\n",
       " ('listen', 8),\n",
       " ('think', 8),\n",
       " ('pass', 8),\n",
       " ('walk', 7)]"
      ]
     },
     "execution_count": 54,
     "metadata": {},
     "output_type": "execute_result"
    }
   ],
   "source": [
    "elizabethVerbs = verbsForCharacters(pride, 'Elizabeth')\n",
    "elizabethVerbs"
   ]
  },
  {
   "cell_type": "code",
   "execution_count": 55,
   "metadata": {
    "collapsed": true
   },
   "outputs": [],
   "source": [
    "darcyVerbs = verbsForCharacters(pride, 'Darcy')\n",
    "janeVerbs = verbsForCharacters(pride, 'Jane')"
   ]
  },
  {
   "cell_type": "markdown",
   "metadata": {},
   "source": [
    "We can now merge these counts into a single table, and then we can visualize it with Pandas. "
   ]
  },
  {
   "cell_type": "code",
   "execution_count": 56,
   "metadata": {},
   "outputs": [
    {
     "data": {
      "text/plain": [
       "<matplotlib.axes._subplots.AxesSubplot at 0x7f925fdce710>"
      ]
     },
     "execution_count": 56,
     "metadata": {},
     "output_type": "execute_result"
    },
    {
     "data": {
      "image/png": "[encoded data removed]",
      "text/plain": [
       "<matplotlib.figure.Figure at 0x7f926804fef0>"
      ]
     },
     "metadata": {},
     "output_type": "display_data"
    }
   ],
   "source": [
    "def verbsToMatrix(verbCounts): \n",
    "    \"\"\" \n",
    "    Takes verb counts given by verbsForCharacters \n",
    "    and makes Pandas Series out of them, suitabe for combination in \n",
    "    a DataFrame. \n",
    "    \"\"\"\n",
    "    return pd.Series({t[0]: t[1] for t in verbCounts})\n",
    "\n",
    "verbsDF = pd.DataFrame({'Elizabeth': verbsToMatrix(elizabethVerbs), \n",
    "                        'Darcy': verbsToMatrix(darcyVerbs), \n",
    "                        'Jane': verbsToMatrix(janeVerbs)}).fillna(0)\n",
    "verbsDF.plot(kind='bar', figsize=(14,4))"
   ]
  },
  {
   "cell_type": "markdown",
   "metadata": {},
   "source": [
    "# Probabilities\n",
    "\n",
    "SpaCy has a list of probabilities for English words, and these probabilities are automatically associated with each word once we parse the document. Let's see what the distribution is like: "
   ]
  },
  {
   "cell_type": "code",
   "execution_count": 57,
   "metadata": {},
   "outputs": [
    {
     "data": {
      "text/plain": [
       "<matplotlib.axes._subplots.AxesSubplot at 0x7f9250e3ee80>"
      ]
     },
     "execution_count": 57,
     "metadata": {},
     "output_type": "execute_result"
    },
    {
     "data": {
      "image/png": "[encoded data removed]",
      "text/plain": [
       "<matplotlib.figure.Figure at 0x7f92a7b105f8>"
      ]
     },
     "metadata": {},
     "output_type": "display_data"
    }
   ],
   "source": [
    "probabilities = [word.prob for word in grail] \n",
    "pd.Series(probabilities).hist()"
   ]
  },
  {
   "cell_type": "markdown",
   "metadata": {},
   "source": [
    "Let's peek at some of the improbable words for _Monty Python and the Holy Grail_. "
   ]
  },
  {
   "cell_type": "code",
   "execution_count": 58,
   "metadata": {
    "scrolled": true
   },
   "outputs": [
    {
     "data": {
      "text/plain": [
       "['maynard',\n",
       " 'headoff',\n",
       " 'enchanter',\n",
       " 'iiiiives',\n",
       " 'nador',\n",
       " 'thpppt',\n",
       " 'nnnnniggets',\n",
       " 'niggets',\n",
       " 'loimbard',\n",
       " 'angnor',\n",
       " 'mother--',\n",
       " 'oh--',\n",
       " 'galahad',\n",
       " 'pen--',\n",
       " 'mer--',\n",
       " 'badger--',\n",
       " 'twong',\n",
       " \"hadn't--\",\n",
       " 'aaaaugh',\n",
       " \"saying,'o\"]"
      ]
     },
     "execution_count": 58,
     "metadata": {},
     "output_type": "execute_result"
    }
   ],
   "source": [
    "list(set([word.string.strip().lower() for word in grail if word.prob < -19]))[:20]"
   ]
  },
  {
   "cell_type": "markdown",
   "metadata": {},
   "source": [
    "Now we can do some rudimentary information extraction by counting the improbable words: "
   ]
  },
  {
   "cell_type": "code",
   "execution_count": 59,
   "metadata": {
    "scrolled": true
   },
   "outputs": [
    {
     "data": {
      "text/plain": [
       "[('bedevere', 61),\n",
       " ('head', 54),\n",
       " ('bridgekeeper', 18),\n",
       " ('zoot', 14),\n",
       " ('minstrel', 13),\n",
       " ('concorde', 12),\n",
       " ('rewr', 10),\n",
       " ('person', 8),\n",
       " ('crone', 7),\n",
       " ('aaaaugh', 7),\n",
       " ('a--', 5),\n",
       " ('twong', 4),\n",
       " ('aaaugh', 4),\n",
       " (\"we're--\", 4),\n",
       " ('number', 4),\n",
       " ('ninepence', 3),\n",
       " ('u--', 3),\n",
       " ('w--', 3),\n",
       " ('hiyya', 3),\n",
       " ('um--', 3)]"
      ]
     },
     "execution_count": 59,
     "metadata": {},
     "output_type": "execute_result"
    }
   ],
   "source": [
    "Counter([word.string.strip().lower() \n",
    "         for word in grail \n",
    "         if word.prob < -19.5]).most_common(20)"
   ]
  },
  {
   "cell_type": "markdown",
   "metadata": {},
   "source": [
    "What are those words for _Pride and Prejudice_? "
   ]
  },
  {
   "cell_type": "code",
   "execution_count": 60,
   "metadata": {},
   "outputs": [
    {
     "data": {
      "text/plain": [
       "[('rosings', 26),\n",
       " ('gentlemanlike', 8),\n",
       " ('twelvemonth', 7),\n",
       " ('number', 5),\n",
       " ('quadrille', 4),\n",
       " ('mark', 4),\n",
       " ('repine', 4),\n",
       " ('parsonage', 4),\n",
       " ('discomposure', 3),\n",
       " ('regimentals', 3),\n",
       " ('suitableness', 3),\n",
       " ('overspread', 3),\n",
       " ('composedly', 3),\n",
       " ('fretfully', 2),\n",
       " ('archly', 2),\n",
       " ('unaffectedly', 2),\n",
       " ('panegyric', 2),\n",
       " ('precipitance', 2),\n",
       " ('prepossession', 2),\n",
       " ('discomposed', 2)]"
      ]
     },
     "execution_count": 60,
     "metadata": {},
     "output_type": "execute_result"
    }
   ],
   "source": [
    "Counter([word.string.strip().lower() \n",
    "         for word in pride \n",
    "         if word.prob < -19.5 \n",
    "         and word.is_alpha\n",
    "         and word.pos_ != 'PROPN'] # This time, let's ignore proper nouns.\n",
    "       ).most_common(20)"
   ]
  },
  {
   "cell_type": "markdown",
   "metadata": {},
   "source": [
    "We can do this with ngrams, too, with some fancy Python magic:"
   ]
  },
  {
   "cell_type": "code",
   "execution_count": 61,
   "metadata": {
    "collapsed": true
   },
   "outputs": [],
   "source": [
    "def ngrams(doc, n): \n",
    "    doc = [word for word in doc \n",
    "           if word.is_alpha # Get rid of punctuation\n",
    "           if not word.string.isupper()] # Get rid of all-caps speaker headings\n",
    "    return list(zip(*[doc[i:] for i in range(n)]))"
   ]
  },
  {
   "cell_type": "code",
   "execution_count": 62,
   "metadata": {
    "collapsed": true
   },
   "outputs": [],
   "source": [
    "grailGrams = set(ngrams(grail, 3))"
   ]
  },
  {
   "cell_type": "code",
   "execution_count": 63,
   "metadata": {},
   "outputs": [
    {
     "name": "stdout",
     "output_type": "stream",
     "text": [
      "(Ni, Ni, Ni)\n",
      "(Aaah, hiyaah, etc)\n",
      "(domine, dona, eis)\n",
      "(Away, away, varletesses)\n",
      "(chanting, Pie, Iesu)\n",
      "(haw, haw, Haw)\n",
      "(domine, donaeis, requiem)\n",
      "(fold, fold, twong)\n",
      "(dona, eis, requiem)\n",
      "(dona, eis, requiem)\n",
      "(Camelot, Hurry, Sir)\n",
      "(clang, Hiyaah, clang)\n",
      "(brave, Sir, Launcelot)\n",
      "(heeh, ooh, twang)\n",
      "(Halt, horn, Hallo)\n",
      "(Neee, wom, Neee)\n",
      "(Aah, Hiyah, Aah)\n",
      "(Look, squeak, Aaaugh)\n",
      "(Launcelot, Launcelot, Launcelot)\n",
      "(auuuuuuuugh, Hee, hee)\n",
      "(number, thou, shalt)\n",
      "(attack, Ulk, thump)\n",
      "(Fetchez, la, vache)\n",
      "(clang, squeak, squeak)\n",
      "(squeak, clllank, What)\n",
      "(Launcelot, Launcelot, police)\n",
      "(domine, dona, eis)\n",
      "(English, k, niggets)\n",
      "(Ni, Agh, Ni)\n",
      "(English, k, nnnnniggets)\n",
      "(Mud, Churches, Churches)\n",
      "(unsingable, We, opera)\n",
      "(mayest, blow, thine)\n",
      "(Say, Ni, Aggh)\n",
      "(Neee, wom, Those)\n",
      "(haw, haw, haw)\n",
      "(chanting, Pie, Iesu)\n",
      "(place, Aaaaugh, Aaaaugh)\n",
      "(radio, Launcelot, Launcelot)\n",
      "(and, Neee, wom)\n",
      "(knight, Sir, Galahad)\n",
      "(twong, baaaa, Jesus)\n",
      "(English, k, nnniggets)\n",
      "(Ni, Ni, Ni)\n",
      "(rrrr, rrrr, drilllll)\n",
      "(fair, cop, Burn)\n",
      "(Ho, ho, Woa)\n",
      "(Launcelot, Galahad, and)\n",
      "(boom, Thsss, boom)\n",
      "(squeak, squeak, squeak)\n",
      "(scribble, scribble, scribble)\n",
      "(scribble, scribble, fold)\n",
      "(Sir, Bedevere, Explain)\n",
      "(Thou, hast, vouchsafed)\n",
      "(shrubberies, Ni, cough)\n",
      "(Aaaaaah, Aaaaaaaaah, woosh)\n",
      "(Iesu, domine, Wayy)\n",
      "(requiem, Wayy, twang)\n",
      "(wom, Neee, wom)\n",
      "(Pie, Iesu, domine)\n",
      "(supports, whop, clunk)\n",
      "(squeak, squeak, squeak)\n",
      "(squeak, squeak, squeak)\n",
      "(whispering, un, lapin)\n",
      "(Pie, Iesu, domine)\n",
      "(ooh, twang, chanting)\n",
      "(Aaauugh, Black, Beast)\n",
      "(wayy, twang, splash)\n",
      "(Shrubber, arrange, design)\n",
      "(Aaaaugh, Aaaaugh, Stop)\n",
      "(Thsss, boom, Ayy)\n",
      "(afoot, Anarcho, syndicalism)\n",
      "(Launcelot, Hurry, Shut)\n",
      "(ecky, pikang, zoop)\n",
      "(donaeis, requiem, Pie)\n",
      "(Aaagh, King, Arthur)\n",
      "(haw, haw, Ha)\n",
      "(k, nnniggets, Thpppt)\n",
      "(wooden, clank, twong)\n",
      "(dangerous, Sir, Launcelot)\n",
      "(dona, eisrequiem, How)\n",
      "(squeak, squeak, squeak)\n",
      "(squeak, squeak, squeak)\n",
      "(Bedwere, of, Rheged)\n",
      "(purest, shimmering, samite)\n",
      "(dona, eis, requiem)\n",
      "(today, Heee, Hoa)\n",
      "(bonk, Pie, Iesu)\n",
      "(pansy, clang, Huyah)\n",
      "(persons, taunting, Dappy)\n",
      "(Shh, Shh, Shh)\n",
      "(ecky, ecky, ecky)\n",
      "(Aaagh, Ooh, King)\n",
      "(Launcelot, Launcelot, Launcelot)\n",
      "(Morning, Oooh, ptoo)\n",
      "(Hee, hee, heh)\n",
      "(Fetchez, la, vache)\n",
      "(Aaaugh, Aaaugh, Augh)\n",
      "(clop, clop, clop)\n",
      "(squeak, Aaaaugh, Aaaugh)\n",
      "(dona, eis, requiem)\n",
      "(Iesu, domine, bonk)\n",
      "(Ni, Ni, Ni)\n",
      "(clop, whinny, whinny)\n",
      "(Haw, Haw, haw)\n",
      "(taunting, Fiends, tear)\n",
      "(twong, mooooooo, Jesus)\n",
      "(Bon, magne, Over)\n",
      "(on, Concorde, thwonk)\n",
      "(sawwwww, clunk, crash)\n",
      "(domine, Wayy, splash)\n",
      "(awaaaaay, roar, Keep)\n",
      "(Shh, Shh, Shh)\n",
      "(uh, Launcelot, Galahad)\n",
      "(trusty, servant, Patsy)\n",
      "(uh, Launcelot, Galahad)\n",
      "(Shut, uuup, singing)\n",
      "(Concorde, Concorde, Speak)\n",
      "(Ni, Ow, Ow)\n",
      "(Ow, Ow, Agh)\n",
      "(un, cadeau, Oui)\n",
      "(Cherries, Mud, Churches)\n",
      "(Ni, Shh, Shh)\n",
      "(Hurry, Sir, Launcelot)\n",
      "(uuggggggh, Aauuggghhh, Aaauggh)\n",
      "(domine, bonk, dona)\n",
      "(mangy, scots, git)\n",
      "(Armaments, Armaments, Chapter)\n",
      "(zhiv, Ni, Therefore)\n",
      "(clop, clop, clop)\n",
      "(thud, Allo, dappy)\n",
      "(Woa, wayy, twang)\n",
      "(mooooooo, Jesus, Christ)\n",
      "(Hiyya, Hey, Hiyya)\n",
      "(Concorde, thwonk, Message)\n",
      "(Aah, Aaah, Hyy)\n",
      "(squeak, squeak, creak)\n",
      "(Ages, Umhm, uh)\n",
      "(Sir, Launcelot, sir)\n",
      "(lapin, de, bois)\n",
      "(Right, Yeaaah, Yeaah)\n",
      "(thou, mayest, blow)\n",
      "(Launcelot, angels, sing)\n",
      "(Shh, Shh, Shh)\n",
      "(squeak, squeak, rrrr)\n",
      "(dappy, English, k)\n",
      "(requiem, bonk, Pie)\n",
      "(Silence, foul, temptress)\n",
      "(haw, haw, haw)\n",
      "(clank, scribble, scribble)\n",
      "(sell, shrubberies, Ni)\n",
      "(Ni, Ni, Ni)\n",
      "(clop, clop, rewr)\n",
      "(dona, eis, requiem)\n",
      "(thump, squeak, boom)\n",
      "(heh, chanting, dona)\n",
      "(Thppppt, taunting, Fiends)\n",
      "(Hiyah, Aah, Aaah)\n",
      "(wise, Sir, Bedevere)\n",
      "(Idiom, sir, Idiom)\n",
      "(squeak, squeak, squeak)\n",
      "(Grenade, chanting, Pie)\n",
      "(Ni, Ni, Shh)\n",
      "(Gawain, Ector, And)\n",
      "(Iesu, domine, dona)\n",
      "(carve, aaggggh, He)\n",
      "(chanting, Pie, Iesu)\n",
      "(Aaaugh, dramatic, chord)\n",
      "(Allo, dappy, English)\n",
      "(clop, clop, clop)\n",
      "(Ulk, thump, The)\n",
      "(Zoot, Just, Zoot)\n",
      "(Shh, Shh, Shh)\n",
      "(Thsss, boom, Ayy)\n",
      "(Heh, heh, heeh)\n",
      "(Shh, Ni, Ni)\n",
      "(Dramatically, sir, Dramatically)\n",
      "(clop, clop, clop)\n",
      "(samite, held, aloft)\n",
      "(Listen, Herbert, Erbert)\n",
      "(Ni, Ni, Ni)\n",
      "(un, lapin, lapin)\n",
      "(eis, requiem, bonk)\n",
      "(Hya, Hiyya, Ha)\n",
      "(twang, whispering, Forgive)\n",
      "(Shh, Shh, Shh)\n",
      "(eis, requiem, Pie)\n",
      "(domine, witch, witch)\n",
      "(Aaah, Hyy, Hya)\n",
      "(va, Bon, magne)\n",
      "(Brave, Sir, Gallahad)\n",
      "(stops, stab, Aagh)\n",
      "(Huyah, clang, Hiyaah)\n",
      "(roar, Shh, Shh)\n",
      "(shrubberies, Yes, Shrubberies)\n",
      "(squeak, squeak, squeak)\n",
      "(minstrels, singing, Bravely)\n",
      "(Pie, Iesu, domine)\n",
      "(Aaaaugh, Aaaugh, etc)\n",
      "(clunk, crash, clang)\n",
      "(squeak, squeak, squeak)\n",
      "(Thpppt, taunting, We)\n",
      "(clop, clop, Halt)\n",
      "(rewr, rewr, rewr)\n",
      "(clop, clop, clop)\n",
      "(away, Thppppt, taunting)\n",
      "(lose, Gawain, Ector)\n",
      "(Ni, Ni, Ni)\n",
      "(Quoi, Fetchez, la)\n",
      "(Huy, Uuh, Aaah)\n",
      "(domine, bonk, dona)\n",
      "(yes, Saint, Iiiives)\n",
      "(clop, clop, Whoa)\n",
      "(individually, clop, clop)\n",
      "(squeak, creak, whispering)\n",
      "(Quite, indefatigable, Between)\n",
      "(squeak, Aaaugh, dramatic)\n",
      "(dappy, English, k)\n",
      "(then, twong, mooooooo)\n",
      "(clop, clop, clop)\n",
      "(clop, rewr, rewr)\n",
      "(Iesu, domine, bonk)\n",
      "(impersonate, Clark, Gable)\n",
      "(bonk, dona, eis)\n",
      "(Pie, Iesu, domine)\n",
      "(Ecky, ecky, ecky)\n",
      "(Ni, Ni, Shh)\n",
      "(fwump, Concorde, Concorde)\n",
      "(squeak, thump, squeak)\n",
      "(squeak, squeak, squeak)\n",
      "(thud, thud, thud)\n",
      "(Hyy, Hya, Hiyya)\n",
      "(clop, clop, boom)\n",
      "(clop, clop, whinny)\n",
      "(Run, awaaay, Run)\n",
      "(vache, Quoi, Fetchez)\n",
      "(Shh, Shh, Shh)\n",
      "(de, bois, Quoi)\n",
      "(Yeaaah, Yeaah, Did)\n",
      "(heh, heeh, ooh)\n",
      "(Ay, up, Thsss)\n",
      "(lapin, lapin, de)\n",
      "(Ni, Ni, Ni)\n",
      "(rewr, rewr, rewr)\n",
      "(Olfin, Bedwere, of)\n",
      "(Aah, boom, pweeng)\n",
      "(requiem, Pie, Iesu)\n",
      "(owli, zhiv, Ni)\n",
      "(thonk, Um, woosh)\n",
      "(awhile, Midget, Crapper)\n",
      "(clop, clop, Ooh)\n",
      "(eis, requiem, Heh)\n",
      "(requiem, Pie, Iesu)\n",
      "(nnnnniggets, Thpppppt, Thppt)\n",
      "(Pie, Iesu, domine)\n",
      "(Hiyaah, clang, Aaaaaaaah)\n",
      "(drilllll, sawwwww, clunk)\n",
      "(rewr, rewr, rewr)\n",
      "(taunting, Dappy, Today)\n",
      "(Aaaugh, Augh, Ohh)\n",
      "(squeak, squeak, squeak)\n",
      "(Pie, Iesu, domine)\n",
      "(Pie, Iesu, domine)\n",
      "(Launcelot, Launcelot, Launcelot)\n",
      "(Splendid, Aah, boom)\n",
      "(howl, clop, clop)\n",
      "(done, Aaaugh, Aaaugh)\n",
      "(clang, Huyah, clang)\n",
      "(clop, clop, clop)\n",
      "(pweeng, boom, clap)\n",
      "(Hoa, crash, Hoo)\n",
      "(etc, Aaaaaah, Aaaaaaaaah)\n",
      "(Iesu, domine, donaeis)\n",
      "(domine, dona, eis)\n",
      "(Sir, Launcelot, Uh)\n",
      "(requiem, bonk, Pie)\n",
      "(Wayy, twang, whispering)\n",
      "(pikang, zoop, boing)\n",
      "(dead, Ninepence, clang)\n",
      "(Launcelot, Launcelot, Launcelot)\n",
      "(Camelot, Camelot, Camelot)\n",
      "(ecky, ecky, pikang)\n",
      "(clunk, bang, rewr)\n",
      "(twang, Wayy, twang)\n",
      "(Thppt, Thppt, What)\n",
      "(French, fellows, outwit)\n",
      "(Launcelot, and, Galahad)\n",
      "(Ni, Ni, Ni)\n",
      "(Iesu, domine, dona)\n",
      "(Grail, individually, clop)\n",
      "(Charge, squeak, squeak)\n",
      "(Thy, Hah, clunk)\n",
      "(nnniggets, Thpppt, taunting)\n",
      "(ha, Huy, Uuh)\n",
      "(Quoi, Un, cadeau)\n",
      "(la, vache, Quoi)\n",
      "(Agh, Ni, Ni)\n",
      "(uh, Camelot, Hurry)\n",
      "(Quite, pweeng, boom)\n",
      "(Say, Ecky, ecky)\n",
      "(squeak, squeak, clllank)\n",
      "(squeak, squeak, squeak)\n",
      "(hee, hee, hee)\n",
      "(bois, Quoi, Un)\n",
      "(Pie, Iesu, domine)\n",
      "(lobbest, thou, thy)\n",
      "(Peng, and, Neee)\n",
      "(clang, Aaaaaaaah, chops)\n",
      "(crone, rewr, music)\n",
      "(shimmering, samite, held)\n",
      "(Christ, thud, Allo)\n",
      "(Pie, Iesu, domine)\n",
      "(requiem, Pie, Iesu)\n",
      "(Ow, Ow, Ow)\n",
      "(Ni, Ni, Ni)\n",
      "(Hallo, Allo, Who)\n",
      "(Sir, Bedevere, Knight)\n",
      "(Tim, Quite, pweeng)\n",
      "(clop, clop, clop)\n",
      "(Round, Table, clop)\n",
      "(Churches, Churches, Lead)\n",
      "(goodem, zoo, owli)\n",
      "(Hallo, pause, Hallo)\n",
      "(Ninepence, clang, Bring)\n",
      "(Launcelot, Galahad, and)\n",
      "(liege, trumpets, Camelot)\n",
      "(whop, clunk, creak)\n",
      "(Ni, Ni, Ni)\n",
      "(Aaaaaaaaah, woosh, kills)\n",
      "(Churches, Lead, Lead)\n",
      "(hee, Hee, hee)\n",
      "(ptoo, Ha, ha)\n",
      "(domine, dona, eis)\n",
      "(Hee, hee, hee)\n",
      "(rewr, rewr, rewr)\n",
      "(Ha, haw, haw)\n",
      "(hee, hee, Hee)\n",
      "(Iesu, domine, dona)\n",
      "(ho, Woa, wayy)\n",
      "(cadeau, Oui, oui)\n",
      "(Thpppppt, Thppt, Thppt)\n",
      "(haw, Haw, Haw)\n",
      "(vache, mooo, If)\n",
      "(Heee, Hoa, crash)\n",
      "(stops, Aaagh, Ooh)\n",
      "(Oooh, ptoo, Ha)\n",
      "(Run, awaaaaay, roar)\n",
      "(squeak, squeak, squeak)\n",
      "(eis, requiem, bonk)\n",
      "(eis, requiem, witch)\n",
      "(rewr, clang, Bring)\n",
      "(farcical, aquatic, ceremony)\n",
      "(Ni, Ni, Ni)\n",
      "(Old, crone, rewr)\n",
      "(Ector, And, Bors)\n",
      "(Haw, haw, heh)\n",
      "(No, auuuuuuuugh, Hee)\n",
      "(eis, requiem, Pie)\n",
      "(k, nnnnniggets, Thpppppt)\n",
      "(gravy, Cherries, Mud)\n",
      "(boing, goodem, zoo)\n",
      "(eis, requiem, Wayy)\n",
      "(stops, Aaagh, clang)\n",
      "(music, resumes, Launcelot)\n",
      "(Iesu, domine, dona)\n",
      "(scarper, singing, Brave)\n",
      "(Iiiives, Iiiiives, Oooohoohohooo)\n",
      "(bonk, Pie, Iesu)\n",
      "(Castle, Aaagh, Our)\n",
      "(squeak, squeak, squeak)\n",
      "(clop, clop, clop)\n",
      "(servant, Sir, Launcelot)\n",
      "(Oui, oui, Hurry)\n",
      "(hiyaah, etc, chops)\n",
      "(awaaay, Run, awaaaaay)\n",
      "(Chicken, kick, Chickennn)\n",
      "(wicked, wicked, Zoot)\n",
      "(clop, clop, clop)\n",
      "(trumpets, Camelot, Camelot)\n",
      "(most, twong, baaaa)\n",
      "(twang, chanting, Pie)\n",
      "(laden, swallows, flights)\n",
      "(zoo, owli, zhiv)\n",
      "(knights, Nay, Nay)\n",
      "(Launcelot, Launcelot, Launcelot)\n",
      "(clop, Halt, horn)\n",
      "(haw, heh, clack)\n",
      "(domine, dona, eisrequiem)\n",
      "(clunk, creak, witch)\n",
      "(chanting, Pie, Iesu)\n",
      "(squeak, squeak, squeak)\n",
      "(Iesu, domine, dona)\n",
      "(Ni, Ni, Ni)\n",
      "(squeak, rrrr, rrrr)\n",
      "(Hurry, Sir, Launcelot)\n",
      "(pweeng, boom, boom)\n",
      "(clank, twong, Run)\n",
      "(boom, pweeng, boom)\n",
      "(zoop, boing, goodem)\n",
      "(Pie, Iesu, domine)\n",
      "(rewr, rewr, Old)\n",
      "(rrrr, rrrr, rrrr)\n",
      "(Sir, Launcelot, Hurry)\n",
      "(Iesu, domine, witch)\n",
      "(Saint, Iiiives, Iiiiives)\n",
      "(resumes, Launcelot, Launcelot)\n",
      "(chanting, dona, eis)\n",
      "(sir, fwump, Concorde)\n",
      "(bang, rewr, squeak)\n",
      "(dead, rewr, clang)\n",
      "(anarcho, syndicalist, commune)\n",
      "(la, vache, mooo)\n",
      "(Umm, clop, clop)\n",
      "(dona, eis, requiem)\n",
      "(dorsal, guiding, feathers)\n",
      "(clop, clop, clop)\n",
      "(rewr, squeak, squeak)\n",
      "(Ni, Ni, Ni)\n",
      "(Wayy, splash, Ho)\n",
      "(Ni, Shh, Ni)\n",
      "(of, Olfin, Bedwere)\n",
      "(Ni, Ni, Agh)\n",
      "(clop, clop, Halt)\n",
      "(pause, Hallo, Allo)\n",
      "(dona, eis, requiem)\n",
      "(Ni, Ni, Ow)\n",
      "(Iiiiives, Oooohoohohooo, No)\n",
      "(Ni, Shh, Shh)\n",
      "(Just, uuggggggh, Aauuggghhh)\n",
      "(bonk, dona, eis)\n",
      "(Herbert, Erbert, We)\n",
      "(Ha, ha, Hiyya)\n",
      "(Ni, Ni, Ni)\n",
      "(quack, quack, quack)\n",
      "(clop, clop, clop)\n",
      "(squeak, squeak, squeak)\n",
      "(chanting, Pie, Iesu)\n",
      "(relics, Brother, Maynard)\n",
      "(clop, clop, clop)\n",
      "(Wayy, twang, Wayy)\n",
      "(rrrr, drilllll, sawwwww)\n",
      "(Launcelot, Launcelot, angels)\n",
      "(Uuh, Aaah, Ha)\n",
      "(Table, clop, clop)\n",
      "(Aauuggghhh, Aaauggh, Do)\n",
      "(hee, hee, hee)\n",
      "(rewr, Old, crone)\n",
      "(bathing, dressing, undressing)\n",
      "(squeak, squeak, Aaaaugh)\n",
      "(thud, clang, Bring)\n"
     ]
    }
   ],
   "source": [
    "for gram in grailGrams: \n",
    "    if sum([word.prob for word in gram]) < -40: \n",
    "        print(gram)"
   ]
  },
  {
   "cell_type": "code",
   "execution_count": 64,
   "metadata": {},
   "outputs": [
    {
     "name": "stdout",
     "output_type": "stream",
     "text": [
      "(alacrity, which, shewed)\n",
      "(uncompanionable, sisters, home)\n",
      "(Miss, de, Bourgh)\n",
      "(Longbourn, Collins, made)\n",
      "(housemaids, Well, mamma)\n",
      "(Miss, Bingley, began)\n",
      "(laugh, Miss, Bingley)\n",
      "(quarrelsome, discontented, or)\n",
      "(Miss, de, Bourgh)\n",
      "(quadrille, while, Jenkinson)\n",
      "(inquiry, Wickham, began)\n",
      "(deferred, Miss, Bingley)\n",
      "(Ramsgate, and, thither)\n",
      "(imperturbably, grave, She)\n",
      "(Miss, Lucas, persevering)\n",
      "(Elizabeth, merely, curtseyed)\n",
      "(appeased, Bennet, curiosity)\n",
      "(meet, scarcely, recollected)\n",
      "(conclude, Darcy, bowed)\n",
      "(larder, usually, affords)\n",
      "(bestow, Miss, Bingley)\n",
      "(muslins, new, carriages)\n",
      "(northwards, than, Derbyshire)\n",
      "(confidante, Chapter, Elizabeth)\n",
      "(Wretched, wretched, mistake)\n",
      "(till, Elizabeth, recollected)\n",
      "(in, Hunsford, Parsonage)\n",
      "(Miss, Bennet, paused)\n",
      "(Bingley, letter, arrived)\n",
      "(Lydia, Chapter, Till)\n",
      "(Colonel, Fitzwilliam, seemed)\n",
      "(untinctured, by, tenderness)\n",
      "(momentary, dread, Bingley)\n",
      "(of, Hunsford, Parsonage)\n",
      "(Miss, de, Bourgh)\n",
      "(Rosings, rationally, softened)\n",
      "(inquiries, after, Rosings)\n",
      "(replied, Miss, Bingley)\n",
      "(Miss, Bingley, varied)\n",
      "(Bingley, continued, absence)\n",
      "(Kitty, fretfully, When)\n",
      "(Miss, de, Bourgh)\n",
      "(Bingley, pretended, regard)\n",
      "(Georgiana, whose, affectionate)\n",
      "(Bourgh, ate, pressing)\n",
      "(earnestly, entreated, her)\n",
      "(Miss, Eliza, Bennet)\n",
      "(Bingley, was, unaffectedly)\n",
      "(lodgings, Gardiner, himself)\n",
      "(Rosings, party, assure)\n",
      "(Removed, cried, Bingley)\n",
      "(Bingley, himself, Elizabeth)\n",
      "(reproofs, at, Hunsford)\n",
      "(Miss, Bingley, declined)\n",
      "(perusal, Darcy, shameful)\n",
      "(Netherfield, and, Rosings)\n",
      "(however, imperturbably, grave)\n",
      "(creditable, gentlemanlike, set)\n",
      "(Consider, Collins, respectability)\n",
      "(falsely, adorned, Elizabeth)\n",
      "(uncle, doings, Generous)\n",
      "(heartfelt, delight, diffused)\n",
      "(mortification, Collins, awkward)\n",
      "(Colonel, Fitzwilliam, occasionally)\n",
      "(delighted, Miss, Darcy)\n",
      "(lodgings, This, Younge)\n",
      "(hopeless, Miss, Bingley)\n",
      "(aunt, Lydia, thoughtlessness)\n",
      "(draughts, to, Netherfield)\n",
      "(controverted, She, inquired)\n",
      "(repeated, Miss, Bingley)\n",
      "(Rosings, To, Rosings)\n",
      "(songs, Miss, Bingley)\n",
      "(Miss, de, Bourgh)\n",
      "(thither, lay, Oxford)\n",
      "(Miss, de, Bourgh)\n",
      "(promote, sisterly, affection)\n",
      "(Colonel, Fitzwilliam, manners)\n",
      "(highly, incensed, Bennet)\n",
      "(Cheapside, cried, Bingley)\n",
      "(Netherfield, Dearest, Jane)\n",
      "(words, apology, Hunsford)\n",
      "(parlour, repined, at)\n",
      "(his, regimentals, Mamma)\n",
      "(bear, inconveniences, cheerfulness)\n",
      "(Darcy, admired, Elizabeth)\n",
      "(delightful, Parsonage, House)\n",
      "(dearest, loveliest, Elizabeth)\n",
      "(Darcy, contemptuously, yes)\n",
      "(late, Darcy, bequeathed)\n",
      "(Fordyce, Sermons, Lydia)\n",
      "(Miss, Bennet, astonishment)\n",
      "(ached, acutely, Elizabeth)\n",
      "(definition, Astonishment, apprehension)\n",
      "(joyful, alacrity, Collins)\n",
      "(Bingley, salutation, He)\n",
      "(hearing, Miss, Bingley)\n",
      "(Pemberley, and, Lambton)\n",
      "(Colonel, Fitzwilliam, came)\n",
      "(intrepidity, Miss, Elizabeth)\n",
      "(arisen, repeated, Bennet)\n",
      "(doings, discomposed, Bennet)\n",
      "(perpetually, through, Longbourn)\n",
      "(liberally, bestowed, respecting)\n",
      "(Darcy, regard, Bingley)\n",
      "(unnecessary, complaisance, Elizabeth)\n",
      "(relation, Colonel, Fitzwilliam)\n",
      "(Lydia, leads, Vain)\n",
      "(gentlemanlike, appearance, walking)\n",
      "(calling, patroness, Twice)\n",
      "(Longbourn, desiring, her)\n",
      "(lively, sportive, manner)\n",
      "(Meryton, denominated, from)\n",
      "(Miss, Bingley, seated)\n",
      "(observing, Bingley, attentions)\n",
      "(undoubted, veracity, Wickham)\n",
      "(hastened, to, Rosings)\n",
      "(near, Westerham, Kent)\n",
      "(Catherine, de, Bourgh)\n",
      "(disposition, greater, steadiness)\n",
      "(surmise, said, Fitzwilliam)\n",
      "(apprehension, peculiarly, denoted)\n",
      "(de, Bourgh, footstool)\n",
      "(two, Netherfield, gentlemen)\n",
      "(Longbourn, Elizabeth, looked)\n",
      "(youngest, daughters, uncommonly)\n",
      "(Miss, Bingley, visit)\n",
      "(severest, reproof, It)\n",
      "(thoughtless, thoughtless, Lydia)\n",
      "(sufficiently, characteristic, Bingley)\n",
      "(Miss, de, Bourgh)\n",
      "(Gracechurch, Street, Monday)\n",
      "(think, Georgiana, Darcy)\n",
      "(Matlock, Chatsworth, Dovedale)\n",
      "(Louisa, said, Bingley)\n",
      "(smilingly, Pray, let)\n",
      "(Elizabeth, drily, Darcy)\n",
      "(by, extravagance, imprudence)\n",
      "(Miss, Grantley, Will)\n",
      "(blameable, mistrust, How)\n",
      "(from, Bennet, civilities)\n",
      "(prepossession, her, eldest)\n",
      "(Miss, Bingley, Vain)\n",
      "(Miss, Bingley, offered)\n",
      "(Lewis, de, Bourgh)\n",
      "(Bourgh, footstool, that)\n",
      "(general, topics, Meryton)\n",
      "(gaily, off, rejoicing)\n",
      "(do, Wickham, adieus)\n",
      "(ever, Kitty, simpered)\n",
      "(Pray, Miss, Eliza)\n",
      "(sneering, civility, Pray)\n",
      "(persuade, Miss, Bennet)\n",
      "(Collins, readily, assented)\n",
      "(rough, coppice, wood)\n",
      "(Meryton, Lady, Lucas)\n",
      "(usual, civilities, Bingley)\n",
      "(Catherine, de, Bourgh)\n",
      "(approbation, alone, roused)\n",
      "(Bingley, carriage, immediately)\n",
      "(volubility, In, Lydia)\n",
      "(road, reached, Longbourn)\n",
      "(Darcy, Dear, Lizzy)\n",
      "(civilities, Bingley, was)\n",
      "(mischievously, construed, Her)\n",
      "(Five, daughters, successively)\n",
      "(teasing, Colonel, Forster)\n",
      "(highflown, expressions, Elizabeth)\n",
      "(Bingley, inherited, property)\n",
      "(Gardiner, left, Longbourn)\n",
      "(denial, Gracechurch, street)\n",
      "(parlour, at, Rosings)\n",
      "(meditated, elopement, To)\n",
      "(To, Bennet, acknowledgments)\n",
      "(described, Wholly, inattentive)\n",
      "(lamentations, resounding, perpetually)\n",
      "(Elizabeth, instantly, availed)\n",
      "(Catherine, de, Bourgh)\n",
      "(evening, passed, tranquilly)\n",
      "(overtook, William, Goulding)\n",
      "(commendation, narrowly, observed)\n",
      "(Meryton, had, procured)\n",
      "(strong, sisterly, partiality)\n",
      "(Meryton, he, dined)\n",
      "(altogether, Mr, Bingley)\n",
      "(assiduous, attentions, which)\n",
      "(cheerful, humour, Darcy)\n",
      "(Bingley, Charles, writes)\n",
      "(governess, No, governess)\n",
      "(been, industriously, circulated)\n",
      "(unreserved, correspondence, depend)\n",
      "(Chapter, Miss, Bingley)\n",
      "(disagreeable, Elizabeth, excused)\n",
      "(gossiping, Lucases, shall)\n",
      "(laugh, Miss, Bingley)\n",
      "(Rosings, certainly, increases)\n",
      "(Chapter, Colonel, Fitzwilliam)\n",
      "(ill, judged, officiousness)\n",
      "(Hunsford, Parsonage, and)\n",
      "(own, trifling, amusements)\n",
      "(housekeeper, at, Netherfield)\n",
      "(principally, dwelt, during)\n",
      "(heiress, of, Rosings)\n",
      "(cried, Darcy, grieved)\n",
      "(Bingley, voice, Elizabeth)\n",
      "(Bennets, were, speedily)\n",
      "(rector, of, Longbourn)\n",
      "(tolerable, tranquillity, Collins)\n",
      "(cried, Miss, Bingley)\n",
      "(Elizabeth, smiled, Lizzy)\n",
      "(tolerably, cheerful, Their)\n",
      "(ungenerous, reproach, shall)\n",
      "(Bennet, Miss, Bingley)\n",
      "(de, Bourgh, exerted)\n",
      "(replied, Colonel, Fitzwilliam)\n",
      "(de, Bourgh, Lady)\n",
      "(addressing, Colonel, Fitzwilliam)\n",
      "(object, Miss, Bingley)\n",
      "(word, Colonel, Fitzwilliam)\n",
      "(Catherine, de, Bourgh)\n",
      "(felicity, nor, humbled)\n",
      "(Brighton, observed, Bennet)\n",
      "(Miss, de, Bourgh)\n",
      "(Miss, de, Bourgh)\n",
      "(lay, Oxford, Blenheim)\n",
      "(at, Longbourn, whither)\n",
      "(backgammon, Bennet, accepted)\n",
      "(Darcy, meditated, elopement)\n",
      "(felt, tolerably, persuaded)\n",
      "(apace, The, dejection)\n",
      "(Dearest, Lizzy, hardly)\n",
      "(girls, reached, Netherfield)\n",
      "(forbearing, courtesy, Elizabeth)\n",
      "(Catherine, de, Bourgh)\n",
      "(unfavourably, answered, Accordingly)\n",
      "(Colonel, Fitzwilliam, Shall)\n",
      "(composedly, Lady, Catherine)\n",
      "(Bingley, inattention, After)\n",
      "(mark, Lydia, character)\n",
      "(Pemberley, cried, Gardiner)\n",
      "(Miss, Bingley, congratulations)\n",
      "(amid, very, complaisant)\n",
      "(chambermaid, whether, Pemberley)\n",
      "(discomposed, Bennet, exceedingly)\n",
      "(Hunsford, Pray, go)\n",
      "(her, ladyship, carriages)\n",
      "(tolerably, detached, tone)\n",
      "(Wickham, marrying, Mary)\n",
      "(ladyship, again, inquired)\n",
      "(Wickham, Georgiana, also)\n",
      "(Longbourn, Elizabeth, listened)\n",
      "(Bourgh, Lady, Catherine)\n",
      "(Miss, Bingley, Charles)\n",
      "(saloon, Miss, Bingley)\n",
      "(Catherine, de, Bourgh)\n",
      "(Darcy, Elizabeth, coloured)\n",
      "(Longbourn, Gardiner, went)\n",
      "(Catherine, de, Bourgh)\n",
      "(Bennet, eyes, sparkled)\n",
      "(Attendance, forbearance, patience)\n",
      "(Miss, Bingley, regard)\n",
      "(avowed, however, unequally)\n",
      "(despicable, Miss, Bingley)\n",
      "(affectation, and, coquetry)\n",
      "(Meryton, from, whence)\n",
      "(doleful, voice, Bennet)\n",
      "(Bennet, eyes, sparkled)\n",
      "(solaced, their, wretchedness)\n",
      "(Bingley, arrived, Bennet)\n",
      "(keenest, enjoyment, maintaining)\n",
      "(parlour, Bingley, met)\n",
      "(cottagers, were, disposed)\n",
      "(still, inflexibly, studious)\n",
      "(his, patroness, mingling)\n",
      "(backgammon, Chapter, Collins)\n",
      "(Lewis, de, Bourgh)\n",
      "(readily, obeyed, Gardiner)\n",
      "(borrow, Bingley, carriage)\n",
      "(Chatsworth, Dovedale, or)\n",
      "(usual, querulous, serenity)\n",
      "(Rosings, lively, imagination)\n",
      "(Wickham, adieus, were)\n",
      "(Miss, Bingley, appearance)\n",
      "(Bourgh, by, venturing)\n",
      "(Netherfield, said, Bennet)\n",
      "(doubtingly, Oh, Lizzy)\n",
      "(Bingleys, Her, impatience)\n",
      "(repine, Obstinate, headstrong)\n",
      "(Bingley, seated, near)\n",
      "(Bingley, Her, astonishment)\n",
      "(Had, Miss, Bingley)\n",
      "(room, Colonel, Fitzwilliam)\n",
      "(Miss, Bingley, despises)\n",
      "(untidy, so, blowsy)\n",
      "(nephew, Unfeeling, selfish)\n",
      "(cried, Miss, Bingley)\n",
      "(de, Bourgh, widow)\n",
      "(Colonel, Forster, instantly)\n",
      "(Elizabeth, looked, archly)\n",
      "(Miss, de, Bourgh)\n",
      "(Lately, George, Wickham)\n",
      "(Miss, de, Bourgh)\n",
      "(Longbourn, nieces, Between)\n",
      "(to, repine, Obstinate)\n",
      "(subject, Bennet, coolly)\n",
      "(Miss, Bingley, succeeded)\n",
      "(London, Georgiana, reception)\n",
      "(morrow, fortnight, Aye)\n",
      "(Hurst, principally, occupied)\n",
      "(cried, Colonel, Fitzwilliam)\n",
      "(inclination, Miss, Bennet)\n",
      "(danger, Miss, Bingley)\n",
      "(solicitude, of, Bingley)\n",
      "(earnestly, negatived, she)\n",
      "(which, mark, Lydia)\n",
      "(more, earnestly, negatived)\n",
      "(uncivil, boisterously, exclaimed)\n",
      "(Miss, Bennet, eagerly)\n",
      "(prettier, coloured, satin)\n",
      "(Longbourn, Gardiner, was)\n",
      "(feather, Poor, Wickham)\n",
      "(unaffectedly, modest, His)\n",
      "(Bingley, began, abusing)\n",
      "(Miss, Bingley, tells)\n",
      "(her, inexpressible, vexation)\n",
      "(gratified, said, Bingley)\n",
      "(Saturday, Rendered, spiritless)\n",
      "(Catherine, de, Bourgh)\n",
      "(formal, invitation, Bingley)\n",
      "(Miss, de, Bourgh)\n",
      "(Honourable, Lady, Catherine)\n",
      "(Such, doings, discomposed)\n",
      "(gentleman, reputed, disposition)\n",
      "(superlatively, stupid, Scarcely)\n",
      "(rapacity, for, whist)\n",
      "(be, insensible, gaily)\n",
      "(tent, tenderly, flirting)\n",
      "(palings, of, Rosings)\n",
      "(copse, Lady, Catherine)\n",
      "(cried, Elizabeth, Implacable)\n",
      "(Mamma, cried, Lydia)\n",
      "(decorum, prudence, nay)\n",
      "(Hunsford, extremely, dull)\n",
      "(disarm, reproof, Nothing)\n",
      "(ornament, Her, ladyship)\n",
      "(Bingley, warmly, resented)\n",
      "(Pemberley, Chapter, Happy)\n",
      "(obstinate, fancy, Lizzy)\n",
      "(untamed, unabashed, wild)\n",
      "(Bennet, coolly, observed)\n",
      "(trifling, amusements, Bennet)\n",
      "(mildness, declined, interfering)\n",
      "(Elizabeth, dwelling, emphatically)\n",
      "(Bingley, replied, Jane)\n",
      "(Obstinate, headstrong, girl)\n",
      "(Jane, recollected, herself)\n",
      "(afterwards, visited, Bingley)\n",
      "(replied, Elizabeth, archly)\n",
      "(Hunsford, near, Westerham)\n",
      "(breakfast, parlour, Bingley)\n",
      "(Bingley, Vain, indeed)\n",
      "(Lady, Catherine, disapprobation)\n",
      "(unaffected, astonishment, Indeed)\n",
      "(her, Longbourn, nieces)\n",
      "(Darcy, nor, Wickham)\n",
      "(room, Colonel, Fitzwilliam)\n",
      "(Longbourn, or, Netherfield)\n",
      "(Darcy, Miss, Bennet)\n",
      "(modest, His, diffidence)\n",
      "(ladyship, apprehension, peculiarly)\n",
      "(Miss, de, Bourgh)\n",
      "(Warwick, Kenilworth, Birmingham)\n",
      "(Lydia, pressing, entreaties)\n",
      "(Bourgh, whose, bounty)\n",
      "(daughter, Colonel, Fitzwilliam)\n",
      "(Imprudence, or, thoughtlessness)\n",
      "(Westerham, Kent, October)\n",
      "(Bingley, and, Netherfield)\n",
      "(Pemberley, House, whichever)\n",
      "(amiable, neighbour, Miss)\n",
      "(attractions, Miss, Bennet)\n",
      "(unsocial, taciturn, disposition)\n",
      "(eldest, Miss, Bennet)\n",
      "(earnest, steadfast, gaze)\n",
      "(said, Kitty, fretfully)\n",
      "(Longbourn, House, Elizabeth)\n",
      "(noon, Chapter, Convinced)\n",
      "(missent, elsewhere, Elizabeth)\n",
      "(tranquillity, Collins, returned)\n",
      "(composedly, Lady, Catherine)\n",
      "(joy, Jane, resolutely)\n",
      "(mark, her, deference)\n",
      "(Miss, Bingley, sees)\n",
      "(captivation, Whatever, bears)\n",
      "(Catherine, unjustifiable, endeavours)\n",
      "(sisterly, partiality, which)\n",
      "(commonest, dullest, most)\n",
      "(Miss, de, Bourgh)\n",
      "(Catherine, de, Bourgh)\n",
      "(Jane, steady, mildness)\n",
      "(Darcy, behaviour, astonished)\n",
      "(Miss, Darcy, meditated)\n",
      "(Bennet, alarmed, Lizzy)\n",
      "(jilt, you, creditably)\n",
      "(her, ladyship, apprehension)\n",
      "(Bennet, having, dawdled)\n",
      "(Bingley, urged, Jones)\n",
      "(appear, tolerably, cheerful)\n",
      "(Pemberley, Another, entreaty)\n",
      "(eldest, daughter, endeavoured)\n",
      "(Longbourn, whither, he)\n",
      "(whose, constant, repinings)\n",
      "(eldest, Miss, Bennet)\n",
      "(ladyship, seemed, pleased)\n",
      "(Longbourn, estate, whenever)\n",
      "(Miss, Bingley, tired)\n",
      "(dear, Eliza, glancing)\n",
      "(parting, civilities, which)\n",
      "(Meryton, seemed, striving)\n",
      "(Hunsford, and, Rosings)\n",
      "(tempered, amiable, charming)\n",
      "(hauteur, overspread, his)\n",
      "(ceremonious, salutation, attending)\n",
      "(pianoforte, stationed, himself)\n",
      "(Caroline, boasted, joyfully)\n",
      "(Netherfield, Such, amiable)\n",
      "(Miss, de, Bourgh)\n",
      "(Longbourn, to, acquaint)\n",
      "(Bingley, returned, Bennet)\n",
      "(our, Meryton, assemblies)\n",
      "(inexpressible, vexation, she)\n",
      "(Netherfield, party, Bingley)\n",
      "(suitableness, which, comprehended)\n",
      "(comfortless, hotel, Many)\n",
      "(hermitage, Elizabeth, obeyed)\n",
      "(reappear, at, Longbourn)\n",
      "(engagements, arose, Bennet)\n",
      "(silent, Teasing, teasing)\n",
      "(circumspection, fortnight, acquaintance)\n",
      "(Miss, Bingley, replied)\n",
      "(nephew, Colonel, Fitzwilliam)\n",
      "(Miss, Bingley, civility)\n",
      "(Bennet, pleasing, manners)\n",
      "(Miss, Bennets, alone)\n",
      "(unexpectedly, relieved, Wickham)\n",
      "(pleasantest, preservative, from)\n",
      "(repeated, Darcy, contemptuously)\n",
      "(observed, Miss, Bingley)\n",
      "(Colonel, Fitzwilliam, himself)\n",
      "(principally, offended, Darcy)\n",
      "(Catherine, de, Bourgh)\n",
      "(borne, Miss, Bennet)\n",
      "(Miss, Darcy, delight)\n",
      "(Miss, Bingley, vexed)\n",
      "(Bennet, civilities, The)\n",
      "(gentleman, concurrence, Bingley)\n",
      "(connubial, felicity, really)\n",
      "(Darcy, grieved, shocked)\n",
      "(Pemberley, House, situated)\n",
      "(unqualified, unalloyed, inclination)\n",
      "(natured, gossiping, Lucases)\n",
      "(speech, savours, strongly)\n",
      "(Georgiana, Darcy, has)\n",
      "(inheriting, Longbourn, But)\n",
      "(Miss, de, Bourgh)\n",
      "(Lewis, de, Bourgh)\n",
      "(younger, Miss, Bennets)\n",
      "(taciturn, disposition, unwilling)\n",
      "(Fitzwilliam, reminded, Elizabeth)\n",
      "(solicitude, for, Wickham)\n",
      "(denoted, her, perverseness)\n",
      "(performer, countenance, Elizabeth)\n",
      "(imprudent, manner, nay)\n",
      "(Colonel, Forster, believed)\n",
      "(George, Wickham, Esq)\n",
      "(satin, curtains, Gardiner)\n",
      "(softened, My, reproofs)\n",
      "(elder, Miss, Bennets)\n",
      "(unfelt, It, soothed)\n",
      "(coachman, punctuality, both)\n",
      "(tranquillity, Well, Lizzy)\n",
      "(manners, indicated, respectability)\n",
      "(Miss, Lydia, Bennet)\n",
      "(utmost, politeness, Darcy)\n",
      "(Miss, de, Bourgh)\n",
      "(unseldom, she, involuntarily)\n",
      "(civilities, toward, herself)\n",
      "(Undoubtedly, replied, Darcy)\n",
      "(Colonel, Fitzwilliam, himself)\n",
      "(Colonel, Forster, repeat)\n",
      "(patroness, Lady, Catherine)\n",
      "(insensible, gaily, continued)\n",
      "(dear, Wickham, longed)\n",
      "(carriage, Miss, Bingley)\n",
      "(highly, gratified, Bennet)\n",
      "(Blenheim, Warwick, Kenilworth)\n",
      "(Rosings, Their, visitors)\n",
      "(Darcy, regard, Bingley)\n",
      "(Miss, Eliza, Bennet)\n",
      "(Miss, Bingley, pretended)\n",
      "(many, cheerful, prognostics)\n",
      "(Darcy, shameful, boast)\n",
      "(unlucky, recollections, obtruded)\n",
      "(elder, Miss, Bennets)\n",
      "(Catherine, de, Bourgh)\n",
      "(Lady, Lucas, quieted)\n",
      "(Bourgh, exerted, herself)\n",
      "(Sermons, Lydia, gaped)\n",
      "(Colonel, Fitzwilliam, reminded)\n",
      "(Catherine, de, Bourgh)\n",
      "(Hunsford, Parsonage, the)\n",
      "(forbidding, disagreeable, countenance)\n",
      "(elder, Miss, Bennets)\n",
      "(exceedingly, astonish, Jane)\n",
      "(neighbourhood, except, Netherfield)\n",
      "(Nay, cried, Bingley)\n",
      "(misfortunes, repeated, Darcy)\n",
      "(daughters, uncommonly, foolish)\n",
      "(lively, playful, disposition)\n",
      "(comparative, insignificance, Importance)\n",
      "(whom, shall, subjoin)\n",
      "(directed, towards, Longbourn)\n",
      "(Annesley, a, genteel)\n",
      "(Colonel, Fitzwilliam, Your)\n",
      "(monosyllable, Miss, Darcy)\n",
      "(affording, pleasure, unconnected)\n",
      "(Bennet, eagerly, disclaimed)\n",
      "(between, Colonel, Fitzwilliam)\n",
      "(polite, congratulation, Hurst)\n",
      "(Lady, Catherine, hesitated)\n",
      "(handsomer, than, Bingley)\n",
      "(honour, decorum, prudence)\n",
      "(Bingley, instantly, prevailed)\n",
      "(Longbourn, rather, oftener)\n",
      "(Colonel, Forster, Kitty)\n",
      "(Pemberley, she, dropt)\n",
      "(Scotland, Colonel, Forster)\n",
      "(upon, quitting, Netherfield)\n",
      "(often, uncivil, boisterously)\n",
      "(inflexibly, studious, In)\n",
      "(increasing, civilities, toward)\n",
      "(Miss, Bingley, designs)\n",
      "(anticipated, Miss, Darcy)\n",
      "(Phillipses, the, Lucases)\n",
      "(Longbourn, soon, waited)\n",
      "(Miss, Bingley, witticisms)\n",
      "(her, ladyship, indignation)\n",
      "(Elizabeth, Implacable, resentment)\n",
      "(what, connubial, felicity)\n",
      "(blind, partiality, provoked)\n",
      "(deemed, indispensably, necessary)\n",
      "(Miss, de, Bourgh)\n",
      "(Affectation, of, candour)\n",
      "(Fitzwilliam, Darcy, formerly)\n",
      "(Lady, Catherine, discernment)\n",
      "(Miss, Bingley, warmly)\n",
      "(Catherine, de, Bourgh)\n",
      "(admires, Miss, Darcy)\n",
      "(Colonel, Fitzwilliam, manners)\n",
      "(Catherine, de, Bourgh)\n",
      "(Miss, Bingley, dislike)\n",
      "(relished, domestic, felicity)\n",
      "(unpleasant, recollections, Darcy)\n",
      "(envying, Miss, Lucas)\n",
      "(Wickham, appeared, Kitty)\n",
      "(mentioned, Colonel, Fitzwilliam)\n",
      "(very, creditable, gentlemanlike)\n",
      "(Bingley, witticisms, on)\n",
      "(affection, Miss, Bingley)\n",
      "(Bingley, despises, cards)\n",
      "(Bingley, never, stirs)\n",
      "(her, ladyship, concurrence)\n",
      "(Darcy, Caroline, cried)\n",
      "(Bourgh, It, vexed)\n",
      "(tremblings, such, flutterings)\n",
      "(their, pleasantest, preservative)\n",
      "(Rosings, besides, drinking)\n",
      "(Her, ladyship, carriage)\n",
      "(Darcy, Console, Lady)\n",
      "(sisters, concerning, Bingley)\n",
      "(cried, Miss, Bingley)\n",
      "(accept, Bingley, invitation)\n",
      "(Longbourn, Everything, wore)\n",
      "(at, Longbourn, Gardiner)\n",
      "(Netherfield, to, Longbourn)\n",
      "(familiarly, acquainted, Instead)\n",
      "(Elizabeth, tremble, lest)\n",
      "(mere, ceremonious, salutation)\n",
      "(admiring, Phillips, manners)\n",
      "(Longbourn, House, Chapter)\n",
      "(Hertfordshire, anxiously, renewing)\n",
      "(at, Netherfield, Dearest)\n",
      "(gentlemen, left, Rosings)\n",
      "(passages, Jane, recollected)\n",
      "(industriously, circulated, by)\n",
      "(tenant, Miss, Bingley)\n",
      "(Lizzy, Lizzy, declares)\n",
      "(Longbourn, family, Jane)\n",
      "(playful, gaiety, replied)\n",
      "(regimentals, Mamma, cried)\n",
      "(coherent, Dearest, Lizzy)\n",
      "(deceived, us, Haggerston)\n",
      "(all, quitted, Netherfield)\n",
      "(Miss, Bingley, turning)\n",
      "(Hunsford, Such, doings)\n",
      "(Bennet, scarcely, spoke)\n",
      "(chose, Fordyce, Sermons)\n",
      "(have, courted, prepossession)\n",
      "(procured, lodgings, Gardiner)\n",
      "(Rendered, spiritless, by)\n",
      "(gracious, cried, Bennet)\n",
      "(boisterously, exclaimed, Good)\n",
      "(improbable, conjecture, Bingley)\n",
      "(heard, Fitzwilliam, Darcy)\n",
      "(excellent, acquaintances, Meryton)\n",
      "(an, unsocial, taciturn)\n",
      "(obliging, Lady, Catherine)\n",
      "(ladyship, concurrence, You)\n",
      "(Miss, de, Bourgh)\n",
      "(quitted, Netherfield, last)\n",
      "(Miss, Bingley, inattention)\n",
      "(abhorrence, Whenever, Charlotte)\n",
      "(replied, Kitty, fretfully)\n",
      "(marrying, Colonel, Fitzwilliam)\n",
      "(Colonel, Fitzwilliam, entered)\n",
      "(Miss, Eliza, Bennet)\n",
      "(needless, precipitance, merely)\n",
      "(Rosings, Nearly, three)\n",
      "(dinner, Bennet, scarcely)\n",
      "(Wickham, repeatedly, Lydia)\n",
      "(Miss, Bingley, letter)\n",
      "(Colonel, Fitzwilliam, words)\n",
      "(Oxford, Blenheim, Warwick)\n",
      "(Lady, Catherine, unjustifiable)\n",
      "(unexpected, visitor, Darcy)\n",
      "(of, hauteur, overspread)\n",
      "(luckless, Kitty, continued)\n",
      "(recollections, Darcy, letter)\n",
      "(subsisted, between, Darcy)\n",
      "(Meryton, The, Bennets)\n",
      "(ladyship, wants, Darcy)\n",
      "(dispense, Mary, petitioned)\n",
      "(Miss, de, Bourgh)\n",
      "(naturedly, engaged, Collins)\n",
      "(Darcy, Darcy, spoke)\n",
      "(from, Meryton, denominated)\n",
      "(shew, Gardiner, letter)\n",
      "(nuptials, fine, muslins)\n",
      "(invitations, readily, obeyed)\n",
      "(heightened, complexion, earnestly)\n",
      "(hastily, exclaimed, beg)\n",
      "(Bingley, Jane, met)\n",
      "(continued, however, imperturbably)\n"
     ]
    }
   ],
   "source": [
    "for gram in set(ngrams(pride, 3)): \n",
    "    if sum([word.prob for word in gram]) < -40: \n",
    "        print(gram)"
   ]
  },
  {
   "cell_type": "markdown",
   "metadata": {},
   "source": [
    "# Word Embeddings (Word Vectors)\n",
    "\n",
    "Word embeddings (word vectors) are numeric representations of words, usually generated via dimensionality reduction on a word cooccurrence matrix for a large corpus. The vectors SpaCy uses are the [GloVe](http://nlp.stanford.edu/projects/glove/) vectors, Stanford's Global Vectors for Word Representation. These vectors can be used to calculate semantic similarity between words and documents."
   ]
  },
  {
   "cell_type": "code",
   "execution_count": 65,
   "metadata": {
    "collapsed": true
   },
   "outputs": [],
   "source": [
    "coconut, africanSwallow, europeanSwallow, horse = nlp('coconut'), nlp('African Swallow'), nlp('European Swallow'), nlp('horse')"
   ]
  },
  {
   "cell_type": "code",
   "execution_count": 66,
   "metadata": {},
   "outputs": [
    {
     "data": {
      "text/plain": [
       "0.15660881295507759"
      ]
     },
     "execution_count": 66,
     "metadata": {},
     "output_type": "execute_result"
    }
   ],
   "source": [
    "coconut.similarity(horse)"
   ]
  },
  {
   "cell_type": "code",
   "execution_count": 67,
   "metadata": {},
   "outputs": [
    {
     "data": {
      "text/plain": [
       "0.33525863407350248"
      ]
     },
     "execution_count": 67,
     "metadata": {},
     "output_type": "execute_result"
    }
   ],
   "source": [
    "africanSwallow.similarity(horse)"
   ]
  },
  {
   "cell_type": "code",
   "execution_count": 68,
   "metadata": {},
   "outputs": [
    {
     "data": {
      "text/plain": [
       "0.85963788592894452"
      ]
     },
     "execution_count": 68,
     "metadata": {},
     "output_type": "execute_result"
    }
   ],
   "source": [
    "africanSwallow.similarity(europeanSwallow)"
   ]
  },
  {
   "cell_type": "markdown",
   "metadata": {},
   "source": [
    "Let's look at vectors for _Pride and Prejudice_. First, let's get the first 150 nouns:"
   ]
  },
  {
   "cell_type": "code",
   "execution_count": 69,
   "metadata": {
    "collapsed": true
   },
   "outputs": [],
   "source": [
    "prideNouns = [word for word in pride if word.pos_.startswith('N')][:150]"
   ]
  },
  {
   "cell_type": "markdown",
   "metadata": {},
   "source": [
    "Now let's get vectors and labels for each of them: "
   ]
  },
  {
   "cell_type": "code",
   "execution_count": 70,
   "metadata": {
    "collapsed": true
   },
   "outputs": [],
   "source": [
    "prideNounVecs = [word.vector for word in prideNouns]\n",
    "prideNounLabels = [word.string.strip() for word in prideNouns]"
   ]
  },
  {
   "cell_type": "code",
   "execution_count": 71,
   "metadata": {},
   "outputs": [
    {
     "data": {
      "text/plain": [
       "(300,)"
      ]
     },
     "execution_count": 71,
     "metadata": {},
     "output_type": "execute_result"
    }
   ],
   "source": [
    "prideNounVecs[0].shape"
   ]
  },
  {
   "cell_type": "markdown",
   "metadata": {
    "collapsed": true
   },
   "source": [
    "A single vector is 300-dimensional, so in order to plot it in 2D, it might help to reduce the dimensionality to the most meaningful dimensions. We can use Scikit-Learn to perform truncated singular value decomposition for latent semantic analysis (LSA). "
   ]
  },
  {
   "cell_type": "code",
   "execution_count": 72,
   "metadata": {
    "collapsed": true
   },
   "outputs": [],
   "source": [
    "lsa = TruncatedSVD(n_components=2)\n",
    "lsaOut = lsa.fit_transform(prideNounVecs)"
   ]
  },
  {
   "cell_type": "markdown",
   "metadata": {},
   "source": [
    "Plot the results in a scatter plot: "
   ]
  },
  {
   "cell_type": "code",
   "execution_count": 73,
   "metadata": {},
   "outputs": [
    {
     "data": {
      "image/png": "[encoded data removed]",
      "text/plain": [
       "<matplotlib.figure.Figure at 0x7f9250edf898>"
      ]
     },
     "metadata": {},
     "output_type": "display_data"
    }
   ],
   "source": [
    "xs, ys = lsaOut[:,0], lsaOut[:,1]\n",
    "for i in range(len(xs)): \n",
    "    plt.scatter(xs[i], ys[i])\n",
    "    plt.annotate(prideNounLabels[i], (xs[i], ys[i]))"
   ]
  },
  {
   "cell_type": "markdown",
   "metadata": {},
   "source": [
    "# Document Vectorization\n",
    "\n",
    "This uses a non-semantic technique for vectorizing documents, just using bag-of-words. We won't need any of the fancy features of SpaCy for this, just scikit-learn. We'll use a subset of the Inaugural Address Corpus that contains 20th and 21st century inaugural addresses. \n",
    "\n",
    "First, we'll vectorize the corpus using scikit-learn's `TfidfVectorizer` class. This creates a matrix of word frequencies. (It doesn't actually use TF-IDF, since we're turning that off in the options below.)"
   ]
  },
  {
   "cell_type": "code",
   "execution_count": 74,
   "metadata": {
    "collapsed": true
   },
   "outputs": [],
   "source": [
    "tfidf = TfidfVectorizer(input='filename', decode_error='ignore', use_idf=False)"
   ]
  },
  {
   "cell_type": "code",
   "execution_count": 75,
   "metadata": {
    "collapsed": true
   },
   "outputs": [],
   "source": [
    "inauguralFilenames = sorted(glob('inaugural/*'))\n",
    "\n",
    "# Make labels by removing the directory name and .txt extension: \n",
    "labels = [filename.split('/')[1] for filename in inauguralFilenames]\n",
    "labels = [filename.split('.')[0] for filename in labels]\n",
    "\n",
    "# While we're at it, let's make a list of the lengths, so we can use them to plot dot sizes. \n",
    "lengths = [len(open(filename, errors='ignore').read())/100 for filename in inauguralFilenames]\n",
    "\n",
    "# Add a manually compiled list of presidential party affiliations, \n",
    "# So that we can use this to color our dots. \n",
    "parties = 'rrrbbrrrbbbbbrrbbrrbrrrbbrrbr'"
   ]
  },
  {
   "cell_type": "code",
   "execution_count": 76,
   "metadata": {
    "collapsed": true
   },
   "outputs": [],
   "source": [
    "tfidfOut = tfidf.fit_transform(inauguralFilenames)"
   ]
  },
  {
   "cell_type": "code",
   "execution_count": 77,
   "metadata": {},
   "outputs": [
    {
     "data": {
      "text/plain": [
       "(29, 6177)"
      ]
     },
     "execution_count": 77,
     "metadata": {},
     "output_type": "execute_result"
    }
   ],
   "source": [
    "tfidfOut.shape"
   ]
  },
  {
   "cell_type": "code",
   "execution_count": 78,
   "metadata": {
    "collapsed": true
   },
   "outputs": [],
   "source": [
    "lsaOut = lsa.fit_transform(tfidfOut.todense())"
   ]
  },
  {
   "cell_type": "code",
   "execution_count": 79,
   "metadata": {},
   "outputs": [
    {
     "data": {
      "image/png": "[encoded data removed]",
      "text/plain": [
       "<matplotlib.figure.Figure at 0x7f924be6f358>"
      ]
     },
     "metadata": {},
     "output_type": "display_data"
    }
   ],
   "source": [
    "xs, ys = lsaOut[:,0], lsaOut[:,1]\n",
    "for i in range(len(xs)): \n",
    "    plt.scatter(xs[i], ys[i], c=parties[i], s=lengths[i], alpha=0.5)\n",
    "    plt.annotate(labels[i], (xs[i], ys[i]))"
   ]
  },
  {
   "cell_type": "markdown",
   "metadata": {},
   "source": [
    "# Average Sentence Lengths\n",
    "\n",
    "Let's load the Inaugural Address documents into SpaCy to analyze things like average sentence length. SpaCy makes this really easy. "
   ]
  },
  {
   "cell_type": "code",
   "execution_count": 80,
   "metadata": {
    "collapsed": true
   },
   "outputs": [],
   "source": [
    "inaugural = [nlp(open(doc, errors='ignore').read()) for doc in inauguralFilenames]"
   ]
  },
  {
   "cell_type": "code",
   "execution_count": 81,
   "metadata": {
    "collapsed": true
   },
   "outputs": [],
   "source": [
    "sentLengths = [ np.mean([len(sent) for sent in doc.sents]) for doc in inaugural ]"
   ]
  },
  {
   "cell_type": "code",
   "execution_count": 82,
   "metadata": {},
   "outputs": [
    {
     "data": {
      "text/plain": [
       "<matplotlib.axes._subplots.AxesSubplot at 0x7f924be7ba20>"
      ]
     },
     "execution_count": 82,
     "metadata": {},
     "output_type": "execute_result"
    },
    {
     "data": {
      "image/png": "[encoded data removed]",
      "text/plain": [
       "<matplotlib.figure.Figure at 0x7f9250b4c7f0>"
      ]
     },
     "metadata": {},
     "output_type": "display_data"
    }
   ],
   "source": [
    "pd.Series(sentLengths, index=labels).plot(kind='bar')"
   ]
  },
  {
   "cell_type": "markdown",
   "metadata": {},
   "source": [
    "# Term Frequency Distributions\n",
    "\n",
    "This sort of thing you've probably already seen in the NLTK book, but it's made even easier in SpaCy. We're simply going to count the occurrences of words and divide by the total number of words in the document. "
   ]
  },
  {
   "cell_type": "code",
   "execution_count": 83,
   "metadata": {
    "collapsed": true
   },
   "outputs": [],
   "source": [
    "# Create a Pandas Data Frame with each word counted in each document, \n",
    "# divided by the length of the document. \n",
    "inauguralSeries = [pd.Series(Counter(   \n",
    "                    [word.string.strip().lower() \n",
    "                     for word in doc]))/len(doc) \n",
    "                     for doc in inaugural]\n",
    "seriesDict = {label: series for label, series in zip(labels, inauguralSeries)}\n",
    "inauguralDf = pd.DataFrame(seriesDict).T.fillna(0)"
   ]
  },
  {
   "cell_type": "code",
   "execution_count": 84,
   "metadata": {},
   "outputs": [
    {
     "data": {
      "text/html": [
       "<div>\n",
       "<style>\n",
       "    .dataframe thead tr:only-child th {\n",
       "        text-align: right;\n",
       "    }\n",
       "\n",
       "    .dataframe thead th {\n",
       "        text-align: left;\n",
       "    }\n",
       "\n",
       "    .dataframe tbody tr th {\n",
       "        vertical-align: top;\n",
       "    }\n",
       "</style>\n",
       "<table border=\"1\" class=\"dataframe\">\n",
       "  <thead>\n",
       "    <tr style=\"text-align: right;\">\n",
       "      <th></th>\n",
       "      <th></th>\n",
       "      <th>!</th>\n",
       "      <th>\"</th>\n",
       "      <th>$</th>\n",
       "      <th>'</th>\n",
       "      <th>'ll</th>\n",
       "      <th>'s</th>\n",
       "      <th>'ve</th>\n",
       "      <th>(</th>\n",
       "      <th>)</th>\n",
       "      <th>...</th>\n",
       "      <th>yields</th>\n",
       "      <th>you</th>\n",
       "      <th>young</th>\n",
       "      <th>youngest</th>\n",
       "      <th>your</th>\n",
       "      <th>yours</th>\n",
       "      <th>yourselfxand</th>\n",
       "      <th>yourselves</th>\n",
       "      <th>youth</th>\n",
       "      <th>zealously</th>\n",
       "    </tr>\n",
       "  </thead>\n",
       "  <tbody>\n",
       "    <tr>\n",
       "      <th>1901-McKinley</th>\n",
       "      <td>0.004872</td>\n",
       "      <td>0.000406</td>\n",
       "      <td>0.004872</td>\n",
       "      <td>0.000406</td>\n",
       "      <td>0.0</td>\n",
       "      <td>0.0</td>\n",
       "      <td>0.000406</td>\n",
       "      <td>0.0</td>\n",
       "      <td>0.0</td>\n",
       "      <td>0.0</td>\n",
       "      <td>...</td>\n",
       "      <td>0.0</td>\n",
       "      <td>0.000406</td>\n",
       "      <td>0.0</td>\n",
       "      <td>0.0</td>\n",
       "      <td>0.000000</td>\n",
       "      <td>0.0</td>\n",
       "      <td>0.0</td>\n",
       "      <td>0.0</td>\n",
       "      <td>0.0</td>\n",
       "      <td>0.0</td>\n",
       "    </tr>\n",
       "    <tr>\n",
       "      <th>1905-Roosevelt</th>\n",
       "      <td>0.003656</td>\n",
       "      <td>0.000000</td>\n",
       "      <td>0.000000</td>\n",
       "      <td>0.000000</td>\n",
       "      <td>0.0</td>\n",
       "      <td>0.0</td>\n",
       "      <td>0.000914</td>\n",
       "      <td>0.0</td>\n",
       "      <td>0.0</td>\n",
       "      <td>0.0</td>\n",
       "      <td>...</td>\n",
       "      <td>0.0</td>\n",
       "      <td>0.000000</td>\n",
       "      <td>0.0</td>\n",
       "      <td>0.0</td>\n",
       "      <td>0.000000</td>\n",
       "      <td>0.0</td>\n",
       "      <td>0.0</td>\n",
       "      <td>0.0</td>\n",
       "      <td>0.0</td>\n",
       "      <td>0.0</td>\n",
       "    </tr>\n",
       "    <tr>\n",
       "      <th>1909-Taft</th>\n",
       "      <td>0.007303</td>\n",
       "      <td>0.000000</td>\n",
       "      <td>0.000679</td>\n",
       "      <td>0.000170</td>\n",
       "      <td>0.0</td>\n",
       "      <td>0.0</td>\n",
       "      <td>0.000000</td>\n",
       "      <td>0.0</td>\n",
       "      <td>0.0</td>\n",
       "      <td>0.0</td>\n",
       "      <td>...</td>\n",
       "      <td>0.0</td>\n",
       "      <td>0.000000</td>\n",
       "      <td>0.0</td>\n",
       "      <td>0.0</td>\n",
       "      <td>0.000000</td>\n",
       "      <td>0.0</td>\n",
       "      <td>0.0</td>\n",
       "      <td>0.0</td>\n",
       "      <td>0.0</td>\n",
       "      <td>0.0</td>\n",
       "    </tr>\n",
       "    <tr>\n",
       "      <th>1913-Wilson</th>\n",
       "      <td>0.005753</td>\n",
       "      <td>0.000523</td>\n",
       "      <td>0.001046</td>\n",
       "      <td>0.000000</td>\n",
       "      <td>0.0</td>\n",
       "      <td>0.0</td>\n",
       "      <td>0.002615</td>\n",
       "      <td>0.0</td>\n",
       "      <td>0.0</td>\n",
       "      <td>0.0</td>\n",
       "      <td>...</td>\n",
       "      <td>0.0</td>\n",
       "      <td>0.000000</td>\n",
       "      <td>0.0</td>\n",
       "      <td>0.0</td>\n",
       "      <td>0.000000</td>\n",
       "      <td>0.0</td>\n",
       "      <td>0.0</td>\n",
       "      <td>0.0</td>\n",
       "      <td>0.0</td>\n",
       "      <td>0.0</td>\n",
       "    </tr>\n",
       "    <tr>\n",
       "      <th>1917-Wilson</th>\n",
       "      <td>0.010161</td>\n",
       "      <td>0.000000</td>\n",
       "      <td>0.000000</td>\n",
       "      <td>0.000000</td>\n",
       "      <td>0.0</td>\n",
       "      <td>0.0</td>\n",
       "      <td>0.001195</td>\n",
       "      <td>0.0</td>\n",
       "      <td>0.0</td>\n",
       "      <td>0.0</td>\n",
       "      <td>...</td>\n",
       "      <td>0.0</td>\n",
       "      <td>0.001195</td>\n",
       "      <td>0.0</td>\n",
       "      <td>0.0</td>\n",
       "      <td>0.003586</td>\n",
       "      <td>0.0</td>\n",
       "      <td>0.0</td>\n",
       "      <td>0.0</td>\n",
       "      <td>0.0</td>\n",
       "      <td>0.0</td>\n",
       "    </tr>\n",
       "  </tbody>\n",
       "</table>\n",
       "<p>5 rows × 6213 columns</p>\n",
       "</div>"
      ],
      "text/plain": [
       "                                 !         \"         $    '  'll        's  \\\n",
       "1901-McKinley   0.004872  0.000406  0.004872  0.000406  0.0  0.0  0.000406   \n",
       "1905-Roosevelt  0.003656  0.000000  0.000000  0.000000  0.0  0.0  0.000914   \n",
       "1909-Taft       0.007303  0.000000  0.000679  0.000170  0.0  0.0  0.000000   \n",
       "1913-Wilson     0.005753  0.000523  0.001046  0.000000  0.0  0.0  0.002615   \n",
       "1917-Wilson     0.010161  0.000000  0.000000  0.000000  0.0  0.0  0.001195   \n",
       "\n",
       "                've    (    )    ...      yields       you  young  youngest  \\\n",
       "1901-McKinley   0.0  0.0  0.0    ...         0.0  0.000406    0.0       0.0   \n",
       "1905-Roosevelt  0.0  0.0  0.0    ...         0.0  0.000000    0.0       0.0   \n",
       "1909-Taft       0.0  0.0  0.0    ...         0.0  0.000000    0.0       0.0   \n",
       "1913-Wilson     0.0  0.0  0.0    ...         0.0  0.000000    0.0       0.0   \n",
       "1917-Wilson     0.0  0.0  0.0    ...         0.0  0.001195    0.0       0.0   \n",
       "\n",
       "                    your  yours  yourselfxand  yourselves  youth  zealously  \n",
       "1901-McKinley   0.000000    0.0           0.0         0.0    0.0        0.0  \n",
       "1905-Roosevelt  0.000000    0.0           0.0         0.0    0.0        0.0  \n",
       "1909-Taft       0.000000    0.0           0.0         0.0    0.0        0.0  \n",
       "1913-Wilson     0.000000    0.0           0.0         0.0    0.0        0.0  \n",
       "1917-Wilson     0.003586    0.0           0.0         0.0    0.0        0.0  \n",
       "\n",
       "[5 rows x 6213 columns]"
      ]
     },
     "execution_count": 84,
     "metadata": {},
     "output_type": "execute_result"
    }
   ],
   "source": [
    "inauguralDf.head()"
   ]
  },
  {
   "cell_type": "markdown",
   "metadata": {},
   "source": [
    "We can easily slice this data frame with words we're interested in, and plot those words across the corpus. For example, let's look at the proportions of the words \"America\" and \"world\": "
   ]
  },
  {
   "cell_type": "code",
   "execution_count": 83,
   "metadata": {},
   "outputs": [
    {
     "data": {
      "text/plain": [
       "<matplotlib.axes._subplots.AxesSubplot at 0x7f451cc014e0>"
      ]
     },
     "execution_count": 83,
     "metadata": {},
     "output_type": "execute_result"
    },
    {
     "data": {
      "image/png": "[encoded data removed]",
      "text/plain": [
       "<matplotlib.figure.Figure at 0x7f451cc06080>"
      ]
     },
     "metadata": {},
     "output_type": "display_data"
    }
   ],
   "source": [
    "inauguralDf[['world', 'america']].plot(kind='bar')"
   ]
  },
  {
   "cell_type": "markdown",
   "metadata": {},
   "source": [
    "We can even compute, say the ratio of uses of the word \"America\" to uses of the word \"world.\" "
   ]
  },
  {
   "cell_type": "code",
   "execution_count": 84,
   "metadata": {},
   "outputs": [
    {
     "data": {
      "text/plain": [
       "<matplotlib.axes._subplots.AxesSubplot at 0x7f451cee3c50>"
      ]
     },
     "execution_count": 84,
     "metadata": {},
     "output_type": "execute_result"
    },
    {
     "data": {
      "image/png": "[encoded data removed]",
      "text/plain": [
       "<matplotlib.figure.Figure at 0x7f451ced35c0>"
      ]
     },
     "metadata": {},
     "output_type": "display_data"
    }
   ],
   "source": [
    "americaWorldRatio = inauguralDf['america']/inauguralDf['world']\n",
    "americaWorldRatio.plot(kind='bar')"
   ]
  },
  {
   "cell_type": "markdown",
   "metadata": {},
   "source": [
    "# Document Similarity Matrix\n",
    "\n",
    "Using the `.similarity()` method from earlier that uses word vectors, we can very easily compute the document similarity between all the documents in our corpus. "
   ]
  },
  {
   "cell_type": "code",
   "execution_count": 85,
   "metadata": {
    "collapsed": true
   },
   "outputs": [],
   "source": [
    "similarities = [ [doc.similarity(other) for other in inaugural] for doc in inaugural ]\n",
    "similaritiesDf = pd.DataFrame(similarities, columns=labels, index=labels)"
   ]
  },
  {
   "cell_type": "code",
   "execution_count": 86,
   "metadata": {},
   "outputs": [
    {
     "data": {
      "text/plain": [
       "<matplotlib.axes._subplots.AxesSubplot at 0x7f451cb9a400>"
      ]
     },
     "execution_count": 86,
     "metadata": {},
     "output_type": "execute_result"
    },
    {
     "data": {
      "image/png": "[encoded data removed]",
      "text/plain": [
       "<matplotlib.figure.Figure at 0x7f451cde1518>"
      ]
     },
     "metadata": {},
     "output_type": "display_data"
    }
   ],
   "source": [
    "# Requires the Seaborn library. \n",
    "rcParams['figure.figsize'] = 16, 8\n",
    "seaborn.heatmap(similaritiesDf)"
   ]
  },
  {
   "cell_type": "markdown",
   "metadata": {},
   "source": [
    "# Exercises\n",
    "\n",
    "1. Extract all the events from _Pride and Prejudice_. \n",
    "2. Make a lexical dispersion plot of the word \"ni\" in _Monty Python and the Holy Grail_. What does this tell us? \n",
    "3. Find the shortest sentence in any inaugural address from our corpus.\n",
    "4. Find the president that used the lowest proportions of adjectives (or nouns, verbs) in his inaugural address. \n",
    "5. Find which of Charles Dickens's novels (or those of any other author) are the most semantically similar. \n",
    "\n",
    "# Learn More\n",
    "\n",
    " - [SpaCy Homepage](https://spacy.io/)\n",
    " - [Pycon: NLP in 10 Lines of Code](https://github.com/cytora/pycon-nlp-in-10-lines)\n",
    " - [What You Can Learn About Food By Analyzing a Million Yelp Reviews](http://nbviewer.jupyter.org/github/skipgram/modern-nlp-in-python/blob/master/executable/Modern_NLP_in_Python.ipynb)\n",
    " - [Other Tutorials Listed on Spacy.io](https://spacy.io/docs/usage/tutorials)\n",
    " \n",
    "# See Also\n",
    "\n",
    " - [Textacy, higher-level NLP based on SpaCy](https://github.com/chartbeat-labs/textacy)"
   ]
  },
  {
   "cell_type": "code",
   "execution_count": null,
   "metadata": {
    "collapsed": true
   },
   "outputs": [],
   "source": []
  }
 ],
 "metadata": {
  "kernelspec": {
   "display_name": "Python 3",
   "language": "python",
   "name": "python3"
  },
  "language_info": {
   "codemirror_mode": {
    "name": "ipython",
    "version": 3
   },
   "file_extension": ".py",
   "mimetype": "text/x-python",
   "name": "python",
   "nbconvert_exporter": "python",
   "pygments_lexer": "ipython3",
   "version": "3.6.3"
  }
 },
 "nbformat": 4,
 "nbformat_minor": 2
}
