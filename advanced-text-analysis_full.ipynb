{
 "cells": [
  {
   "cell_type": "markdown",
   "metadata": {},
   "source": [
    "# Advanced Text Analysis with SpaCy and Scikit-Learn\n",
    "\n",
    "This notebook was originally prepared for the workshop [Advanced Text Analysis with SpaCy and Scikit-Learn](http://dhweek.nycdh.org/event/advanced-text-analysis-with-spacy-and-scikit-learn/), presented as part of NYCDH Week 2017. Here, we try out features of the SpaCy library for natural language processing. We also use some text analysis techniques from the Scikit-Learn library. "
   ]
  },
  {
   "cell_type": "markdown",
   "metadata": {},
   "source": [
    "## Installation\n",
    "\n",
    "Installing this software is easiest on a Linux-like system. If you're not already running Linux, you can easily download a distribution and copy it to a USB disk, which you can then boot from. I recommend getting [DH-USB](https://github.com/DH-Box/dh-usb), a Linux-based operating system made for the Digital Humanities. DH-USB already has all of this software installed. \n",
    "\n",
    "If you have a different Linux-like system, (including, to greater or lesser degrees, Ubuntu, MacOS, Cygwin, and Bash for Windows), you should be able to run these commands to install SpaCy, Scikit-Learn, Pandas, and the other required libraries. Ete3 is a library for tree visualization which is optional. \n",
    "\n",
    "```bash\n",
    "sudo pip install spacy scikit-learn pandas ete3\n",
    "```\n",
    "\n",
    "Note that if your system has Python 2 as the default, instead of Python 3, you might have to run `pip3` instead of `pip`. \n",
    "\n",
    "Now download the SpaCy data with this command: \n",
    "\n",
    "```bash\n",
    "python -m spacy.en.download all\n",
    "```\n",
    "\n",
    "To get my sent2tree library and all the sample data, simply `git clone` the repository where this notebook lives: \n",
    "\n",
    "```bash\n",
    "git clone https://github.com/JonathanReeve/advanced-text-analysis-workshop-2017.git\n",
    "```"
   ]
  },
  {
   "cell_type": "code",
   "execution_count": 1,
   "metadata": {
    "collapsed": false
   },
   "outputs": [],
   "source": [
    "import spacy\n",
    "import pandas as pd\n",
    "import numpy as np\n",
    "from collections import Counter\n",
    "from glob import glob\n",
    "import matplotlib.pyplot as plt\n",
    "from sklearn.decomposition import TruncatedSVD\n",
    "from sklearn.feature_extraction.text import TfidfVectorizer\n",
    "\n",
    "# Display plots in this notebook, instead of externally. \n",
    "from pylab import rcParams\n",
    "rcParams['figure.figsize'] = 16, 8\n",
    "%matplotlib inline\n",
    "\n",
    "# The following are optional dependencies. \n",
    "# Feel free to comment these out. \n",
    "# Sent2tree uses the sent2tree.py module in this repository. \n",
    "from sent2tree import sentenceTree\n",
    "import ete3 \n",
    "import seaborn"
   ]
  },
  {
   "cell_type": "code",
   "execution_count": 2,
   "metadata": {
    "collapsed": true
   },
   "outputs": [],
   "source": [
    "# This command might take a little while. \n",
    "nlp = spacy.load('en')"
   ]
  },
  {
   "cell_type": "markdown",
   "metadata": {},
   "source": [
    "The sample data is the script of the 1975 film _Monty Python and the Holy Grail_, taken from the NLTK Book corpus, and the Project Gutenberg edition of Jane Austen's novel _Pride and Prejudice_. "
   ]
  },
  {
   "cell_type": "code",
   "execution_count": 3,
   "metadata": {
    "collapsed": true
   },
   "outputs": [],
   "source": [
    "grail_raw = open('grail.txt').read()\n",
    "pride_raw = open('pride.txt').read()"
   ]
  },
  {
   "cell_type": "code",
   "execution_count": 4,
   "metadata": {
    "collapsed": true
   },
   "outputs": [],
   "source": [
    "# Parse the texts. These commands might take a little while. \n",
    "grail = nlp(grail_raw)\n",
    "pride = nlp(pride_raw)"
   ]
  },
  {
   "cell_type": "markdown",
   "metadata": {},
   "source": [
    "# Exploring the Document\n",
    "\n",
    "Each SpaCy document is already tokenized into words, which are accessible by iterating over the document: "
   ]
  },
  {
   "cell_type": "code",
   "execution_count": 5,
   "metadata": {
    "collapsed": false
   },
   "outputs": [
    {
     "data": {
      "text/plain": [
       "﻿It"
      ]
     },
     "execution_count": 5,
     "metadata": {},
     "output_type": "execute_result"
    }
   ],
   "source": [
    "pride[0]"
   ]
  },
  {
   "cell_type": "code",
   "execution_count": 6,
   "metadata": {
    "collapsed": false
   },
   "outputs": [
    {
     "data": {
      "text/plain": [
       "﻿It is a truth universally acknowledged, that a single"
      ]
     },
     "execution_count": 6,
     "metadata": {},
     "output_type": "execute_result"
    }
   ],
   "source": [
    "pride[:10]"
   ]
  },
  {
   "cell_type": "markdown",
   "metadata": {},
   "source": [
    "You can also iterate over the sentences. `doc.sents` is a generator object, so we can use `next()`: "
   ]
  },
  {
   "cell_type": "code",
   "execution_count": 7,
   "metadata": {
    "collapsed": false
   },
   "outputs": [
    {
     "data": {
      "text/plain": [
       "﻿It is a truth universally acknowledged, that a single man in possession\n",
       "of a good fortune, must be in want of a wife.\n"
      ]
     },
     "execution_count": 7,
     "metadata": {},
     "output_type": "execute_result"
    }
   ],
   "source": [
    "next(pride.sents)"
   ]
  },
  {
   "cell_type": "markdown",
   "metadata": {},
   "source": [
    "Or you can force it into a list, and then do things with it: "
   ]
  },
  {
   "cell_type": "code",
   "execution_count": 8,
   "metadata": {
    "collapsed": false
   },
   "outputs": [
    {
     "data": {
      "text/plain": [
       "﻿It is a truth universally acknowledged, that a single man in possession\n",
       "of a good fortune, must be in want of a wife.\n"
      ]
     },
     "execution_count": 8,
     "metadata": {},
     "output_type": "execute_result"
    }
   ],
   "source": [
    "prideSents = list(pride.sents)\n",
    "prideSents[0]"
   ]
  },
  {
   "cell_type": "markdown",
   "metadata": {},
   "source": [
    "For example, let's find the longest sentence(s) in _Pride and Prejudice_: "
   ]
  },
  {
   "cell_type": "code",
   "execution_count": 9,
   "metadata": {
    "collapsed": false
   },
   "outputs": [
    {
     "data": {
      "text/plain": [
       "[Every lingering struggle in his favour grew fainter\n",
       " and fainter; and in farther justification of Mr. Darcy, she could not\n",
       " but allow that Mr. Bingley, when questioned by Jane, had long ago\n",
       " asserted his blamelessness in the affair; that proud and repulsive as\n",
       " were his manners, she had never, in the whole course of their\n",
       " acquaintance--an acquaintance which had latterly brought them much\n",
       " together, and given her a sort of intimacy with his ways--seen anything\n",
       " that betrayed him to be unprincipled or unjust--anything that spoke him\n",
       " of irreligious or immoral habits; that among his own connections he was\n",
       " esteemed and valued--that even Wickham had allowed him merit as a\n",
       " brother, and that she had often heard him speak so affectionately of his\n",
       " sister as to prove him capable of _some_ amiable feeling; that had his\n",
       " actions been what Mr. Wickham represented them, so gross a violation of\n",
       " everything right could hardly have been concealed from the world; and\n",
       " that friendship between a person capable of it, and such an amiable man\n",
       " as Mr. Bingley, was incomprehensible.\n",
       " ]"
      ]
     },
     "execution_count": 9,
     "metadata": {},
     "output_type": "execute_result"
    }
   ],
   "source": [
    "prideSentenceLengths = [len(sent) for sent in prideSents]\n",
    "[sent for sent in prideSents if len(sent) == max(prideSentenceLengths)]"
   ]
  },
  {
   "cell_type": "markdown",
   "metadata": {},
   "source": [
    "## Exploring Words\n",
    "\n",
    "Each word has a crazy number of properties: "
   ]
  },
  {
   "cell_type": "code",
   "execution_count": 10,
   "metadata": {
    "collapsed": false
   },
   "outputs": [
    {
     "data": {
      "text/plain": [
       "universally"
      ]
     },
     "execution_count": 10,
     "metadata": {},
     "output_type": "execute_result"
    }
   ],
   "source": [
    "pride[4]"
   ]
  },
  {
   "cell_type": "code",
   "execution_count": 11,
   "metadata": {
    "collapsed": false
   },
   "outputs": [
    {
     "data": {
      "text/plain": [
       "['ancestors',\n",
       " 'check_flag',\n",
       " 'children',\n",
       " 'cluster',\n",
       " 'conjuncts',\n",
       " 'dep',\n",
       " 'dep_',\n",
       " 'doc',\n",
       " 'ent_id',\n",
       " 'ent_id_',\n",
       " 'ent_iob',\n",
       " 'ent_iob_',\n",
       " 'ent_type',\n",
       " 'ent_type_',\n",
       " 'has_repvec',\n",
       " 'has_vector',\n",
       " 'head',\n",
       " 'i',\n",
       " 'idx',\n",
       " 'is_alpha',\n",
       " 'is_ancestor',\n",
       " 'is_ancestor_of',\n",
       " 'is_ascii',\n",
       " 'is_bracket',\n",
       " 'is_digit',\n",
       " 'is_left_punct',\n",
       " 'is_lower',\n",
       " 'is_oov',\n",
       " 'is_punct',\n",
       " 'is_quote',\n",
       " 'is_right_punct',\n",
       " 'is_space',\n",
       " 'is_stop',\n",
       " 'is_title',\n",
       " 'lang',\n",
       " 'lang_',\n",
       " 'left_edge',\n",
       " 'lefts',\n",
       " 'lemma',\n",
       " 'lemma_',\n",
       " 'lex_id',\n",
       " 'like_email',\n",
       " 'like_num',\n",
       " 'like_url',\n",
       " 'lower',\n",
       " 'lower_',\n",
       " 'n_lefts',\n",
       " 'n_rights',\n",
       " 'nbor',\n",
       " 'norm',\n",
       " 'norm_',\n",
       " 'orth',\n",
       " 'orth_',\n",
       " 'pos',\n",
       " 'pos_',\n",
       " 'prefix',\n",
       " 'prefix_',\n",
       " 'prob',\n",
       " 'rank',\n",
       " 'repvec',\n",
       " 'right_edge',\n",
       " 'rights',\n",
       " 'sentiment',\n",
       " 'shape',\n",
       " 'shape_',\n",
       " 'similarity',\n",
       " 'string',\n",
       " 'subtree',\n",
       " 'suffix',\n",
       " 'suffix_',\n",
       " 'tag',\n",
       " 'tag_',\n",
       " 'text',\n",
       " 'text_with_ws',\n",
       " 'vector',\n",
       " 'vector_norm',\n",
       " 'vocab',\n",
       " 'whitespace_']"
      ]
     },
     "execution_count": 11,
     "metadata": {},
     "output_type": "execute_result"
    }
   ],
   "source": [
    "[prop for prop in dir(pride[4]) if not prop.startswith('_')]"
   ]
  },
  {
   "cell_type": "markdown",
   "metadata": {},
   "source": [
    "Using just the indices (`.i`), we can make a lexical dispersion plot for the occurrences of that word in the novel. (This is just the SpaCy equivalent of the lexical dispersion plot from the NLTK Book, chapter 1.) "
   ]
  },
  {
   "cell_type": "code",
   "execution_count": 12,
   "metadata": {
    "collapsed": false
   },
   "outputs": [
    {
     "data": {
      "text/plain": [
       "4"
      ]
     },
     "execution_count": 12,
     "metadata": {},
     "output_type": "execute_result"
    }
   ],
   "source": [
    "pride[4].i"
   ]
  },
  {
   "cell_type": "code",
   "execution_count": 13,
   "metadata": {
    "collapsed": true
   },
   "outputs": [],
   "source": [
    "def locations(needle, haystack): \n",
    "    \"\"\" \n",
    "    Make a list of locations, bin those into a histogram, \n",
    "    and finally put it into a Pandas Series object so that we\n",
    "    can later make it into a DataFrame. \n",
    "    \"\"\"\n",
    "    return pd.Series(np.histogram(\n",
    "        [word.i for word in haystack \n",
    "         if word.text.lower() == needle], bins=50)[0])"
   ]
  },
  {
   "cell_type": "code",
   "execution_count": 14,
   "metadata": {
    "collapsed": false
   },
   "outputs": [
    {
     "data": {
      "text/plain": [
       "array([<matplotlib.axes._subplots.AxesSubplot object at 0x7f7ab0386198>,\n",
       "       <matplotlib.axes._subplots.AxesSubplot object at 0x7f7aaf7872e8>,\n",
       "       <matplotlib.axes._subplots.AxesSubplot object at 0x7f7aaf6f46d8>,\n",
       "       <matplotlib.axes._subplots.AxesSubplot object at 0x7f7aaf64ac88>], dtype=object)"
      ]
     },
     "execution_count": 14,
     "metadata": {},
     "output_type": "execute_result"
    },
    {
     "data": {
      "image/png": "[encoded data removed]",
      "text/plain": [
       "<matplotlib.figure.Figure at 0x7f7ab07065f8>"
      ]
     },
     "metadata": {},
     "output_type": "display_data"
    }
   ],
   "source": [
    "# I have no idea why I have to keep running this. \n",
    "rcParams['figure.figsize'] = 16, 8\n",
    "\n",
    "pd.DataFrame(\n",
    "    {name: locations(name.lower(), pride) \n",
    "     for name in ['Elizabeth', 'Darcy', 'Jane', 'Bennet']}\n",
    ").plot(subplots=True)"
   ]
  },
  {
   "cell_type": "markdown",
   "metadata": {},
   "source": [
    "See if you can tell which characters end up getting together at the end, just based on this plot. "
   ]
  },
  {
   "cell_type": "markdown",
   "metadata": {},
   "source": [
    "# Exploring Named Entities\n",
    "\n",
    "Named entities can be accessed through `doc.ents`. Let's find all the types of named entities from _Monty Python and the Holy Grail_: "
   ]
  },
  {
   "cell_type": "code",
   "execution_count": 15,
   "metadata": {
    "collapsed": false
   },
   "outputs": [
    {
     "data": {
      "text/plain": [
       "{'CARDINAL',\n",
       " 'DATE',\n",
       " 'EVENT',\n",
       " 'GPE',\n",
       " 'LANGUAGE',\n",
       " 'MONEY',\n",
       " 'NORP',\n",
       " 'ORDINAL',\n",
       " 'ORG',\n",
       " 'PERSON',\n",
       " 'PRODUCT',\n",
       " 'QUANTITY',\n",
       " 'TIME',\n",
       " 'WORK_OF_ART'}"
      ]
     },
     "execution_count": 15,
     "metadata": {},
     "output_type": "execute_result"
    }
   ],
   "source": [
    "set([w.label_ for w in grail.ents])"
   ]
  },
  {
   "cell_type": "markdown",
   "metadata": {},
   "source": [
    "What about those that are works of art? "
   ]
  },
  {
   "cell_type": "code",
   "execution_count": 16,
   "metadata": {
    "collapsed": false
   },
   "outputs": [
    {
     "data": {
      "text/plain": [
       "[the Holy Pin, the Holy Grail in the Castle of uuggggggh', the Holy Grail]"
      ]
     },
     "execution_count": 16,
     "metadata": {},
     "output_type": "execute_result"
    }
   ],
   "source": [
    "[ent for ent in grail.ents if ent.label_ == 'WORK_OF_ART']"
   ]
  },
  {
   "cell_type": "markdown",
   "metadata": {},
   "source": [
    "Place names? "
   ]
  },
  {
   "cell_type": "code",
   "execution_count": 17,
   "metadata": {
    "collapsed": false
   },
   "outputs": [
    {
     "data": {
      "text/plain": [
       "[England,\n",
       " Camelot,\n",
       " Mercea,\n",
       " Divine,\n",
       " Camelot,\n",
       " Yeaaah,\n",
       " Yeaah,\n",
       " Camelot,\n",
       " Lancelot,\n",
       " Camelot,\n",
       " Camelot,\n",
       " England,\n",
       " Camelot,\n",
       " Castle Anthrax,\n",
       " Britain,\n",
       " Camelot,\n",
       " Nador,\n",
       " Spring,\n",
       " Spring,\n",
       " Antioch,\n",
       " France,\n",
       " Cornwall,\n",
       " Assyria]"
      ]
     },
     "execution_count": 17,
     "metadata": {},
     "output_type": "execute_result"
    }
   ],
   "source": [
    "[ent for ent in grail.ents if ent.label_ == 'GPE']"
   ]
  },
  {
   "cell_type": "markdown",
   "metadata": {},
   "source": [
    "Organizations? "
   ]
  },
  {
   "cell_type": "code",
   "execution_count": 18,
   "metadata": {
    "collapsed": false
   },
   "outputs": [
    {
     "data": {
      "text/plain": [
       "{'ARTHUR',\n",
       " 'Aramaic',\n",
       " 'Armaments',\n",
       " 'BEDEVERE',\n",
       " 'Caerbannog',\n",
       " 'Camelot',\n",
       " 'Chicken of Bristol',\n",
       " 'Excalibur',\n",
       " 'HISTORIAN',\n",
       " 'Holy Grail',\n",
       " 'I.',\n",
       " 'KNIGHT',\n",
       " 'Knights',\n",
       " 'Knights of Ni',\n",
       " 'Knights of the Round Table',\n",
       " 'Launcelot',\n",
       " 'MAN',\n",
       " 'Olfin Bedwere of',\n",
       " 'Pie Iesu',\n",
       " 'Robinson',\n",
       " 'The Black Knight',\n",
       " 'The Bridge of Death',\n",
       " 'The Castle Anthrax',\n",
       " 'The Holy Hand Grenade of',\n",
       " 'The Lady of',\n",
       " 'Uther Pendragon',\n",
       " \"the BLACK KNIGHT's\",\n",
       " 'the Bridge of Death',\n",
       " 'the Castle Anthrax',\n",
       " 'the Court of Camelot',\n",
       " 'the Holy Grail',\n",
       " 'the Round Table',\n",
       " 'the Tall Tower'}"
      ]
     },
     "execution_count": 18,
     "metadata": {},
     "output_type": "execute_result"
    }
   ],
   "source": [
    "set(list([ent.string.strip() for ent in grail.ents if ent.label_ == 'ORG']))"
   ]
  },
  {
   "cell_type": "markdown",
   "metadata": {},
   "source": [
    "How about groups of people? "
   ]
  },
  {
   "cell_type": "code",
   "execution_count": 19,
   "metadata": {
    "collapsed": false
   },
   "outputs": [
    {
     "data": {
      "text/plain": [
       "{'African ',\n",
       " 'Britons',\n",
       " 'English ',\n",
       " 'European ',\n",
       " 'French',\n",
       " 'French ',\n",
       " 'Psalms',\n",
       " 'Summer',\n",
       " 'Summer '}"
      ]
     },
     "execution_count": 19,
     "metadata": {},
     "output_type": "execute_result"
    }
   ],
   "source": [
    "set([ent.string for ent in grail.ents if ent.label_ == 'NORP'])"
   ]
  },
  {
   "cell_type": "markdown",
   "metadata": {},
   "source": [
    "\"French\" here refers to French _people_, not the French language. We can verify that by getting all the sentences in which this particular type of entity occurs: "
   ]
  },
  {
   "cell_type": "code",
   "execution_count": 20,
   "metadata": {
    "collapsed": false
   },
   "outputs": [
    {
     "data": {
      "text/plain": [
       "[FRENCH GUARD: I'm French!  ,\n",
       " Well, now, uh, Launcelot, Galahad, and I, uh, wait until nightfall, and then leap out of the rabbit, taking the French, uh, by surprise.  ,\n",
       " The ferocity of the French taunting took him completely by surprise, and Arthur became convinced that a new strategy was required if the quest for the Holy Grail were to be brought to a successful conclusion.  ,\n",
       " So, we French fellows outwit you a second time!,\n",
       " So, you think you could out-clever us French folk with your silly knees-bent running about advancing behaviour?!  ,\n",
       " ARTHUR: Stand by for attack! [exciting music] [music stops] [silence] French persons!]"
      ]
     },
     "execution_count": 20,
     "metadata": {},
     "output_type": "execute_result"
    }
   ],
   "source": [
    "frenchPeople = [ent for ent in grail.ents if ent.label_ == 'NORP' and ent.string.strip() == 'French']\n",
    "[ent.sent for ent in frenchPeople]"
   ]
  },
  {
   "cell_type": "markdown",
   "metadata": {},
   "source": [
    "# Parts of Speech\n",
    "\n",
    "First, let's get the noun chunks: "
   ]
  },
  {
   "cell_type": "code",
   "execution_count": 21,
   "metadata": {
    "collapsed": false
   },
   "outputs": [
    {
     "data": {
      "text/plain": [
       "[﻿It,\n",
       " a truth,\n",
       " a single man,\n",
       " possession,\n",
       " a good fortune,\n",
       " want,\n",
       " a wife,\n",
       " the feelings,\n",
       " views,\n",
       " such a man,\n",
       " a neighbourhood,\n",
       " this truth,\n",
       " the minds,\n",
       " the surrounding families,\n",
       " he,\n",
       " their daughters,\n",
       " “My dear Mr. Bennet,\n",
       " his lady,\n",
       " him,\n",
       " you,\n",
       " Netherfield Park,\n",
       " Mr. Bennet,\n",
       " he,\n",
       " it,\n",
       " she,\n",
       " Mrs. Long,\n",
       " she,\n",
       " me,\n",
       " it,\n",
       " Mr. Bennet,\n",
       " no answer,\n",
       " you,\n",
       " who,\n",
       " it,\n",
       " his wife,\n",
       " me,\n",
       " I,\n",
       " no objection,\n",
       " it,\n",
       " invitation,\n",
       " you,\n",
       " Mrs. Long,\n",
       " Netherfield,\n",
       " a young man,\n",
       " large fortune,\n",
       " the north,\n",
       " England,\n",
       " he,\n",
       " Monday,\n",
       " a chaise,\n",
       " the place,\n",
       " it,\n",
       " he,\n",
       " Mr. Morris,\n",
       " he,\n",
       " possession,\n",
       " Michaelmas,\n",
       " his servants,\n",
       " the house,\n",
       " the end,\n",
       " next week,\n",
       " What,\n",
       " his name,\n",
       " Bingley,\n",
       " he,\n",
       " A single man,\n",
       " large fortune,\n",
       " What,\n",
       " our girls,\n",
       " it,\n",
       " them,\n",
       " My dear Mr. Bennet,\n",
       " his wife,\n",
       " you,\n",
       " You,\n",
       " I,\n",
       " them,\n",
       " his design,\n",
       " Design,\n",
       " you,\n",
       " it,\n",
       " he,\n",
       " love,\n",
       " them,\n",
       " you,\n",
       " him,\n",
       " he,\n",
       " I,\n",
       " no occasion,\n",
       " You,\n",
       " the girls,\n",
       " you,\n",
       " them,\n",
       " themselves,\n",
       " you,\n",
       " them,\n",
       " Mr. Bingley,\n",
       " you,\n",
       " the\n",
       " party,\n",
       " you,\n",
       " me,\n",
       " I,\n",
       " my share,\n",
       " beauty,\n",
       " I,\n",
       " anything,\n",
       " a woman,\n",
       " five\n",
       " grown-up daughters,\n",
       " she,\n",
       " thinking,\n",
       " her own beauty,\n",
       " such cases,\n",
       " a woman,\n",
       " not often much beauty,\n",
       " you,\n",
       " Mr. Bingley,\n",
       " he,\n",
       " the neighbourhood,\n",
       " It,\n",
       " I,\n",
       " I,\n",
       " you,\n",
       " your daughters,\n",
       " what an establishment,\n",
       " it,\n",
       " them,\n",
       " Sir William,\n",
       " that account,\n",
       " you,\n",
       " they,\n",
       " no\n",
       " newcomers,\n",
       " you,\n",
       " it,\n",
       " _us,\n",
       " him,\n",
       " you,\n",
       " You,\n",
       " I,\n",
       " Mr. Bingley,\n",
       " you,\n",
       " I,\n",
       " a few lines,\n",
       " you,\n",
       " him,\n",
       " my\n",
       " hearty consent,\n",
       " whichever,\n",
       " he,\n",
       " the girls,\n",
       " I,\n",
       " a good word,\n",
       " my little Lizzy,\n",
       " I,\n",
       " you,\n",
       " no such thing,\n",
       " Lizzy,\n",
       " the\n",
       " others,\n",
       " I,\n",
       " she,\n",
       " Jane,\n",
       " Lydia,\n",
       " you,\n",
       " the preference,\n",
       " They,\n",
       " none,\n",
       " them,\n",
       " them,\n",
       " he,\n",
       " they,\n",
       " other girls,\n",
       " Lizzy,\n",
       " something,\n",
       " quickness,\n",
       " her sisters,\n",
       " you,\n",
       " your own children,\n",
       " such a way,\n",
       " You,\n",
       " delight,\n",
       " me,\n",
       " You,\n",
       " no compassion,\n",
       " my poor nerves,\n",
       " You,\n",
       " me,\n",
       " I,\n",
       " a high respect,\n",
       " your nerves,\n",
       " They,\n",
       " my old friends,\n",
       " I,\n",
       " you,\n",
       " them,\n",
       " consideration,\n",
       " you,\n",
       " what,\n",
       " I,\n",
       " I,\n",
       " you,\n",
       " it,\n",
       " many young men,\n",
       " a year,\n",
       " the neighbourhood,\n",
       " It,\n",
       " no use,\n",
       " us,\n",
       " you,\n",
       " them,\n",
       " it,\n",
       " I,\n",
       " them,\n",
       " Mr. Bennet,\n",
       " quick parts,\n",
       " sarcastic humour,\n",
       " reserve,\n",
       " caprice,\n",
       " the experience,\n",
       " three-and-twenty years,\n",
       " his wife,\n",
       " his character,\n",
       " mind,\n",
       " She,\n",
       " a woman,\n",
       " mean understanding,\n",
       " little information,\n",
       " uncertain temper,\n",
       " she,\n",
       " she,\n",
       " herself,\n",
       " The business,\n",
       " her life,\n",
       " her\n",
       " daughters,\n",
       " its solace,\n",
       " Chapter 2\n",
       " \n",
       " \n",
       " Mr. Bennet,\n",
       " who,\n",
       " Mr. Bingley,\n",
       " He,\n",
       " him,\n",
       " his wife,\n",
       " he,\n",
       " the evening,\n",
       " the visit,\n",
       " she,\n",
       " no knowledge,\n",
       " it,\n",
       " It,\n",
       " the following\n",
       " manner,\n",
       " his second daughter,\n",
       " a hat,\n",
       " he,\n",
       " her,\n",
       " I,\n",
       " Mr. Bingley,\n",
       " it,\n",
       " We,\n",
       " a way,\n",
       " Mr. Bingley,\n",
       " her mother,\n",
       " we,\n",
       " you,\n",
       " Elizabeth,\n",
       " we,\n",
       " him,\n",
       " the\n",
       " assemblies,\n",
       " Mrs. Long,\n",
       " him,\n",
       " I,\n",
       " Mrs. Long,\n",
       " any such thing,\n",
       " She,\n",
       " two nieces,\n",
       " She,\n",
       " a selfish, hypocritical woman,\n",
       " I,\n",
       " no opinion,\n",
       " her,\n",
       " I,\n",
       " Mr. Bennet,\n",
       " I,\n",
       " you,\n",
       " you,\n",
       " Mrs. Bennet,\n",
       " any reply,\n",
       " herself,\n",
       " her daughters,\n",
       " Heaven’s sake,\n",
       " a little\n",
       " compassion,\n",
       " my nerves,\n",
       " You,\n",
       " them,\n",
       " pieces,\n",
       " Kitty,\n",
       " no discretion,\n",
       " her coughs,\n",
       " her father,\n",
       " she,\n",
       " them,\n",
       " I,\n",
       " my own amusement,\n",
       " your next ball,\n",
       " Lizzy,\n",
       " morrow,\n",
       " To-morrow fortnight,\n",
       " it,\n",
       " her mother,\n",
       " Mrs. Long,\n",
       " it,\n",
       " her,\n",
       " him,\n",
       " she,\n",
       " him,\n",
       " you,\n",
       " the advantage,\n",
       " your friend,\n",
       " Mr. Bingley,\n",
       " _her_.,\n",
       " Mr. Bennet,\n",
       " I,\n",
       " him,\n",
       " you,\n",
       " I,\n",
       " your circumspection,\n",
       " A fortnight’s acquaintance,\n",
       " One,\n",
       " what,\n",
       " a man,\n",
       " the end,\n",
       " a\n",
       " fortnight,\n",
       " _we,\n",
       " somebody,\n",
       " Mrs. Long,\n",
       " her neices,\n",
       " their chance,\n",
       " she,\n",
       " it,\n",
       " it an act,\n",
       " kindness,\n",
       " you,\n",
       " the office,\n",
       " I,\n",
       " it,\n",
       " myself,\n",
       " The girls,\n",
       " their father,\n",
       " Mrs. Bennet,\n",
       " Nonsense,\n",
       " What,\n",
       " the meaning,\n",
       " that emphatic exclamation,\n",
       " he,\n",
       " you,\n",
       " the forms,\n",
       " introduction,\n",
       " the stress,\n",
       " them,\n",
       " nonsense,\n",
       " I,\n",
       " you,\n",
       " you,\n",
       " you,\n",
       " a young lady,\n",
       " deep reflection,\n",
       " I,\n",
       " great books,\n",
       " extracts,\n",
       " Mary,\n",
       " something,\n",
       " Mary,\n",
       " her ideas,\n",
       " he,\n",
       " us,\n",
       " Mr.\n",
       " Bingley,\n",
       " I,\n",
       " Mr. Bingley,\n",
       " his wife,\n",
       " I,\n",
       " you,\n",
       " I,\n",
       " I,\n",
       " him,\n",
       " It,\n",
       " I,\n",
       " the visit,\n",
       " we,\n",
       " the acquaintance,\n",
       " The astonishment,\n",
       " the ladies,\n",
       " just what,\n",
       " he,\n",
       " Mrs.\n",
       " Bennet,\n",
       " the rest,\n",
       " the first tumult,\n",
       " joy,\n",
       " she,\n",
       " it,\n",
       " what,\n",
       " she,\n",
       " it,\n",
       " you,\n",
       " I,\n",
       " I,\n",
       " you,\n",
       " I,\n",
       " you,\n",
       " your girls,\n",
       " such an acquaintance,\n",
       " I,\n",
       " it,\n",
       " such a\n",
       " good joke,\n",
       " you,\n",
       " a\n",
       " word,\n",
       " it,\n",
       " you,\n",
       " you,\n",
       " Mr. Bennet,\n",
       " he,\n",
       " he,\n",
       " the room,\n",
       " the raptures,\n",
       " his wife,\n",
       " What an excellent father,\n",
       " you,\n",
       " girls,\n",
       " she,\n",
       " the door,\n",
       " I,\n",
       " you,\n",
       " him,\n",
       " his kindness,\n",
       " that matter,\n",
       " our time,\n",
       " life,\n",
       " it,\n",
       " I,\n",
       " you,\n",
       " new acquaintances,\n",
       " your sakes,\n",
       " we,\n",
       " anything,\n",
       " Lydia,\n",
       " you,\n",
       " I,\n",
       " Mr. Bingley,\n",
       " you,\n",
       " the next\n",
       " ball,\n",
       " Lydia,\n",
       " I,\n",
       " I,\n",
       " I,\n",
       " The rest,\n",
       " the evening,\n",
       " he,\n",
       " Mr. Bennet’s visit,\n",
       " they,\n",
       " him,\n",
       " dinner,\n",
       " the assistance,\n",
       " her five\n",
       " daughters,\n",
       " the subject,\n",
       " her\n",
       " husband,\n",
       " any satisfactory description,\n",
       " Mr. Bingley,\n",
       " They,\n",
       " him,\n",
       " various ways,\n",
       " barefaced questions,\n",
       " ingenious suppositions,\n",
       " distant surmises,\n",
       " he,\n",
       " the skill,\n",
       " them,\n",
       " they,\n",
       " the second-hand intelligence,\n",
       " their neighbour,\n",
       " Lady Lucas,\n",
       " Her report,\n",
       " Sir William,\n",
       " him,\n",
       " He,\n",
       " the whole,\n",
       " he,\n",
       " the next assembly,\n",
       " a large party,\n",
       " Nothing,\n",
       " dancing,\n",
       " a certain step,\n",
       " love,\n",
       " very lively\n",
       " hopes,\n",
       " Mr. Bingley,\n",
       " ’s heart,\n",
       " I,\n",
       " my daughters,\n",
       " Netherfield,\n",
       " Mrs. Bennet,\n",
       " her husband,\n",
       " all the others,\n",
       " I,\n",
       " nothing,\n",
       " a few days,\n",
       " Mr. Bingley,\n",
       " Mr. Bennet’s visit,\n",
       " ten minutes,\n",
       " him,\n",
       " his library,\n",
       " He,\n",
       " hopes,\n",
       " a sight,\n",
       " the young ladies,\n",
       " whose beauty,\n",
       " he,\n",
       " he,\n",
       " only the father,\n",
       " The ladies,\n",
       " they,\n",
       " the advantage,\n",
       " an upper\n",
       " window,\n",
       " he,\n",
       " a blue coat,\n",
       " a black horse,\n",
       " An invitation,\n",
       " dinner,\n",
       " Mrs. Bennet,\n",
       " the courses,\n",
       " credit,\n",
       " her\n",
       " housekeeping,\n",
       " an answer,\n",
       " it,\n",
       " Mr. Bingley,\n",
       " town,\n",
       " the honour,\n",
       " their invitation,\n",
       " Mrs. Bennet,\n",
       " She,\n",
       " what business,\n",
       " he,\n",
       " town,\n",
       " his arrival,\n",
       " Hertfordshire,\n",
       " she,\n",
       " he,\n",
       " one place,\n",
       " Netherfield,\n",
       " he,\n",
       " Lady Lucas,\n",
       " her fears,\n",
       " the idea,\n",
       " London,\n",
       " a large party,\n",
       " the ball,\n",
       " a report,\n",
       " Mr. Bingley,\n",
       " twelve ladies,\n",
       " seven gentlemen,\n",
       " him,\n",
       " the assembly,\n",
       " The girls,\n",
       " such a number,\n",
       " ladies,\n",
       " the ball,\n",
       " hearing,\n",
       " he,\n",
       " him,\n",
       " London,\n",
       " his five sisters,\n",
       " a cousin,\n",
       " the party,\n",
       " the assembly room,\n",
       " it,\n",
       " Bingley,\n",
       " his two sisters,\n",
       " Mr. Bingley,\n",
       " he,\n",
       " a pleasant\n",
       " countenance,\n",
       " easy, unaffected manners,\n",
       " His sisters,\n",
       " fine women,\n",
       " an air,\n",
       " decided fashion,\n",
       " law,\n",
       " Mr. Hurst,\n",
       " the gentleman,\n",
       " his friend,\n",
       " the attention,\n",
       " the room,\n",
       " his fine, tall person,\n",
       " general circulation,\n",
       " five minutes,\n",
       " his entrance,\n",
       " ten thousand a year,\n",
       " The gentlemen,\n",
       " him,\n",
       " a fine figure,\n",
       " a man,\n",
       " the ladies,\n",
       " he,\n",
       " much handsomer,\n",
       " Mr. Bingley,\n",
       " he,\n",
       " great\n",
       " admiration,\n",
       " about half the evening,\n",
       " his manners,\n",
       " a disgust,\n",
       " the tide,\n",
       " his popularity,\n",
       " he,\n",
       " his company,\n",
       " Derbyshire,\n",
       " him,\n",
       " , disagreeable countenance,\n",
       " his friend,\n",
       " Mr. Bingley,\n",
       " himself,\n",
       " all the principal\n",
       " people,\n",
       " the room,\n",
       " he,\n",
       " every dance,\n",
       " the ball,\n",
       " Netherfield,\n",
       " Such amiable qualities,\n",
       " themselves,\n",
       " What a contrast,\n",
       " him,\n",
       " his friend,\n",
       " Mr. Darcy,\n",
       " Mrs. Hurst,\n",
       " Miss Bingley,\n",
       " any other lady,\n",
       " the rest,\n",
       " the evening,\n",
       " the room,\n",
       " his own party,\n",
       " His character,\n",
       " He,\n",
       " the proudest, most disagreeable man,\n",
       " the world,\n",
       " everybody,\n",
       " he,\n",
       " him,\n",
       " Mrs. Bennet,\n",
       " whose dislike,\n",
       " his general behaviour,\n",
       " particular resentment,\n",
       " her daughters,\n",
       " Elizabeth Bennet,\n",
       " the scarcity,\n",
       " gentlemen,\n",
       " two dances,\n",
       " part,\n",
       " that time,\n",
       " Mr. Darcy,\n",
       " her,\n",
       " a conversation,\n",
       " him,\n",
       " who,\n",
       " the dance,\n",
       " a few minutes,\n",
       " his friend,\n",
       " it,\n",
       " he,\n",
       " I,\n",
       " you,\n",
       " I must have you dance,\n",
       " I,\n",
       " you,\n",
       " yourself,\n",
       " this stupid manner,\n",
       " You,\n",
       " much better\n",
       " dance,\n",
       " I,\n",
       " You,\n",
       " I,\n",
       " it,\n",
       " I,\n",
       " my partner,\n",
       " such an assembly,\n",
       " it,\n",
       " Your sisters,\n",
       " another woman,\n",
       " the room,\n",
       " whom,\n",
       " it,\n",
       " a punishment,\n",
       " me,\n",
       " I,\n",
       " you,\n",
       " Mr. Bingley,\n",
       " a\n",
       " kingdom,\n",
       " my honour,\n",
       " I,\n",
       " so many pleasant girls,\n",
       " my life,\n",
       " I,\n",
       " this evening,\n",
       " them,\n",
       " you,\n",
       " the only handsome girl,\n",
       " the room,\n",
       " Mr.\n",
       " Darcy,\n",
       " the eldest Miss Bennet,\n",
       " She,\n",
       " the most beautiful creature,\n",
       " I,\n",
       " her sisters,\n",
       " you,\n",
       " who,\n",
       " I,\n",
       " me,\n",
       " my partner,\n",
       " you,\n",
       " you,\n",
       " he,\n",
       " a moment,\n",
       " Elizabeth,\n",
       " her eye,\n",
       " he,\n",
       " She,\n",
       " _me,\n",
       " I,\n",
       " no\n",
       " humour,\n",
       " consequence,\n",
       " young ladies,\n",
       " who,\n",
       " other men,\n",
       " You,\n",
       " better return,\n",
       " your partner,\n",
       " her\n",
       " smiles,\n",
       " you,\n",
       " your time,\n",
       " me,\n",
       " Mr. Bingley,\n",
       " his advice,\n",
       " Mr. Darcy,\n",
       " Elizabeth,\n",
       " no very cordial feelings,\n",
       " him,\n",
       " She,\n",
       " the story,\n",
       " great spirit,\n",
       " her friends,\n",
       " she,\n",
       " a lively,\n",
       " playful disposition,\n",
       " anything,\n",
       " The evening,\n",
       " the whole family,\n",
       " Mrs.\n",
       " Bennet,\n",
       " her eldest daughter,\n",
       " the Netherfield\n",
       " party,\n",
       " Mr. Bingley,\n",
       " she,\n",
       " his sisters,\n",
       " Jane,\n",
       " her mother,\n",
       " a quieter way,\n",
       " Elizabeth,\n",
       " Jane’s,\n",
       " Mary,\n",
       " herself,\n",
       " Miss Bingley,\n",
       " the most\n",
       " accomplished girl,\n",
       " the neighbourhood,\n",
       " Catherine,\n",
       " partners,\n",
       " they,\n",
       " a ball,\n",
       " They,\n",
       " good\n",
       " spirits,\n",
       " Longbourn,\n",
       " they,\n",
       " they,\n",
       " the principal inhabitants,\n",
       " They,\n",
       " Mr. Bennet,\n",
       " a book,\n",
       " he,\n",
       " time,\n",
       " the present occasion,\n",
       " he,\n",
       " a\n",
       " good deal,\n",
       " curiosity,\n",
       " the event,\n",
       " an evening,\n",
       " such splendid expectations,\n",
       " He,\n",
       " his wife,\n",
       " his wife’s views,\n",
       " the stranger,\n",
       " he,\n",
       " he,\n",
       " a\n",
       " different story,\n",
       " my dear Mr. Bennet,\n",
       " she,\n",
       " the room,\n",
       " we,\n",
       " a most\n",
       " delightful evening,\n",
       " I,\n",
       " you,\n",
       " Jane,\n",
       " nothing,\n",
       " it,\n",
       " Everybody,\n",
       " she,\n",
       " Mr. Bingley,\n",
       " he,\n",
       " her,\n",
       " she,\n",
       " the only creature,\n",
       " the room,\n",
       " he,\n",
       " he,\n",
       " Miss Lucas,\n",
       " I,\n",
       " him,\n",
       " her,\n",
       " he,\n",
       " her,\n",
       " nobody,\n",
       " you,\n",
       " he,\n",
       " Jane,\n",
       " she,\n",
       " the dance,\n",
       " he,\n",
       " who,\n",
       " she,\n",
       " her,\n",
       " he,\n",
       " Miss King,\n",
       " Maria Lucas,\n",
       " Jane,\n",
       " Lizzy,\n",
       " the _Boulanger,\n",
       " he,\n",
       " any compassion,\n",
       " _me,\n",
       " her husband,\n",
       " he,\n",
       " God’s sake,\n",
       " his partners,\n",
       " he,\n",
       " his ankle,\n",
       " the first dance,\n",
       " I,\n",
       " him,\n",
       " He,\n",
       " his sisters,\n",
       " charming women,\n",
       " I,\n",
       " my life,\n",
       " anything,\n",
       " their dresses,\n",
       " I,\n",
       " the lace,\n",
       " Mrs.\n",
       " Hurst,\n",
       " she,\n",
       " Mr. Bennet,\n",
       " any\n",
       " description,\n",
       " finery,\n",
       " She,\n",
       " another branch,\n",
       " the subject,\n",
       " much bitterness,\n",
       " spirit,\n",
       " some\n",
       " exaggeration,\n",
       " the shocking rudeness,\n",
       " Mr. Darcy,\n",
       " I,\n",
       " you,\n",
       " she,\n",
       " Lizzy,\n",
       " he,\n",
       " a most disagreeable, horrid man,\n",
       " him,\n",
       " He,\n",
       " he,\n",
       " himself,\n",
       " I,\n",
       " you,\n",
       " your set-downs,\n",
       " I,\n",
       " the man,\n",
       " Jane,\n",
       " who,\n",
       " her praise,\n",
       " Mr. Bingley,\n",
       " her sister,\n",
       " she,\n",
       " him,\n",
       " He,\n",
       " just what,\n",
       " a young man,\n",
       " she,\n",
       " I,\n",
       " such happy manners!--so,\n",
       " such perfect good breeding,\n",
       " He,\n",
       " Elizabeth,\n",
       " a young man,\n",
       " he,\n",
       " His character,\n",
       " I,\n",
       " me,\n",
       " I,\n",
       " such a compliment,\n",
       " you,\n",
       " I,\n",
       " you,\n",
       " one great difference,\n",
       " us,\n",
       " Compliments,\n",
       " _you,\n",
       " surprise,\n",
       " What,\n",
       " you,\n",
       " He,\n",
       " you,\n",
       " every other woman,\n",
       " the room,\n",
       " No thanks,\n",
       " his gallantry,\n",
       " he,\n",
       " I,\n",
       " him,\n",
       " You,\n",
       " many a\n",
       " stupider person,\n",
       " ”\n",
       " \n",
       " “Dear Lizzy,\n",
       " you,\n",
       " a great deal,\n",
       " you,\n",
       " people,\n",
       " You,\n",
       " a fault,\n",
       " anybody,\n",
       " All the world,\n",
       " your eyes,\n",
       " I,\n",
       " you,\n",
       " a human being,\n",
       " your\n",
       " life,\n",
       " I,\n",
       " anyone,\n",
       " I,\n",
       " what,\n",
       " I,\n",
       " I,\n",
       " you,\n",
       " it,\n",
       " the wonder,\n",
       " _your_\n",
       " good sense,\n",
       " the follies,\n",
       " nonsense,\n",
       " others,\n",
       " Affectation,\n",
       " candour,\n",
       " one,\n",
       " it,\n",
       " ostentation,\n",
       " design,\n",
       " the\n",
       " good,\n",
       " everybody’s character,\n",
       " it,\n",
       " nothing,\n",
       " you,\n",
       " you,\n",
       " this man’s sisters,\n",
       " you,\n",
       " Their manners,\n",
       " they,\n",
       " very pleasing women,\n",
       " you,\n",
       " them,\n",
       " Miss Bingley,\n",
       " her brother,\n",
       " his house,\n",
       " I,\n",
       " we,\n",
       " a very charming\n",
       " neighbour,\n",
       " her,\n",
       " Elizabeth,\n",
       " silence,\n",
       " their behaviour,\n",
       " the assembly,\n",
       " more\n",
       " quickness,\n",
       " observation,\n",
       " less pliancy,\n",
       " temper,\n",
       " her sister,\n",
       " a judgement,\n",
       " any attention,\n",
       " herself,\n",
       " she,\n",
       " them,\n",
       " They,\n",
       " fact,\n",
       " very fine\n",
       " ladies,\n",
       " good humour,\n",
       " they,\n",
       " the\n",
       " power,\n",
       " themselves,\n",
       " they,\n",
       " it,\n",
       " ...]"
      ]
     },
     "execution_count": 21,
     "metadata": {},
     "output_type": "execute_result"
    }
   ],
   "source": [
    "list(pride.noun_chunks)"
   ]
  },
  {
   "cell_type": "code",
   "execution_count": 22,
   "metadata": {
    "collapsed": true
   },
   "outputs": [],
   "source": [
    "# Make a quick-and-dirty lookup table of POS IDs, \n",
    "# since the default representation of a POS is numeric. \n",
    "tagDict = {w.pos: w.pos_ for w in pride} "
   ]
  },
  {
   "cell_type": "markdown",
   "metadata": {},
   "source": [
    "What's the distribution of parts of speech in these two texts? "
   ]
  },
  {
   "cell_type": "code",
   "execution_count": 23,
   "metadata": {
    "collapsed": false
   },
   "outputs": [
    {
     "data": {
      "text/plain": [
       "<matplotlib.axes._subplots.AxesSubplot at 0x7f7aaf73c0b8>"
      ]
     },
     "execution_count": 23,
     "metadata": {},
     "output_type": "execute_result"
    },
    {
     "data": {
      "image/png": "[encoded data removed]",
      "text/plain": [
       "<matplotlib.figure.Figure at 0x7f7aaf69dba8>"
      ]
     },
     "metadata": {},
     "output_type": "display_data"
    }
   ],
   "source": [
    "grailPOS = pd.Series(grail.count_by(spacy.attrs.POS))/len(grail)\n",
    "pridePOS = pd.Series(pride.count_by(spacy.attrs.POS))/len(pride)\n",
    "\n",
    "rcParams['figure.figsize'] = 16, 8\n",
    "df = pd.DataFrame([grailPOS, pridePOS], index=['Grail', 'Pride'])\n",
    "df.columns = [tagDict[column] for column in df.columns]\n",
    "df.T.plot(kind='bar')"
   ]
  },
  {
   "cell_type": "markdown",
   "metadata": {},
   "source": [
    "Now we can see, for instance, what the most common punctuation marks might be. "
   ]
  },
  {
   "cell_type": "code",
   "execution_count": 24,
   "metadata": {
    "collapsed": false
   },
   "outputs": [
    {
     "data": {
      "text/plain": [
       "[(',', 9129),\n",
       " ('.', 4984),\n",
       " ('“', 1762),\n",
       " ('”', 1713),\n",
       " (';', 1533),\n",
       " ('!', 478),\n",
       " ('?', 455),\n",
       " ('-', 327),\n",
       " ('--', 307),\n",
       " ('_', 299)]"
      ]
     },
     "execution_count": 24,
     "metadata": {},
     "output_type": "execute_result"
    }
   ],
   "source": [
    "prideAdjs = [w for w in pride if w.pos_ == 'PUNCT']\n",
    "Counter([w.string.strip() for w in prideAdjs]).most_common(10)"
   ]
  },
  {
   "cell_type": "code",
   "execution_count": 25,
   "metadata": {
    "collapsed": false
   },
   "outputs": [
    {
     "data": {
      "text/plain": [
       "[(':', 1193),\n",
       " ('.', 839),\n",
       " ('!', 830),\n",
       " (',', 745),\n",
       " ('[', 320),\n",
       " (']', 320),\n",
       " ('?', 223),\n",
       " ('--', 146),\n",
       " ('...', 125),\n",
       " (\"'\", 100)]"
      ]
     },
     "execution_count": 25,
     "metadata": {},
     "output_type": "execute_result"
    }
   ],
   "source": [
    "grailAdjs = [w for w in grail if w.pos_ == 'PUNCT']\n",
    "Counter([w.string.strip() for w in grailAdjs]).most_common(10)"
   ]
  },
  {
   "cell_type": "markdown",
   "metadata": {},
   "source": [
    "Let's try this on the level of a sentence. First, let's get all the sentences in which Sir Robin is explicitly mentioned: "
   ]
  },
  {
   "cell_type": "code",
   "execution_count": 26,
   "metadata": {
    "collapsed": false
   },
   "outputs": [
    {
     "data": {
      "text/plain": [
       "[The wise Sir Bedevere was the first to join King Arthur's knights, but other illustrious names were soon to follow: Sir Lancelot the Brave; Sir Gallahad the Pure; and Sir Robin the-not-quite-so-brave-as-Sir-Lancelot, who had nearly fought the Dragon of Angnor, who had nearly stood up to the vicious Chicken of Bristol, and who had personally wet himself at the Battle of Badon Hill; and the aptly named Sir Not-appearing-in-this-film.  ,\n",
       " The Tale of Sir Robin.  ,\n",
       " Sir Robin rode north, through the dark forest of Ewing, accompanied by his favorite minstrels.,\n",
       " MINSTREL: [singing] Bravely bold Sir Robin, rode forth from Camelot.  ,\n",
       " He was not afraid to die, O brave Sir Robin.  ,\n",
       " Brave, brave, brave, brave Sir Robin!  ,\n",
       " To have his kneecaps split, and his body burned away, And his limbs all hacked and mangled, brave Sir Robin!,\n",
       " He is brave Sir Robin, brave Sir Robin, who--\n",
       " ROBIN: Shut up!  ,\n",
       " He's scarper\n",
       " MINSTREL: [singing] Brave Sir Robin ran away.,\n",
       " Yes, brave Sir Robin turned about\n",
       " ROBIN: I didn't!,\n",
       " MINSTREL: [singing] Bravest of the brave, Sir Robin.,\n",
       " My liege, it's Sir Robin!,\n",
       " ARTHUR: Sir Robin!,\n",
       " And so, Arthur and Bedevere and Sir Robin set out on their search to find the enchanter of whom the old man had spoken in scene twenty-four.  ,\n",
       " ARTHUR: Sir Robin!,\n",
       " ARTHUR: Brave Sir Robin, you go.,\n",
       " ROBIN: Sir Robin of Camelot.]"
      ]
     },
     "execution_count": 26,
     "metadata": {},
     "output_type": "execute_result"
    }
   ],
   "source": [
    "robinSents = [sent for sent in grail.sents if 'Sir Robin' in sent.string]\n",
    "robinSents"
   ]
  },
  {
   "cell_type": "markdown",
   "metadata": {},
   "source": [
    "Now let's analyze just one of these sentences."
   ]
  },
  {
   "cell_type": "code",
   "execution_count": 27,
   "metadata": {
    "collapsed": false
   },
   "outputs": [
    {
     "data": {
      "text/plain": [
       "Sir Robin rode north, through the dark forest of Ewing, accompanied by his favorite minstrels."
      ]
     },
     "execution_count": 27,
     "metadata": {},
     "output_type": "execute_result"
    }
   ],
   "source": [
    "r2 = robinSents[2]\n",
    "r2"
   ]
  },
  {
   "cell_type": "markdown",
   "metadata": {},
   "source": [
    "Let's look at the tags and parts of speech: "
   ]
  },
  {
   "cell_type": "code",
   "execution_count": 28,
   "metadata": {
    "collapsed": false
   },
   "outputs": [
    {
     "name": "stdout",
     "output_type": "stream",
     "text": [
      "Sir NNP PROPN\n",
      "Robin NNP PROPN\n",
      "rode VBD VERB\n",
      "north NN NOUN\n",
      ", , PUNCT\n",
      "through IN ADP\n",
      "the DT DET\n",
      "dark JJ ADJ\n",
      "forest NN NOUN\n",
      "of IN ADP\n",
      "Ewing NNP PROPN\n",
      ", , PUNCT\n",
      "accompanied VBN VERB\n",
      "by IN ADP\n",
      "his PRP$ ADJ\n",
      "favorite JJ ADJ\n",
      "minstrels NNS NOUN\n",
      ". . PUNCT\n",
      "\n",
      " SP SPACE\n"
     ]
    }
   ],
   "source": [
    "for word in r2: \n",
    "    print(word, word.tag_, word.pos_)"
   ]
  },
  {
   "cell_type": "markdown",
   "metadata": {},
   "source": [
    "# Dependency Parsing\n",
    "Now let's analyse the structure of the sentence. "
   ]
  },
  {
   "cell_type": "markdown",
   "metadata": {},
   "source": [
    "This sentence has lots of properties: "
   ]
  },
  {
   "cell_type": "code",
   "execution_count": 29,
   "metadata": {
    "collapsed": false
   },
   "outputs": [
    {
     "data": {
      "text/plain": [
       "['doc',\n",
       " 'end',\n",
       " 'end_char',\n",
       " 'ent_id',\n",
       " 'ent_id_',\n",
       " 'has_vector',\n",
       " 'label',\n",
       " 'label_',\n",
       " 'lefts',\n",
       " 'lemma_',\n",
       " 'merge',\n",
       " 'noun_chunks',\n",
       " 'orth_',\n",
       " 'rights',\n",
       " 'root',\n",
       " 'sent',\n",
       " 'sentiment',\n",
       " 'similarity',\n",
       " 'start',\n",
       " 'start_char',\n",
       " 'string',\n",
       " 'subtree',\n",
       " 'text',\n",
       " 'text_with_ws',\n",
       " 'vector',\n",
       " 'vector_norm']"
      ]
     },
     "execution_count": 29,
     "metadata": {},
     "output_type": "execute_result"
    }
   ],
   "source": [
    "[prop for prop in dir(r2) if not prop.startswith('_')]"
   ]
  },
  {
   "cell_type": "markdown",
   "metadata": {},
   "source": [
    "To drill down into the sentence, we can start with the root: "
   ]
  },
  {
   "cell_type": "code",
   "execution_count": 30,
   "metadata": {
    "collapsed": false
   },
   "outputs": [
    {
     "data": {
      "text/plain": [
       "rode"
      ]
     },
     "execution_count": 30,
     "metadata": {},
     "output_type": "execute_result"
    }
   ],
   "source": [
    "r2.root"
   ]
  },
  {
   "cell_type": "markdown",
   "metadata": {},
   "source": [
    "That root has children: "
   ]
  },
  {
   "cell_type": "code",
   "execution_count": 31,
   "metadata": {
    "collapsed": false
   },
   "outputs": [
    {
     "data": {
      "text/plain": [
       "[Robin, north, ,, through, accompanied, .]"
      ]
     },
     "execution_count": 31,
     "metadata": {},
     "output_type": "execute_result"
    }
   ],
   "source": [
    "list(r2.root.children)"
   ]
  },
  {
   "cell_type": "markdown",
   "metadata": {},
   "source": [
    "Let's see all of the children for each word:  "
   ]
  },
  {
   "cell_type": "code",
   "execution_count": 32,
   "metadata": {
    "collapsed": false
   },
   "outputs": [
    {
     "name": "stdout",
     "output_type": "stream",
     "text": [
      "Sir :  []\n",
      "Robin :  [Sir]\n",
      "rode :  [Robin, north, ,, through, accompanied, .]\n",
      "north :  []\n",
      ", :  []\n",
      "through :  [forest]\n",
      "the :  []\n",
      "dark :  []\n",
      "forest :  [the, dark, of, ,]\n",
      "of :  [Ewing]\n",
      "Ewing :  []\n",
      ", :  []\n",
      "accompanied :  [by]\n",
      "by :  [minstrels]\n",
      "his :  []\n",
      "favorite :  []\n",
      "minstrels :  [his, favorite]\n",
      ". :  [\n",
      "]\n",
      "\n",
      " :  []\n"
     ]
    }
   ],
   "source": [
    "for word in r2: \n",
    "    print(word, ': ', str(list(word.children)))"
   ]
  },
  {
   "cell_type": "markdown",
   "metadata": {
    "collapsed": false
   },
   "source": [
    "This is very messy-looking, so let's create a nicer visualization. Here I'll be using a class I wrote called sentenceTree, available in the `sent2tree` module in this repository. It just shoehorns a SpaCy span (sentence or other grammatical fragment) into a tree that can be read by the `ete3` library for handling trees. This library just allows for some pretty visualizations of trees. "
   ]
  },
  {
   "cell_type": "code",
   "execution_count": 33,
   "metadata": {
    "collapsed": false
   },
   "outputs": [
    {
     "name": "stdout",
     "output_type": "stream",
     "text": [
      "Sir Robin rode north, through the dark forest of Ewing, accompanied by his favorite minstrels.\n",
      "\n"
     ]
    },
    {
     "data": {
      "image/png": "[encoded data removed]",
      "text/plain": [
       "<IPython.core.display.Image object>"
      ]
     },
     "execution_count": 33,
     "metadata": {},
     "output_type": "execute_result"
    }
   ],
   "source": [
    "st = sentenceTree(r2)\n",
    "t, ts = st.render()\n",
    "t.render('%%inline', tree_style=ts)"
   ]
  },
  {
   "cell_type": "markdown",
   "metadata": {},
   "source": [
    "You can already see how useful this might be. Since adjectives are typically children of the things they describe, we can get approximations for adjectives that describe characters. How is Sir Robin described? "
   ]
  },
  {
   "cell_type": "code",
   "execution_count": 34,
   "metadata": {
    "collapsed": false
   },
   "outputs": [
    {
     "name": "stdout",
     "output_type": "stream",
     "text": [
      "bold\n",
      "brave\n",
      "brave\n",
      "brave\n",
      "brave\n",
      "brave\n",
      "brave\n",
      "brave\n"
     ]
    }
   ],
   "source": [
    "for sent in robinSents: \n",
    "    for word in sent: \n",
    "        if 'Robin' in word.string: \n",
    "            for child in word.children: \n",
    "                if child.pos_ == 'ADJ':\n",
    "                    print(child)"
   ]
  },
  {
   "cell_type": "markdown",
   "metadata": {},
   "source": [
    "Looks like we shouldn't always trust syntactic insight! Now let's do something similar for Pride and Prejudice. First, we'll use named entity extraction to get a list of the most frequently mentioned characters:  "
   ]
  },
  {
   "cell_type": "code",
   "execution_count": 35,
   "metadata": {
    "collapsed": false
   },
   "outputs": [
    {
     "data": {
      "text/plain": [
       "[('Elizabeth', 587),\n",
       " ('Darcy', 310),\n",
       " ('Bennet', 264),\n",
       " ('Jane', 259),\n",
       " ('Bingley', 200),\n",
       " ('Collins', 179),\n",
       " ('Wickham', 166),\n",
       " ('Lydia', 128),\n",
       " ('Lizzy', 92),\n",
       " ('Gardiner', 87)]"
      ]
     },
     "execution_count": 35,
     "metadata": {},
     "output_type": "execute_result"
    }
   ],
   "source": [
    "Counter([w.string.strip() for w in pride.ents if w.label_ == 'PERSON']).most_common(10)"
   ]
  },
  {
   "cell_type": "markdown",
   "metadata": {},
   "source": [
    "Now we can write a function that walks down the tree from each character, looking for the first adjectives it can find: "
   ]
  },
  {
   "cell_type": "code",
   "execution_count": 36,
   "metadata": {
    "collapsed": false
   },
   "outputs": [],
   "source": [
    "def adjectivesDescribingCharacters(text, character):\n",
    "    sents = [sent for sent in pride.sents if character in sent.string]\n",
    "    adjectives = []\n",
    "    for sent in sents: \n",
    "        for word in sent: \n",
    "            if character in word.string:\n",
    "                for child in word.children: \n",
    "                    if child.pos_ == 'ADJ': \n",
    "                        adjectives.append(child.string.strip())\n",
    "    return Counter(adjectives).most_common(10)"
   ]
  },
  {
   "cell_type": "markdown",
   "metadata": {},
   "source": [
    "We'll try it on Mr. Darcy: "
   ]
  },
  {
   "cell_type": "code",
   "execution_count": 37,
   "metadata": {
    "collapsed": false
   },
   "outputs": [
    {
     "data": {
      "text/plain": [
       "[('late', 6),\n",
       " ('present', 2),\n",
       " ('disappointing', 1),\n",
       " ('abominable', 1),\n",
       " ('poor', 1),\n",
       " ('handsome', 1),\n",
       " ('little', 1),\n",
       " ('disagreeable', 1)]"
      ]
     },
     "execution_count": 37,
     "metadata": {},
     "output_type": "execute_result"
    }
   ],
   "source": [
    "adjectivesDescribingCharacters(pride, 'Darcy')"
   ]
  },
  {
   "cell_type": "markdown",
   "metadata": {},
   "source": [
    "Now let's do the same sort of thing, but look for associated verbs. First, let's get all the sentences in which Elizabeth is mentioned:  "
   ]
  },
  {
   "cell_type": "code",
   "execution_count": 38,
   "metadata": {
    "collapsed": false
   },
   "outputs": [],
   "source": [
    "elizabethSentences = [sent for sent in pride.sents if 'Elizabeth' in sent.string]"
   ]
  },
  {
   "cell_type": "markdown",
   "metadata": {},
   "source": [
    "And we can peek at one of them: "
   ]
  },
  {
   "cell_type": "code",
   "execution_count": 39,
   "metadata": {
    "collapsed": false
   },
   "outputs": [
    {
     "data": {
      "text/plain": [
       "Mr. Darcy walked off; and Elizabeth\n",
       "remained with no very cordial feelings toward him."
      ]
     },
     "execution_count": 39,
     "metadata": {},
     "output_type": "execute_result"
    }
   ],
   "source": [
    "elizabethSentences[3]"
   ]
  },
  {
   "cell_type": "code",
   "execution_count": 40,
   "metadata": {
    "collapsed": false
   },
   "outputs": [
    {
     "name": "stdout",
     "output_type": "stream",
     "text": [
      "Mr. Darcy walked off; and Elizabeth\n",
      "remained with no very cordial feelings toward him.\n"
     ]
    },
    {
     "data": {
      "image/png": "[encoded data removed]",
      "text/plain": [
       "<IPython.core.display.Image object>"
      ]
     },
     "execution_count": 40,
     "metadata": {},
     "output_type": "execute_result"
    }
   ],
   "source": [
    "st = sentenceTree(elizabethSentences[3])\n",
    "t, ts = st.render()\n",
    "t.render('%%inline', tree_style=ts)"
   ]
  },
  {
   "cell_type": "markdown",
   "metadata": {},
   "source": [
    "We want the verb associated with Elizabeth, _remained_, not the root verb of the sentence, _walked_, which is associated with Mr. Darcy. So let's write a function that will walk up the dependency tree from a character's name until we get to the first verb. We'll use lemmas instead of the conjugated forms to collapse _remain_, _remains_, and _remained_ into one verb: _remain_. "
   ]
  },
  {
   "cell_type": "code",
   "execution_count": 41,
   "metadata": {
    "collapsed": false
   },
   "outputs": [],
   "source": [
    "def verbsForCharacters(text, character):\n",
    "    sents = [sent for sent in pride.sents if character in sent.string]\n",
    "    charWords = []\n",
    "    for sent in sents: \n",
    "        for word in sent: \n",
    "            if character in word.string: \n",
    "                charWords.append(word)\n",
    "    charAdjectives = []\n",
    "    for word in charWords: \n",
    "        # Start walking up the list of ancestors \n",
    "        # Until we get to the first verb. \n",
    "        for ancestor in word.ancestors: \n",
    "            if ancestor.pos_.startswith('V'): \n",
    "                charAdjectives.append(ancestor.lemma_.strip())\n",
    "    return Counter(charAdjectives).most_common(20)"
   ]
  },
  {
   "cell_type": "code",
   "execution_count": 42,
   "metadata": {
    "collapsed": false,
    "scrolled": true
   },
   "outputs": [
    {
     "data": {
      "text/plain": [
       "[('be', 186),\n",
       " ('say', 66),\n",
       " ('have', 32),\n",
       " ('see', 24),\n",
       " ('cry', 24),\n",
       " ('reply', 22),\n",
       " ('feel', 20),\n",
       " ('make', 19),\n",
       " ('look', 18),\n",
       " ('receive', 10),\n",
       " ('think', 10),\n",
       " ('take', 10),\n",
       " ('find', 10),\n",
       " ('give', 10),\n",
       " ('begin', 9),\n",
       " ('walk', 8),\n",
       " ('listen', 8),\n",
       " ('turn', 8),\n",
       " ('help', 8),\n",
       " ('pass', 7)]"
      ]
     },
     "execution_count": 42,
     "metadata": {},
     "output_type": "execute_result"
    }
   ],
   "source": [
    "elizabethVerbs = verbsForCharacters(pride, 'Elizabeth')\n",
    "elizabethVerbs"
   ]
  },
  {
   "cell_type": "code",
   "execution_count": 43,
   "metadata": {
    "collapsed": false
   },
   "outputs": [],
   "source": [
    "darcyVerbs = verbsForCharacters(pride, 'Darcy')\n",
    "janeVerbs = verbsForCharacters(pride, 'Jane')"
   ]
  },
  {
   "cell_type": "markdown",
   "metadata": {
    "collapsed": false
   },
   "source": [
    "We can now merge these counts into a single table, and then we can visualize it with Pandas. "
   ]
  },
  {
   "cell_type": "code",
   "execution_count": 44,
   "metadata": {
    "collapsed": false
   },
   "outputs": [
    {
     "data": {
      "text/plain": [
       "<matplotlib.axes._subplots.AxesSubplot at 0x7f7a9571dd68>"
      ]
     },
     "execution_count": 44,
     "metadata": {},
     "output_type": "execute_result"
    },
    {
     "data": {
      "image/png": "[encoded data removed]",
      "text/plain": [
       "<matplotlib.figure.Figure at 0x7f7a9571d588>"
      ]
     },
     "metadata": {},
     "output_type": "display_data"
    }
   ],
   "source": [
    "def verbsToMatrix(verbCounts): \n",
    "    \"\"\" \n",
    "    Takes verb counts given by verbsForCharacters \n",
    "    and makes Pandas Series out of them, suitabe for combination in \n",
    "    a DataFrame. \n",
    "    \"\"\"\n",
    "    return pd.Series({t[0]: t[1] for t in verbCounts})\n",
    "\n",
    "verbsDF = pd.DataFrame({'Elizabeth': verbsToMatrix(elizabethVerbs), \n",
    "                        'Darcy': verbsToMatrix(darcyVerbs), \n",
    "                        'Jane': verbsToMatrix(janeVerbs)}).fillna(0)\n",
    "verbsDF.plot(kind='bar', figsize=(14,4))"
   ]
  },
  {
   "cell_type": "markdown",
   "metadata": {},
   "source": [
    "# Probabilities\n",
    "\n",
    "SpaCy has a list of probabilities for English words, and these probabilities are automatically associated with each word once we parse the document. Let's see what the distribution is like: "
   ]
  },
  {
   "cell_type": "code",
   "execution_count": 45,
   "metadata": {
    "collapsed": false
   },
   "outputs": [
    {
     "data": {
      "text/plain": [
       "<matplotlib.axes._subplots.AxesSubplot at 0x7f7a9575fe48>"
      ]
     },
     "execution_count": 45,
     "metadata": {},
     "output_type": "execute_result"
    },
    {
     "data": {
      "image/png": "[encoded data removed]",
      "text/plain": [
       "<matplotlib.figure.Figure at 0x7f7aad8c6128>"
      ]
     },
     "metadata": {},
     "output_type": "display_data"
    }
   ],
   "source": [
    "probabilities = [word.prob for word in grail] \n",
    "pd.Series(probabilities).hist()"
   ]
  },
  {
   "cell_type": "markdown",
   "metadata": {},
   "source": [
    "Let's peek at some of the improbable words for _Monty Python and the Holy Grail_. "
   ]
  },
  {
   "cell_type": "code",
   "execution_count": 46,
   "metadata": {
    "collapsed": false
   },
   "outputs": [
    {
     "data": {
      "text/plain": [
       "{'aaaaugh',\n",
       " 'aaauggh',\n",
       " 'aaaugh',\n",
       " 'aaauugh',\n",
       " 'aaggggh',\n",
       " 'aaugh',\n",
       " 'aauuggghhh',\n",
       " 'aauuugh',\n",
       " 'aauuuuugh',\n",
       " 'aauuuves',\n",
       " 'anging',\n",
       " 'angnor',\n",
       " 'animator',\n",
       " 'approacheth',\n",
       " 'auuuuuuuugh',\n",
       " 'badon',\n",
       " 'bedevere',\n",
       " 'bedwere',\n",
       " 'bors',\n",
       " 'bridgekeeper',\n",
       " 'camaaaaaargue',\n",
       " 'chickennn',\n",
       " 'clllank',\n",
       " 'concorde',\n",
       " 'crapper',\n",
       " 'crone',\n",
       " 'dappy',\n",
       " 'defeator',\n",
       " 'donaeis',\n",
       " 'drilllll',\n",
       " 'ecky',\n",
       " 'ector',\n",
       " 'eisrequiem',\n",
       " 'enchanter',\n",
       " 'erbert',\n",
       " 'fwump',\n",
       " 'galahad',\n",
       " 'goodem',\n",
       " 'headoff',\n",
       " 'historian',\n",
       " 'hiyaah',\n",
       " 'hiyah',\n",
       " 'hiyya',\n",
       " 'huyah',\n",
       " 'hyy',\n",
       " 'iesu',\n",
       " 'iiiiives',\n",
       " 'iiiives',\n",
       " 'launcelot',\n",
       " 'loimbard',\n",
       " 'maynard',\n",
       " 'mercea',\n",
       " 'minstrel',\n",
       " 'mooooooo',\n",
       " 'nador',\n",
       " 'neee',\n",
       " 'niggets',\n",
       " 'ninepence',\n",
       " 'nnniggets',\n",
       " 'nnnnniggets',\n",
       " 'olfin',\n",
       " 'oooohoohohooo',\n",
       " 'owli',\n",
       " 'patsy',\n",
       " 'pikang',\n",
       " 'ptoo',\n",
       " 'pweeng',\n",
       " 'rewr',\n",
       " 'rheged',\n",
       " 'sawwwww',\n",
       " \"saying,'o\",\n",
       " 'shrubber',\n",
       " 'shrubberies',\n",
       " 'thpppppt',\n",
       " 'thppppt',\n",
       " 'thpppt',\n",
       " 'thppt',\n",
       " 'thsss',\n",
       " 'thwonk',\n",
       " 'twong',\n",
       " 'ulk',\n",
       " 'umhm',\n",
       " 'ungallant',\n",
       " 'unsingable',\n",
       " 'uuggggggh',\n",
       " 'varletesses',\n",
       " 'villagers',\n",
       " 'vouchsafed',\n",
       " 'yapping',\n",
       " 'yel',\n",
       " 'zhiv',\n",
       " 'zoosh',\n",
       " 'zoot'}"
      ]
     },
     "execution_count": 46,
     "metadata": {},
     "output_type": "execute_result"
    }
   ],
   "source": [
    "set([word.string.strip().lower() for word in grail if word.prob < -19])"
   ]
  },
  {
   "cell_type": "markdown",
   "metadata": {},
   "source": [
    "Now we can do some rudimentary information extraction by counting the improbable words: "
   ]
  },
  {
   "cell_type": "code",
   "execution_count": 47,
   "metadata": {
    "collapsed": false,
    "scrolled": true
   },
   "outputs": [
    {
     "data": {
      "text/plain": [
       "[('bedevere', 61),\n",
       " ('bridgekeeper', 18),\n",
       " ('zoot', 14),\n",
       " ('minstrel', 13),\n",
       " ('concorde', 12),\n",
       " ('rewr', 10),\n",
       " ('crone', 7),\n",
       " ('aaaaugh', 7),\n",
       " ('twong', 4),\n",
       " ('aaaugh', 4),\n",
       " ('ninepence', 3),\n",
       " ('hiyya', 3),\n",
       " ('uuggggggh', 3),\n",
       " ('auuuuuuuugh', 3),\n",
       " ('mercea', 2),\n",
       " ('hiyaah', 2),\n",
       " ('thppt', 2),\n",
       " ('crapper', 2),\n",
       " ('enchanter', 2),\n",
       " ('neee', 2)]"
      ]
     },
     "execution_count": 47,
     "metadata": {},
     "output_type": "execute_result"
    }
   ],
   "source": [
    "Counter([word.string.strip().lower() \n",
    "         for word in grail \n",
    "         if word.prob < -19.5]).most_common(20)"
   ]
  },
  {
   "cell_type": "markdown",
   "metadata": {},
   "source": [
    "What are those words for _Pride and Prejudice_? "
   ]
  },
  {
   "cell_type": "code",
   "execution_count": 48,
   "metadata": {
    "collapsed": false
   },
   "outputs": [
    {
     "data": {
      "text/plain": [
       "[('rosings', 18),\n",
       " ('parsonage', 13),\n",
       " ('gentlemanlike', 8),\n",
       " ('twelvemonth', 7),\n",
       " ('longbourn', 4),\n",
       " ('quadrille', 4),\n",
       " ('discomposure', 3),\n",
       " ('regimentals', 3),\n",
       " ('suitableness', 3),\n",
       " ('overspread', 3),\n",
       " ('composedly', 3),\n",
       " ('repine', 3),\n",
       " ('fretfully', 2),\n",
       " ('archly', 2),\n",
       " ('unaffectedly', 2),\n",
       " ('panegyric', 2),\n",
       " ('precipitance', 2),\n",
       " ('prepossession', 2),\n",
       " ('discomposed', 2),\n",
       " ('gratulation', 2)]"
      ]
     },
     "execution_count": 48,
     "metadata": {},
     "output_type": "execute_result"
    }
   ],
   "source": [
    "Counter([word.string.strip().lower() \n",
    "         for word in pride \n",
    "         if word.prob < -19.5 \n",
    "         and word.is_alpha\n",
    "         and word.pos_ != 'PROPN'] # This time, let's ignore proper nouns.\n",
    "       ).most_common(20)"
   ]
  },
  {
   "cell_type": "markdown",
   "metadata": {},
   "source": [
    "We can do this with ngrams, too, with some fancy Python magic:"
   ]
  },
  {
   "cell_type": "code",
   "execution_count": 49,
   "metadata": {
    "collapsed": false
   },
   "outputs": [],
   "source": [
    "def ngrams(doc, n): \n",
    "    doc = [word for word in doc \n",
    "           if word.is_alpha # Get rid of punctuation\n",
    "           if not word.string.isupper()] # Get rid of all-caps speaker headings\n",
    "    return list(zip(*[doc[i:] for i in range(n)]))"
   ]
  },
  {
   "cell_type": "code",
   "execution_count": 50,
   "metadata": {
    "collapsed": false
   },
   "outputs": [],
   "source": [
    "grailGrams = set(ngrams(grail, 3))"
   ]
  },
  {
   "cell_type": "code",
   "execution_count": 51,
   "metadata": {
    "collapsed": false
   },
   "outputs": [
    {
     "name": "stdout",
     "output_type": "stream",
     "text": [
      "(thud, clang, Bring)\n",
      "(pweeng, boom, clap)\n",
      "(whop, clunk, creak)\n",
      "(Aaaaugh, Aaaugh, etc)\n",
      "(ha, Huy, Uuh)\n",
      "(Yeaaah, Yeaah, Did)\n",
      "(scribble, scribble, scribble)\n",
      "(Shrubber, arrange, design)\n",
      "(Old, crone, rewr)\n",
      "(Launcelot, Launcelot, Launcelot)\n",
      "(clop, clop, clop)\n",
      "(crone, rewr, music)\n",
      "(samite, held, aloft)\n",
      "(Run, awaaaaay, roar)\n",
      "(rewr, clang, Bring)\n",
      "(pweeng, boom, boom)\n",
      "(squeak, squeak, clllank)\n",
      "(Neee, wom, Neee)\n",
      "(supports, whop, clunk)\n",
      "(squeak, squeak, squeak)\n",
      "(Iiiiives, Oooohoohohooo, No)\n",
      "(Ni, Ni, Ni)\n",
      "(sawwwww, clunk, crash)\n",
      "(domine, Wayy, splash)\n",
      "(Concorde, Concorde, Speak)\n",
      "(badger, clank, twong)\n",
      "(drilllll, sawwwww, clunk)\n",
      "(Churches, Churches, Lead)\n",
      "(Ni, Ni, Ni)\n",
      "(shimmering, samite, held)\n",
      "(attack, Ulk, thump)\n",
      "(Hyy, Hya, Hiyya)\n",
      "(clop, clop, Ooh)\n",
      "(requiem, Pie, Iesu)\n",
      "(de, bois, Quoi)\n",
      "(squeak, squeak, squeak)\n",
      "(un, cadeau, Oui)\n",
      "(rewr, rewr, Old)\n",
      "(wayy, twang, splash)\n",
      "(resumes, Launcelot, Launcelot)\n",
      "(pikang, zoop, boing)\n",
      "(Oooh, ptoo, Ha)\n",
      "(Iesu, domine, dona)\n",
      "(haw, Haw, Haw)\n",
      "(Pie, Iesu, domine)\n",
      "(clunk, crash, clang)\n",
      "(relics, Brother, Maynard)\n",
      "(stops, Aaagh, Ooh)\n",
      "(eis, requiem, Pie)\n",
      "(Aaah, hiyaah, etc)\n",
      "(yel, auuuuuuuugh, Hee)\n",
      "(Oui, oui, Hurry)\n",
      "(Pie, Iesu, domine)\n",
      "(Shut, uuup, singing)\n",
      "(shrubberies, Yes, Shrubberies)\n",
      "(ecky, pikang, zoop)\n",
      "(Ni, Ni, Shh)\n",
      "(squeak, squeak, creak)\n",
      "(dona, eis, requiem)\n",
      "(clop, clop, whinny)\n",
      "(taunting, Fiends, tear)\n",
      "(Shh, Shh, Shh)\n",
      "(squeak, thump, squeak)\n",
      "(zhiv, Ni, Therefore)\n",
      "(Look, squeak, Aaaugh)\n",
      "(clop, clop, clop)\n",
      "(Wayy, twang, Wayy)\n",
      "(Ni, Ni, Shh)\n",
      "(whispering, un, lapin)\n",
      "(eis, requiem, Wayy)\n",
      "(Pie, Iesu, domine)\n",
      "(dead, Ninepence, clang)\n",
      "(sir, fwump, Concorde)\n",
      "(Bedwere, of, Rheged)\n",
      "(clang, squeak, squeak)\n",
      "(yes, Saint, Iiiives)\n",
      "(Hallo, Allo, Who)\n",
      "(boom, pweeng, boom)\n",
      "(Ni, Ni, Ni)\n",
      "(Shh, Shh, Shh)\n",
      "(done, Aaaugh, Aaaugh)\n",
      "(clop, clop, Halt)\n",
      "(thonk, Um, woosh)\n",
      "(clop, clop, clop)\n",
      "(Ha, ha, Hiyya)\n",
      "(squeak, squeak, rrrr)\n",
      "(Thsss, boom, Ayy)\n",
      "(roar, Shh, Shh)\n",
      "(Heee, Hoa, crash)\n",
      "(lapin, lapin, de)\n",
      "(clop, clop, clop)\n",
      "(ecky, ecky, ecky)\n",
      "(Aaagh, Ooh, King)\n",
      "(Ow, Ow, Agh)\n",
      "(Tim, Quite, pweeng)\n",
      "(scribble, scribble, fold)\n",
      "(taunting, Dappy, Today)\n",
      "(clop, clop, clop)\n",
      "(dorsal, guiding, feathers)\n",
      "(Allo, dappy, English)\n",
      "(English, k, nnniggets)\n",
      "(clop, clop, Whoa)\n",
      "(mer, Hah, clunk)\n",
      "(k, nnnnniggets, Thpppppt)\n",
      "(impersonate, Clark, Gable)\n",
      "(Aaaugh, dramatic, chord)\n",
      "(squeak, creak, whispering)\n",
      "(dona, eis, requiem)\n",
      "(Huyah, clang, Hiyaah)\n",
      "(Woa, wayy, twang)\n",
      "(clop, rewr, rewr)\n",
      "(bathing, dressing, undressing)\n",
      "(Camelot, Camelot, Camelot)\n",
      "(cadeau, Oui, oui)\n",
      "(Saint, Iiiives, Iiiiives)\n",
      "(Iesu, domine, Wayy)\n",
      "(Say, Ecky, ecky)\n",
      "(squeak, squeak, squeak)\n",
      "(la, vache, mooo)\n",
      "(thump, squeak, boom)\n",
      "(English, k, niggets)\n",
      "(clop, clop, clop)\n",
      "(Hee, hee, heh)\n",
      "(Launcelot, Launcelot, Launcelot)\n",
      "(clang, Aaaaaaaah, chops)\n",
      "(laden, swallows, flights)\n",
      "(clang, Huyah, clang)\n",
      "(Huy, Uuh, Aaah)\n",
      "(Launcelot, Launcelot, Launcelot)\n",
      "(squeak, Aaaugh, dramatic)\n",
      "(Aaaaugh, Aaaaugh, Stop)\n",
      "(k, nnniggets, Thpppt)\n",
      "(Ni, Ni, Ni)\n",
      "(clop, clop, Halt)\n",
      "(Idiom, sir, Idiom)\n",
      "(Aaaaaaaaah, woosh, kills)\n",
      "(heeh, ooh, twang)\n",
      "(persons, taunting, Dappy)\n",
      "(rewr, rewr, rewr)\n",
      "(individually, clop, clop)\n",
      "(Ni, Ni, Ni)\n",
      "(Thpppt, taunting, We)\n",
      "(Just, uuggggggh, Aauuggghhh)\n",
      "(Launcelot, and, Galahad)\n",
      "(Ni, Ni, Ow)\n",
      "(Launcelot, Launcelot, Launcelot)\n",
      "(Sir, Launcelot, Uh)\n",
      "(Pie, Iesu, domine)\n",
      "(Say, Ni, Aggh)\n",
      "(Alice, Herbert, Erbert)\n",
      "(servant, Sir, Launcelot)\n",
      "(twong, mooooooo, Jesus)\n",
      "(Iesu, domine, dona)\n",
      "(clunk, bang, rewr)\n",
      "(mangy, scots, git)\n",
      "(clop, clop, clop)\n",
      "(dead, rewr, clang)\n",
      "(va, Bon, magne)\n",
      "(Ector, And, Bors)\n",
      "(Ecky, ecky, ecky)\n",
      "(requiem, Pie, Iesu)\n",
      "(Ni, Ni, Ni)\n",
      "(Ni, Shh, Shh)\n",
      "(Thou, hast, vouchsafed)\n",
      "(Hee, hee, hee)\n",
      "(haw, haw, haw)\n",
      "(domine, witch, witch)\n",
      "(today, Heee, Hoa)\n",
      "(bonk, dona, eis)\n",
      "(Launcelot, Hurry, Shut)\n",
      "(squeak, squeak, squeak)\n",
      "(Pie, Iesu, domine)\n",
      "(Haw, haw, heh)\n",
      "(squeak, squeak, squeak)\n",
      "(No, yel, auuuuuuuugh)\n",
      "(awaaay, Run, awaaaaay)\n",
      "(trumpets, Camelot, Camelot)\n",
      "(Umhm, Uh, uh)\n",
      "(chanting, Pie, Iesu)\n",
      "(squeak, squeak, squeak)\n",
      "(music, resumes, Launcelot)\n",
      "(Ni, Ni, Ni)\n",
      "(Ni, Ni, Ni)\n",
      "(Bon, magne, Over)\n",
      "(squeak, squeak, squeak)\n",
      "(dona, eis, requiem)\n",
      "(Launcelot, Launcelot, police)\n",
      "(howl, clop, clop)\n",
      "(knights, Nay, Nay)\n",
      "(purest, shimmering, samite)\n",
      "(sell, shrubberies, Ni)\n",
      "(clang, Hiyaah, clang)\n",
      "(chanting, dona, eis)\n",
      "(anarcho, syndicalist, commune)\n",
      "(squeak, squeak, Aaaaugh)\n",
      "(thud, Allo, dappy)\n",
      "(Chicken, kick, Chickennn)\n",
      "(Run, awaaay, Run)\n",
      "(eis, requiem, witch)\n",
      "(haw, heh, clack)\n",
      "(Iesu, domine, donaeis)\n",
      "(Brave, Sir, Gallahad)\n",
      "(wom, Neee, wom)\n",
      "(Ni, Shh, Ni)\n",
      "(wicked, wicked, Zoot)\n",
      "(bonk, Pie, Iesu)\n",
      "(haw, haw, Ha)\n",
      "(Iesu, domine, dona)\n",
      "(uuggggggh, Aauuggghhh, Aaauggh)\n",
      "(Table, clop, clop)\n",
      "(Christ, thud, Allo)\n",
      "(requiem, Wayy, twang)\n",
      "(heh, chanting, dona)\n",
      "(Mud, Churches, Churches)\n",
      "(domine, bonk, dona)\n",
      "(requiem, bonk, Pie)\n",
      "(dona, eis, requiem)\n",
      "(radio, Launcelot, Launcelot)\n",
      "(etc, Aaaaaah, Aaaaaaaaah)\n",
      "(Castle, Aaagh, Our)\n",
      "(bang, rewr, squeak)\n",
      "(rewr, rewr, rewr)\n",
      "(Dramatically, sir, Dramatically)\n",
      "(Churches, Lead, Lead)\n",
      "(Shh, Shh, Shh)\n",
      "(trusty, servant, Patsy)\n",
      "(awaaaaay, roar, Keep)\n",
      "(shall, twong, mooooooo)\n",
      "(Fetchez, la, vache)\n",
      "(nnnnniggets, Thpppppt, Thppt)\n",
      "(domine, dona, eis)\n",
      "(minstrels, singing, Bravely)\n",
      "(Shh, Ni, Ni)\n",
      "(Charge, squeak, squeak)\n",
      "(squeak, clllank, What)\n",
      "(clunk, creak, witch)\n",
      "(bois, Quoi, Un)\n",
      "(clop, clop, clop)\n",
      "(Halt, horn, Hallo)\n",
      "(Pie, Iesu, domine)\n",
      "(Hoa, crash, Hoo)\n",
      "(vache, Quoi, Fetchez)\n",
      "(bonk, dona, eis)\n",
      "(Hiyaah, clang, Aaaaaaaah)\n",
      "(Wayy, splash, Ho)\n",
      "(Splendid, Aah, boom)\n",
      "(Launcelot, Galahad, and)\n",
      "(thou, mayest, blow)\n",
      "(Aah, boom, pweeng)\n",
      "(Silence, foul, temptress)\n",
      "(Sir, Bedevere, Knight)\n",
      "(Armaments, Armaments, Chapter)\n",
      "(Cider, Uh, gra)\n",
      "(clop, clop, clop)\n",
      "(Iesu, domine, bonk)\n",
      "(Ni, Ni, Ni)\n",
      "(Ni, Ni, Ni)\n",
      "(Aaagh, King, Arthur)\n",
      "(zoop, boing, goodem)\n",
      "(rewr, rewr, rewr)\n",
      "(Iesu, domine, witch)\n",
      "(dona, eisrequiem, How)\n",
      "(Pie, Iesu, domine)\n",
      "(clop, clop, clop)\n",
      "(gra, gravy, Cherries)\n",
      "(knight, Sir, Galahad)\n",
      "(boing, goodem, zoo)\n",
      "(stops, Aaagh, clang)\n",
      "(Ho, ho, Woa)\n",
      "(eis, requiem, bonk)\n",
      "(Grail, individually, clop)\n",
      "(Pie, Iesu, domine)\n",
      "(Aaaugh, Augh, Ohh)\n",
      "(goodem, zoo, owli)\n",
      "(starling, oooh, Heh)\n",
      "(hee, hee, hee)\n",
      "(requiem, bonk, Pie)\n",
      "(awhile, Midget, Crapper)\n",
      "(Zoot, Just, Zoot)\n",
      "(squeak, squeak, squeak)\n",
      "(ecky, ecky, pikang)\n",
      "(dona, eis, requiem)\n",
      "(uh, Launcelot, Galahad)\n",
      "(uh, Launcelot, Galahad)\n",
      "(Thsss, boom, Ayy)\n",
      "(Launcelot, Launcelot, angels)\n",
      "(Ha, haw, haw)\n",
      "(Right, Yeaaah, Yeaah)\n",
      "(Ow, Ow, Ow)\n",
      "(squeak, squeak, squeak)\n",
      "(squeak, squeak, squeak)\n",
      "(Sir, Launcelot, sir)\n",
      "(Aaaugh, Aaaugh, Augh)\n",
      "(Quoi, Un, cadeau)\n",
      "(clop, clop, rewr)\n",
      "(Ni, Agh, Ni)\n",
      "(rrrr, drilllll, sawwwww)\n",
      "(did, Launcelot, Aaaah)\n",
      "(Shh, Shh, Shh)\n",
      "(haw, haw, Haw)\n",
      "(clop, clop, clop)\n",
      "(domine, dona, eis)\n",
      "(squeak, squeak, squeak)\n",
      "(Grenade, chanting, Pie)\n",
      "(Launcelot, angels, sing)\n",
      "(squeak, squeak, squeak)\n",
      "(Hurry, Sir, Launcelot)\n",
      "(Away, away, varletesses)\n",
      "(Fetchez, la, vache)\n",
      "(domine, donaeis, requiem)\n",
      "(dappy, English, k)\n",
      "(auuuuuuuugh, Hee, hee)\n",
      "(pause, Hallo, Allo)\n",
      "(Shh, Shh, Shh)\n",
      "(squeak, rrrr, rrrr)\n",
      "(Morning, Oooh, ptoo)\n",
      "(hiyaah, etc, chops)\n",
      "(nnniggets, Thpppt, taunting)\n",
      "(brave, Sir, Launcelot)\n",
      "(Ni, Ni, Ni)\n",
      "(clank, twong, Run)\n",
      "(liege, trumpets, Camelot)\n",
      "(Hya, Hiyya, Ha)\n",
      "(squeak, squeak, squeak)\n",
      "(Thppt, Thppt, What)\n",
      "(chanting, Pie, Iesu)\n",
      "(ptoo, Ha, ha)\n",
      "(eis, requiem, Heh)\n",
      "(Iesu, domine, dona)\n",
      "(clop, whinny, whinny)\n",
      "(dappy, English, k)\n",
      "(Thppppt, taunting, Fiends)\n",
      "(Hiyya, Hey, Hiyya)\n",
      "(Ni, Shh, Shh)\n",
      "(Quite, pweeng, boom)\n",
      "(la, vache, Quoi)\n",
      "(Haw, Haw, haw)\n",
      "(rrrr, rrrr, drilllll)\n",
      "(Launcelot, Launcelot, Launcelot)\n",
      "(chanting, Pie, Iesu)\n",
      "(domine, dona, eis)\n",
      "(Aaaaaah, Aaaaaaaaah, woosh)\n",
      "(Peng, and, Neee)\n",
      "(twang, chanting, Pie)\n",
      "(Quite, indefatigable, Between)\n",
      "(rewr, Old, crone)\n",
      "(hee, hee, hee)\n",
      "(Ni, Ni, Ni)\n",
      "(domine, bonk, dona)\n",
      "(wooden, badger, clank)\n",
      "(squeak, squeak, squeak)\n",
      "(Launcelot, Galahad, and)\n",
      "(Iiiives, Iiiiives, Oooohoohohooo)\n",
      "(twong, baaaa, Jesus)\n",
      "(Agh, Ni, Ni)\n",
      "(Shh, Shh, Shh)\n",
      "(stops, stab, Aagh)\n",
      "(dona, eis, requiem)\n",
      "(mayest, blow, thine)\n",
      "(Wayy, twang, whispering)\n",
      "(pansy, clang, Huyah)\n",
      "(requiem, Pie, Iesu)\n",
      "(donaeis, requiem, Pie)\n",
      "(Uh, gra, gravy)\n",
      "(lobbest, thou, thy)\n",
      "(clank, scribble, scribble)\n",
      "(ooh, twang, chanting)\n",
      "(Camelot, Hurry, Sir)\n",
      "(boom, Thsss, boom)\n",
      "(Aaah, Hyy, Hya)\n",
      "(twang, whispering, Forgive)\n",
      "(of, Olfin, Bedwere)\n",
      "(and, Neee, wom)\n",
      "(gravy, Cherries, Mud)\n",
      "(Ni, Ni, Agh)\n",
      "(Aauuggghhh, Aaauggh, Do)\n",
      "(afoot, Anarcho, syndicalism)\n",
      "(Heh, heh, heeh)\n",
      "(Pie, Iesu, domine)\n",
      "(domine, dona, eis)\n",
      "(Aah, Hiyah, Aah)\n",
      "(Ninepence, clang, Bring)\n",
      "(Cherries, Mud, Churches)\n",
      "(ho, Woa, wayy)\n",
      "(Aah, Aaah, Hyy)\n",
      "(vache, mooo, If)\n",
      "(thud, thud, thud)\n",
      "(wise, Sir, Bedevere)\n",
      "(clop, clop, boom)\n",
      "(Ages, Umhm, Uh)\n",
      "(Sir, Launcelot, Hurry)\n",
      "(Hurry, Sir, Launcelot)\n",
      "(quack, quack, quack)\n",
      "(dona, eis, requiem)\n",
      "(place, Aaaaugh, Aaaaugh)\n",
      "(Caerbannog, wherein, carved)\n",
      "(away, Thppppt, taunting)\n",
      "(eis, requiem, Pie)\n",
      "(domine, dona, eisrequiem)\n",
      "(Thpppppt, Thppt, Thppt)\n",
      "(chanting, Pie, Iesu)\n",
      "(un, lapin, lapin)\n",
      "(owli, zhiv, Ni)\n",
      "(Aaauugh, Black, Beast)\n",
      "(lapin, de, bois)\n",
      "(clop, clop, clop)\n",
      "(bonk, Pie, Iesu)\n",
      "(hee, Hee, hee)\n",
      "(squeak, squeak, squeak)\n",
      "(Concorde, thwonk, Message)\n",
      "(u, uh, Launcelot)\n",
      "(zoo, owli, zhiv)\n",
      "(Umm, clop, clop)\n",
      "(clop, clop, clop)\n",
      "(uh, Camelot, Hurry)\n",
      "(Iesu, domine, dona)\n",
      "(scarper, singing, Brave)\n",
      "(Gawain, Ector, And)\n",
      "(chanting, Pie, Iesu)\n",
      "(fwump, Concorde, Concorde)\n",
      "(Pie, Iesu, domine)\n",
      "(Neee, wom, Those)\n",
      "(heh, heeh, ooh)\n",
      "(Herbert, Erbert, We)\n",
      "(Uuh, Aaah, Ha)\n",
      "(eis, requiem, bonk)\n",
      "(clop, Halt, horn)\n",
      "(Ni, Ni, Ni)\n",
      "(Iesu, domine, bonk)\n",
      "(Hallo, pause, Hallo)\n",
      "(haw, haw, haw)\n",
      "(on, Concorde, thwonk)\n",
      "(Ni, Ow, Ow)\n",
      "(Launcelot, Aaaah, slash)\n",
      "(Sir, Bedevere, Explain)\n",
      "(squeak, Aaaaugh, Aaaugh)\n",
      "(Quoi, Fetchez, la)\n",
      "(French, fellows, outwit)\n",
      "(Hiyah, Aah, Aaah)\n",
      "(holy, twong, baaaa)\n",
      "(rewr, squeak, squeak)\n",
      "(English, k, nnnnniggets)\n",
      "(dangerous, Sir, Launcelot)\n",
      "(Olfin, Bedwere, of)\n",
      "(rewr, rewr, rewr)\n",
      "(hee, hee, Hee)\n",
      "(farcical, aquatic, ceremony)\n",
      "(lose, Gawain, Ector)\n",
      "(fold, fold, twong)\n",
      "(shrubberies, Ni, cough)\n",
      "(Ni, Ni, Ni)\n",
      "(twang, Wayy, twang)\n",
      "(rrrr, rrrr, rrrr)\n",
      "(Round, Table, clop)\n"
     ]
    }
   ],
   "source": [
    "for gram in grailGrams: \n",
    "    if sum([word.prob for word in gram]) < -40: \n",
    "        print(gram)"
   ]
  },
  {
   "cell_type": "code",
   "execution_count": 52,
   "metadata": {
    "collapsed": false
   },
   "outputs": [
    {
     "name": "stdout",
     "output_type": "stream",
     "text": [
      "(Miss, Bingley, turning)\n",
      "(Darcy, Darcy, spoke)\n",
      "(shew, Gardiner, letter)\n",
      "(danger, Miss, Bingley)\n",
      "(highflown, expressions, Elizabeth)\n",
      "(Bennet, having, dawdled)\n",
      "(improbable, conjecture, Bingley)\n",
      "(principally, dwelt, during)\n",
      "(Catherine, de, Bourgh)\n",
      "(Longbourn, nieces, Between)\n",
      "(Had, Miss, Bingley)\n",
      "(disposition, greater, steadiness)\n",
      "(Brighton, observed, Bennet)\n",
      "(Sermons, Lydia, gaped)\n",
      "(Five, daughters, successively)\n",
      "(heard, Fitzwilliam, Darcy)\n",
      "(Wickham, appeared, Kitty)\n",
      "(Fitzwilliam, reminded, Elizabeth)\n",
      "(his, regimentals, Mamma)\n",
      "(palings, of, Rosings)\n",
      "(Meryton, The, Bennets)\n",
      "(Bingley, witticisms, on)\n",
      "(Bingley, inattention, After)\n",
      "(George, Wickham, Esq)\n",
      "(naturedly, engaged, Collins)\n",
      "(Bingley, despises, cards)\n",
      "(Hunsford, Parsonage, the)\n",
      "(Miss, Bingley, varied)\n",
      "(nephew, Colonel, Fitzwilliam)\n",
      "(Catherine, de, Bourgh)\n",
      "(Lewis, de, Bourgh)\n",
      "(Fitzwilliam, Darcy, formerly)\n",
      "(Pemberley, cried, Gardiner)\n",
      "(commendation, narrowly, observed)\n",
      "(affording, pleasure, unconnected)\n",
      "(unfelt, It, soothed)\n",
      "(conclude, Darcy, bowed)\n",
      "(altogether, Mr, Bingley)\n",
      "(Netherfield, Dearest, Jane)\n",
      "(heiress, of, Rosings)\n",
      "(inheriting, Longbourn, But)\n",
      "(Bingley, began, abusing)\n",
      "(Bennet, civilities, The)\n",
      "(what, connubial, felicity)\n",
      "(parlour, at, Rosings)\n",
      "(unfavourably, answered, Accordingly)\n",
      "(Darcy, Console, Lady)\n",
      "(Miss, Bingley, regard)\n",
      "(Miss, Bingley, tells)\n",
      "(Miss, de, Bourgh)\n",
      "(Netherfield, party, Bingley)\n",
      "(alacrity, which, shewed)\n",
      "(Hunsford, extremely, dull)\n",
      "(to, repine, Obstinate)\n",
      "(Darcy, behaviour, astonished)\n",
      "(saloon, Miss, Bingley)\n",
      "(have, courted, prepossession)\n",
      "(felt, tolerably, persuaded)\n",
      "(Bingley, urged, Jones)\n",
      "(Miss, de, Bourgh)\n",
      "(missent, elsewhere, Elizabeth)\n",
      "(intrepidity, Miss, Elizabeth)\n",
      "(composedly, Lady, Catherine)\n",
      "(Wretched, wretched, mistake)\n",
      "(earnestly, entreated, her)\n",
      "(decorum, prudence, nay)\n",
      "(envying, Miss, Lucas)\n",
      "(Pemberley, House, situated)\n",
      "(Bingley, inherited, property)\n",
      "(Netherfield, said, Bennet)\n",
      "(Bingley, and, Netherfield)\n",
      "(forbearing, courtesy, Elizabeth)\n",
      "(unseldom, she, involuntarily)\n",
      "(Gracechurch, Street, Monday)\n",
      "(Netherfield, to, Longbourn)\n",
      "(despicable, Miss, Bingley)\n",
      "(Miss, de, Bourgh)\n",
      "(Wickham, repeatedly, Lydia)\n",
      "(Darcy, Dear, Lizzy)\n",
      "(Miss, Bingley, succeeded)\n",
      "(Darcy, contemptuously, yes)\n",
      "(tranquillity, Well, Lizzy)\n",
      "(many, cheerful, prognostics)\n",
      "(cottagers, were, disposed)\n",
      "(Elizabeth, tremble, lest)\n",
      "(larder, usually, affords)\n",
      "(ached, acutely, Elizabeth)\n",
      "(near, Westerham, Kent)\n",
      "(backgammon, Bennet, accepted)\n",
      "(mere, ceremonious, salutation)\n",
      "(elder, Miss, Bennets)\n",
      "(Miss, Bingley, declined)\n",
      "(Miss, Bingley, began)\n",
      "(youngest, daughters, uncommonly)\n",
      "(Miss, Bingley, civility)\n",
      "(Longbourn, family, Jane)\n",
      "(Miss, Lucas, persevering)\n",
      "(untinctured, by, tenderness)\n",
      "(denial, Gracechurch, street)\n",
      "(Meryton, seemed, striving)\n",
      "(inexpressible, vexation, she)\n",
      "(Georgiana, Darcy, has)\n",
      "(Catherine, de, Bourgh)\n",
      "(Darcy, regard, Bingley)\n",
      "(Longbourn, House, Elizabeth)\n",
      "(Wickham, marrying, Mary)\n",
      "(object, Miss, Bingley)\n",
      "(quadrille, while, Jenkinson)\n",
      "(Colonel, Fitzwilliam, manners)\n",
      "(disarm, reproof, Nothing)\n",
      "(silent, Teasing, teasing)\n",
      "(her, ladyship, apprehension)\n",
      "(avowed, however, unequally)\n",
      "(Rosings, Their, visitors)\n",
      "(Miss, Lydia, Bennet)\n",
      "(Bingley, continued, absence)\n",
      "(Elizabeth, drily, Darcy)\n",
      "(Bingley, Vain, indeed)\n",
      "(smilingly, Pray, let)\n",
      "(Ramsgate, and, thither)\n",
      "(Saturday, Rendered, spiritless)\n",
      "(replied, Miss, Bingley)\n",
      "(coachman, punctuality, both)\n",
      "(gentleman, concurrence, Bingley)\n",
      "(Bingley, Charles, writes)\n",
      "(Bingley, was, unaffectedly)\n",
      "(Catherine, de, Bourgh)\n",
      "(tranquillity, Collins, returned)\n",
      "(Miss, Bingley, seated)\n",
      "(strong, sisterly, partiality)\n",
      "(Bennet, coolly, observed)\n",
      "(Miss, Bingley, witticisms)\n",
      "(keenest, enjoyment, maintaining)\n",
      "(governess, No, governess)\n",
      "(Longbourn, House, Chapter)\n",
      "(delightful, Parsonage, House)\n",
      "(Miss, de, Bourgh)\n",
      "(in, Hunsford, Parsonage)\n",
      "(Darcy, Miss, Bennet)\n",
      "(satin, curtains, Gardiner)\n",
      "(coherent, Dearest, Lizzy)\n",
      "(Oxford, Blenheim, Warwick)\n",
      "(misfortunes, repeated, Darcy)\n",
      "(Hertfordshire, anxiously, renewing)\n",
      "(Rosings, lively, imagination)\n",
      "(Miss, Grantley, Will)\n",
      "(Rosings, party, assure)\n",
      "(Catherine, de, Bourgh)\n",
      "(handsomer, than, Bingley)\n",
      "(Bourgh, It, vexed)\n",
      "(borne, Miss, Bennet)\n",
      "(deferred, Miss, Bingley)\n",
      "(playful, gaiety, replied)\n",
      "(observed, Miss, Bingley)\n",
      "(lay, Oxford, Blenheim)\n",
      "(Miss, Bennet, astonishment)\n",
      "(luckless, Kitty, continued)\n",
      "(unsocial, taciturn, disposition)\n",
      "(gentlemen, left, Rosings)\n",
      "(calling, patroness, Twice)\n",
      "(Elizabeth, Implacable, resentment)\n",
      "(inflexibly, studious, In)\n",
      "(Colonel, Fitzwilliam, entered)\n",
      "(de, Bourgh, Lady)\n",
      "(replied, Kitty, fretfully)\n",
      "(inquiries, after, Rosings)\n",
      "(civilities, toward, herself)\n",
      "(hastily, exclaimed, beg)\n",
      "(needless, precipitance, merely)\n",
      "(lodgings, This, Younge)\n",
      "(eldest, Miss, Bennet)\n",
      "(severest, reproof, It)\n",
      "(passages, Jane, recollected)\n",
      "(pianoforte, stationed, himself)\n",
      "(her, Longbourn, nieces)\n",
      "(Honourable, Lady, Catherine)\n",
      "(noon, Chapter, Convinced)\n",
      "(Hunsford, Parsonage, and)\n",
      "(Lady, Catherine, unjustifiable)\n",
      "(London, Georgiana, reception)\n",
      "(accept, Bingley, invitation)\n",
      "(blind, partiality, provoked)\n",
      "(Bourgh, footstool, that)\n",
      "(formal, invitation, Bingley)\n",
      "(Darcy, shameful, boast)\n",
      "(solaced, their, wretchedness)\n",
      "(Bennet, eagerly, disclaimed)\n",
      "(Miss, de, Bourgh)\n",
      "(Westerham, Kent, October)\n",
      "(dispense, Mary, petitioned)\n",
      "(taciturn, disposition, unwilling)\n",
      "(natured, gossiping, Lucases)\n",
      "(readily, obeyed, Gardiner)\n",
      "(doleful, voice, Bennet)\n",
      "(jilt, you, creditably)\n",
      "(Miss, Eliza, Bennet)\n",
      "(relished, domestic, felicity)\n",
      "(connubial, felicity, really)\n",
      "(ladyship, again, inquired)\n",
      "(Mamma, cried, Lydia)\n",
      "(ladyship, seemed, pleased)\n",
      "(Rosings, Nearly, three)\n",
      "(Bennet, alarmed, Lizzy)\n",
      "(abhorrence, Whenever, Charlotte)\n",
      "(sanctioned, Collins, moreover)\n",
      "(solicitude, for, Wickham)\n",
      "(think, Georgiana, Darcy)\n",
      "(Pemberley, House, whichever)\n",
      "(Longbourn, or, Netherfield)\n",
      "(Imprudence, or, thoughtlessness)\n",
      "(chose, Fordyce, Sermons)\n",
      "(aunt, Lydia, thoughtlessness)\n",
      "(prettier, coloured, satin)\n",
      "(Miss, de, Bourgh)\n",
      "(Bingley, instantly, prevailed)\n",
      "(lively, sportive, manner)\n",
      "(attractions, Miss, Bennet)\n",
      "(doings, discomposed, Bennet)\n",
      "(Darcy, admired, Elizabeth)\n",
      "(neighbourhood, except, Netherfield)\n",
      "(cried, Darcy, grieved)\n",
      "(Colonel, Fitzwilliam, himself)\n",
      "(earnest, steadfast, gaze)\n",
      "(Colonel, Fitzwilliam, came)\n",
      "(exceedingly, astonish, Jane)\n",
      "(Consider, Collins, respectability)\n",
      "(Miss, Bingley, despises)\n",
      "(liberally, bestowed, respecting)\n",
      "(Miss, Bennets, alone)\n",
      "(road, reached, Longbourn)\n",
      "(delighted, Miss, Darcy)\n",
      "(by, extravagance, imprudence)\n",
      "(Bingley, warmly, resented)\n",
      "(solicitude, of, Bingley)\n",
      "(perpetually, through, Longbourn)\n",
      "(industriously, circulated, by)\n",
      "(of, Hunsford, Parsonage)\n",
      "(dear, Wickham, longed)\n",
      "(highly, gratified, Bennet)\n",
      "(Darcy, nor, Wickham)\n",
      "(falsely, adorned, Elizabeth)\n",
      "(Blenheim, Warwick, Kenilworth)\n",
      "(words, apology, Hunsford)\n",
      "(sufficiently, characteristic, Bingley)\n",
      "(Miss, Bingley, pretended)\n",
      "(Miss, Bingley, Vain)\n",
      "(honour, decorum, prudence)\n",
      "(Bennet, Miss, Bingley)\n",
      "(Lady, Catherine, hesitated)\n",
      "(Hurst, principally, occupied)\n",
      "(rapacity, for, whist)\n",
      "(familiarly, acquainted, Instead)\n",
      "(Kitty, fretfully, When)\n",
      "(usual, civilities, Bingley)\n",
      "(Catherine, de, Bourgh)\n",
      "(Her, ladyship, carriage)\n",
      "(composedly, Lady, Catherine)\n",
      "(forbidding, disagreeable, countenance)\n",
      "(affection, Miss, Bingley)\n",
      "(Miss, de, Bourgh)\n",
      "(sisters, concerning, Bingley)\n",
      "(from, Bennet, civilities)\n",
      "(parlour, Bingley, met)\n",
      "(Undoubtedly, replied, Darcy)\n",
      "(obliging, Lady, Catherine)\n",
      "(lively, playful, disposition)\n",
      "(amiable, neighbour, Miss)\n",
      "(Colonel, Fitzwilliam, Your)\n",
      "(pleasantest, preservative, from)\n",
      "(room, Colonel, Fitzwilliam)\n",
      "(Bourgh, ate, pressing)\n",
      "(ornament, Her, ladyship)\n",
      "(subsisted, between, Darcy)\n",
      "(tempered, amiable, charming)\n",
      "(anticipated, Miss, Darcy)\n",
      "(ill, judged, officiousness)\n",
      "(mildness, declined, interfering)\n",
      "(de, Bourgh, footstool)\n",
      "(mortification, Collins, awkward)\n",
      "(meet, scarcely, recollected)\n",
      "(Hunsford, Such, doings)\n",
      "(parlour, repined, at)\n",
      "(Miss, de, Bourgh)\n",
      "(her, ladyship, concurrence)\n",
      "(Miss, de, Bourgh)\n",
      "(Catherine, de, Bourgh)\n",
      "(Bingley, seated, near)\n",
      "(Bingley, Jane, met)\n",
      "(lodgings, Gardiner, himself)\n",
      "(all, quitted, Netherfield)\n",
      "(Lydia, pressing, entreaties)\n",
      "(creditable, gentlemanlike, set)\n",
      "(quitted, Netherfield, last)\n",
      "(at, Longbourn, Gardiner)\n",
      "(Catherine, de, Bourgh)\n",
      "(Bingley, letter, arrived)\n",
      "(tent, tenderly, flirting)\n",
      "(chambermaid, whether, Pemberley)\n",
      "(Bingley, voice, Elizabeth)\n",
      "(Pemberley, and, Lambton)\n",
      "(engagements, arose, Bennet)\n",
      "(Catherine, de, Bourgh)\n",
      "(copse, Lady, Catherine)\n",
      "(Meryton, Lady, Lucas)\n",
      "(Netherfield, and, Rosings)\n",
      "(Meryton, had, procured)\n",
      "(Miss, de, Bourgh)\n",
      "(Longbourn, Gardiner, went)\n",
      "(meditated, elopement, To)\n",
      "(speech, savours, strongly)\n",
      "(between, Colonel, Fitzwilliam)\n",
      "(cried, Miss, Bingley)\n",
      "(be, insensible, gaily)\n",
      "(comparative, insignificance, Importance)\n",
      "(suitableness, which, comprehended)\n",
      "(late, Darcy, bequeathed)\n",
      "(excellent, acquaintances, Meryton)\n",
      "(apace, The, dejection)\n",
      "(gaily, off, rejoicing)\n",
      "(Warwick, Kenilworth, Birmingham)\n",
      "(Elizabeth, instantly, availed)\n",
      "(Bennet, pleasing, manners)\n",
      "(Miss, Bennet, paused)\n",
      "(mentioned, Colonel, Fitzwilliam)\n",
      "(commonest, dullest, most)\n",
      "(rector, of, Longbourn)\n",
      "(Fordyce, Sermons, Lydia)\n",
      "(manners, indicated, respectability)\n",
      "(do, Wickham, adieus)\n",
      "(at, Longbourn, whither)\n",
      "(cheerful, humour, Darcy)\n",
      "(Hunsford, near, Westerham)\n",
      "(Bingley, returned, Bennet)\n",
      "(whom, shall, subjoin)\n",
      "(subject, Bennet, coolly)\n",
      "(tremblings, such, flutterings)\n",
      "(elder, Miss, Bennets)\n",
      "(doubtingly, Oh, Lizzy)\n",
      "(Colonel, Forster, repeat)\n",
      "(till, Elizabeth, recollected)\n",
      "(earnestly, negatived, she)\n",
      "(northwards, than, Derbyshire)\n",
      "(Lewis, de, Bourgh)\n",
      "(feather, Poor, Wickham)\n",
      "(utmost, politeness, Darcy)\n",
      "(felicity, nor, humbled)\n",
      "(our, Meryton, assemblies)\n",
      "(Miss, Bingley, inattention)\n",
      "(more, earnestly, negatived)\n",
      "(untamed, unabashed, wild)\n",
      "(Colonel, Forster, Kitty)\n",
      "(apprehension, peculiarly, denoted)\n",
      "(Miss, Bingley, designs)\n",
      "(invitations, readily, obeyed)\n",
      "(captivation, Whatever, bears)\n",
      "(Colonel, Fitzwilliam, Shall)\n",
      "(uncle, doings, Generous)\n",
      "(volubility, In, Lydia)\n",
      "(hearing, Miss, Bingley)\n",
      "(Bourgh, Lady, Catherine)\n",
      "(de, Bourgh, exerted)\n",
      "(Miss, Bennet, eagerly)\n",
      "(Miss, Eliza, Bennet)\n",
      "(Bingley, never, stirs)\n",
      "(Pemberley, Chapter, Happy)\n",
      "(Annesley, a, genteel)\n",
      "(relation, Colonel, Fitzwilliam)\n",
      "(Colonel, Fitzwilliam, words)\n",
      "(Rosings, rationally, softened)\n",
      "(Bingley, arrived, Bennet)\n",
      "(heightened, complexion, earnestly)\n",
      "(thoughtless, thoughtless, Lydia)\n",
      "(laugh, Miss, Bingley)\n",
      "(nephew, Unfeeling, selfish)\n",
      "(dear, Eliza, glancing)\n",
      "(Colonel, Forster, believed)\n",
      "(word, Colonel, Fitzwilliam)\n",
      "(Lady, Lucas, quieted)\n",
      "(carriage, Miss, Bingley)\n",
      "(tolerably, cheerful, Their)\n",
      "(principally, offended, Darcy)\n",
      "(Such, doings, discomposed)\n",
      "(heartfelt, delight, diffused)\n",
      "(directed, towards, Longbourn)\n",
      "(dinner, Bennet, scarcely)\n",
      "(inclination, Miss, Bennet)\n",
      "(procured, lodgings, Gardiner)\n",
      "(Bingley, replied, Jane)\n",
      "(ladyship, wants, Darcy)\n",
      "(denoted, her, perverseness)\n",
      "(observing, Bingley, attentions)\n",
      "(Hunsford, and, Rosings)\n",
      "(undoubted, veracity, Wickham)\n",
      "(Phillipses, the, Lucases)\n",
      "(own, trifling, amusements)\n",
      "(Colonel, Fitzwilliam, manners)\n",
      "(Pemberley, she, dropt)\n",
      "(Colonel, Fitzwilliam, seemed)\n",
      "(To, Bennet, acknowledgments)\n",
      "(cried, Elizabeth, Implacable)\n",
      "(tenant, Miss, Bingley)\n",
      "(borrow, Bingley, carriage)\n",
      "(younger, Miss, Bennets)\n",
      "(promote, sisterly, affection)\n",
      "(joyful, alacrity, Collins)\n",
      "(rough, coppice, wood)\n",
      "(lamentations, resounding, perpetually)\n",
      "(afterwards, visited, Bingley)\n",
      "(draughts, to, Netherfield)\n",
      "(Catherine, unjustifiable, endeavours)\n",
      "(blameable, mistrust, How)\n",
      "(evening, passed, tranquilly)\n",
      "(Miss, Bingley, sees)\n",
      "(replied, Colonel, Fitzwilliam)\n",
      "(Miss, de, Bourgh)\n",
      "(Nay, cried, Bingley)\n",
      "(Scotland, Colonel, Forster)\n",
      "(Miss, de, Bourgh)\n",
      "(housemaids, Well, mamma)\n",
      "(Bingley, Her, astonishment)\n",
      "(eldest, Miss, Bennet)\n",
      "(Miss, Bingley, Charles)\n",
      "(Longbourn, Everything, wore)\n",
      "(Pray, Miss, Eliza)\n",
      "(Elizabeth, merely, curtseyed)\n",
      "(room, Colonel, Fitzwilliam)\n",
      "(tolerable, tranquillity, Collins)\n",
      "(ladyship, apprehension, peculiarly)\n",
      "(Lydia, leads, Vain)\n",
      "(polite, congratulation, Hurst)\n",
      "(dearest, loveliest, Elizabeth)\n",
      "(addressing, Colonel, Fitzwilliam)\n",
      "(Colonel, Fitzwilliam, reminded)\n",
      "(Miss, Darcy, meditated)\n",
      "(recollections, Darcy, letter)\n",
      "(Longbourn, desiring, her)\n",
      "(Bourgh, whose, bounty)\n",
      "(sneering, civility, Pray)\n",
      "(imprudent, manner, nay)\n",
      "(Miss, de, Bourgh)\n",
      "(ungenerous, reproach, shall)\n",
      "(Meryton, he, dined)\n",
      "(admiring, Phillips, manners)\n",
      "(Gardiner, left, Longbourn)\n",
      "(Lately, George, Wickham)\n",
      "(Bennet, eyes, sparkled)\n",
      "(confidante, Chapter, Elizabeth)\n",
      "(Miss, Bingley, offered)\n",
      "(untidy, so, blowsy)\n",
      "(approbation, alone, roused)\n",
      "(Colonel, Forster, instantly)\n",
      "(Lady, Catherine, discernment)\n",
      "(elder, Miss, Bennets)\n",
      "(Miss, Bingley, congratulations)\n",
      "(Obstinate, headstrong, girl)\n",
      "(Elizabeth, looked, archly)\n",
      "(Lizzy, Lizzy, declares)\n",
      "(inquiry, Wickham, began)\n",
      "(Darcy, Caroline, cried)\n",
      "(Dearest, Lizzy, hardly)\n",
      "(Bingley, pretended, regard)\n",
      "(appear, tolerably, cheerful)\n",
      "(upon, quitting, Netherfield)\n",
      "(Lydia, Chapter, Till)\n",
      "(marrying, Colonel, Fitzwilliam)\n",
      "(Miss, Bingley, replied)\n",
      "(Jane, recollected, herself)\n",
      "(Lady, Catherine, disapprobation)\n",
      "(been, industriously, circulated)\n",
      "(Darcy, meditated, elopement)\n",
      "(daughters, uncommonly, foolish)\n",
      "(repine, Obstinate, headstrong)\n",
      "(thither, lay, Oxford)\n",
      "(controverted, She, inquired)\n",
      "(Catherine, de, Bourgh)\n",
      "(regimentals, Mamma, cried)\n",
      "(Longbourn, estate, whenever)\n",
      "(unnecessary, complaisance, Elizabeth)\n",
      "(uncivil, boisterously, exclaimed)\n",
      "(performer, countenance, Elizabeth)\n",
      "(Bingley, carriage, immediately)\n",
      "(boisterously, exclaimed, Good)\n",
      "(perusal, Darcy, shameful)\n",
      "(teasing, Colonel, Forster)\n",
      "(gossiping, Lucases, shall)\n",
      "(Miss, Bingley, letter)\n",
      "(unreserved, correspondence, depend)\n",
      "(Chapter, Colonel, Fitzwilliam)\n",
      "(Removed, cried, Bingley)\n",
      "(Miss, Eliza, Bennet)\n",
      "(eldest, daughter, endeavoured)\n",
      "(arisen, repeated, Bennet)\n",
      "(from, Meryton, denominated)\n",
      "(unaffectedly, modest, His)\n",
      "(unaffected, astonishment, Indeed)\n",
      "(Attendance, forbearance, patience)\n",
      "(Longbourn, Elizabeth, listened)\n",
      "(Wickham, Georgiana, also)\n",
      "(still, inflexibly, studious)\n",
      "(Miss, Bingley, tired)\n",
      "(Cheapside, cried, Bingley)\n",
      "(Louisa, said, Bingley)\n",
      "(Chatsworth, Dovedale, or)\n",
      "(disagreeable, Elizabeth, excused)\n",
      "(bestow, Miss, Bingley)\n",
      "(Miss, de, Bourgh)\n",
      "(Longbourn, rather, oftener)\n",
      "(backgammon, Chapter, Collins)\n",
      "(hopeless, Miss, Bingley)\n",
      "(obstinate, fancy, Lizzy)\n",
      "(laugh, Miss, Bingley)\n",
      "(Miss, de, Bourgh)\n",
      "(circumspection, fortnight, acquaintance)\n",
      "(Colonel, Fitzwilliam, occasionally)\n",
      "(Bingleys, Her, impatience)\n",
      "(Miss, de, Bourgh)\n",
      "(bear, inconveniences, cheerfulness)\n",
      "(her, ladyship, carriages)\n",
      "(usual, querulous, serenity)\n",
      "(whose, constant, repinings)\n",
      "(Longbourn, whither, he)\n",
      "(superlatively, stupid, Scarcely)\n",
      "(unlucky, recollections, obtruded)\n",
      "(Affectation, of, candour)\n",
      "(highly, incensed, Bennet)\n",
      "(Bourgh, exerted, herself)\n",
      "(Lewis, de, Bourgh)\n",
      "(Wickham, adieus, were)\n",
      "(however, imperturbably, grave)\n",
      "(Bennet, scarcely, spoke)\n",
      "(Meryton, from, whence)\n",
      "(Miss, Darcy, delight)\n",
      "(discomposed, Bennet, exceedingly)\n",
      "(Catherine, de, Bourgh)\n",
      "(Miss, de, Bourgh)\n",
      "(often, uncivil, boisterously)\n",
      "(her, inexpressible, vexation)\n",
      "(cried, Colonel, Fitzwilliam)\n",
      "(Meryton, denominated, from)\n",
      "(replied, Elizabeth, archly)\n",
      "(Netherfield, Such, amiable)\n",
      "(at, Netherfield, Dearest)\n",
      "(unqualified, unalloyed, inclination)\n",
      "(reproofs, at, Hunsford)\n",
      "(Georgiana, whose, affectionate)\n",
      "(definition, Astonishment, apprehension)\n",
      "(gratified, said, Bingley)\n",
      "(her, ladyship, indignation)\n",
      "(cried, Miss, Bingley)\n",
      "(trifling, amusements, Bennet)\n",
      "(their, pleasantest, preservative)\n",
      "(monosyllable, Miss, Darcy)\n",
      "(overtook, William, Goulding)\n",
      "(Darcy, grieved, shocked)\n",
      "(Darcy, regard, Bingley)\n",
      "(joy, Jane, resolutely)\n",
      "(admires, Miss, Darcy)\n",
      "(fill, Cheapside, cried)\n",
      "(Caroline, boasted, joyfully)\n",
      "(Chapter, Miss, Bingley)\n",
      "(amid, very, complaisant)\n",
      "(persuade, Miss, Bennet)\n",
      "(hermitage, Elizabeth, obeyed)\n",
      "(Miss, de, Bourgh)\n",
      "(daughter, Colonel, Fitzwilliam)\n",
      "(softened, My, reproofs)\n",
      "(housekeeper, at, Netherfield)\n",
      "(Miss, Bingley, appearance)\n",
      "(ladyship, concurrence, You)\n",
      "(Bingley, himself, Elizabeth)\n",
      "(Catherine, de, Bourgh)\n",
      "(his, patroness, mingling)\n",
      "(Catherine, de, Bourgh)\n",
      "(comfortless, hotel, Many)\n",
      "(Bennets, were, speedily)\n",
      "(Longbourn, Elizabeth, looked)\n",
      "(parting, civilities, which)\n",
      "(Jane, steady, mildness)\n",
      "(patroness, Lady, Catherine)\n",
      "(unpleasant, recollections, Darcy)\n",
      "(nuptials, fine, muslins)\n",
      "(Bourgh, by, venturing)\n",
      "(Darcy, Elizabeth, coloured)\n",
      "(Matlock, Chatsworth, Dovedale)\n",
      "(Collins, readily, assented)\n",
      "(Bingley, salutation, He)\n",
      "(Bennet, eyes, sparkled)\n",
      "(quarrelsome, discontented, or)\n",
      "(described, Wholly, inattentive)\n",
      "(Miss, Bingley, visit)\n",
      "(tolerably, detached, tone)\n",
      "(repeated, Darcy, contemptuously)\n",
      "(cried, Miss, Bingley)\n",
      "(repeated, Miss, Bingley)\n",
      "(Elizabeth, smiled, Lizzy)\n",
      "(deemed, indispensably, necessary)\n",
      "(surmise, said, Fitzwilliam)\n",
      "(Colonel, Fitzwilliam, himself)\n",
      "(Miss, Bingley, warmly)\n",
      "(breakfast, parlour, Bingley)\n",
      "(Miss, de, Bourgh)\n",
      "(muslins, new, carriages)\n",
      "(Pemberley, Another, entreaty)\n",
      "(very, creditable, gentlemanlike)\n",
      "(gracious, cried, Bennet)\n",
      "(an, unsocial, taciturn)\n",
      "(appeased, Bennet, curiosity)\n",
      "(ever, Kitty, simpered)\n",
      "(Rendered, spiritless, by)\n",
      "(ceremonious, salutation, attending)\n",
      "(Miss, Lydia, Bennet)\n",
      "(Miss, de, Bourgh)\n",
      "(Rosings, To, Rosings)\n",
      "(insensible, gaily, continued)\n",
      "(gentleman, reputed, disposition)\n",
      "(de, Bourgh, widow)\n",
      "(modest, His, diffidence)\n",
      "(songs, Miss, Bingley)\n",
      "(Elizabeth, dwelling, emphatically)\n",
      "(Miss, Bingley, vexed)\n",
      "(momentary, dread, Bingley)\n",
      "(increasing, civilities, toward)\n",
      "(gentlemanlike, appearance, walking)\n",
      "(mischievously, construed, Her)\n",
      "(unexpectedly, relieved, Wickham)\n",
      "(deceived, us, Haggerston)\n",
      "(civilities, Bingley, was)\n",
      "(unexpected, visitor, Darcy)\n",
      "(morrow, fortnight, Aye)\n",
      "(sisterly, partiality, which)\n",
      "(Miss, Bingley, dislike)\n",
      "(assiduous, attentions, which)\n",
      "(Catherine, de, Bourgh)\n"
     ]
    }
   ],
   "source": [
    "for gram in set(ngrams(pride, 3)): \n",
    "    if sum([word.prob for word in gram]) < -40: \n",
    "        print(gram)"
   ]
  },
  {
   "cell_type": "markdown",
   "metadata": {},
   "source": [
    "# Word Embeddings (Word Vectors)\n",
    "\n",
    "Word embeddings (word vectors) are numeric representations of words, usually generated via dimensionality reduction on a word cooccurrence matrix for a large corpus. The vectors SpaCy uses are the [GloVe](http://nlp.stanford.edu/projects/glove/) vectors, Stanford's Global Vectors for Word Representation. These vectors can be used to calculate semantic similarity between words and documents."
   ]
  },
  {
   "cell_type": "code",
   "execution_count": 53,
   "metadata": {
    "collapsed": false
   },
   "outputs": [],
   "source": [
    "coconut, africanSwallow, europeanSwallow, horse = nlp('coconut'), nlp('African Swallow'), nlp('European Swallow'), nlp('horse')"
   ]
  },
  {
   "cell_type": "code",
   "execution_count": 54,
   "metadata": {
    "collapsed": false
   },
   "outputs": [
    {
     "data": {
      "text/plain": [
       "0.15660886865377041"
      ]
     },
     "execution_count": 54,
     "metadata": {},
     "output_type": "execute_result"
    }
   ],
   "source": [
    "coconut.similarity(horse)"
   ]
  },
  {
   "cell_type": "code",
   "execution_count": 55,
   "metadata": {
    "collapsed": false
   },
   "outputs": [
    {
     "data": {
      "text/plain": [
       "0.33525863407350248"
      ]
     },
     "execution_count": 55,
     "metadata": {},
     "output_type": "execute_result"
    }
   ],
   "source": [
    "africanSwallow.similarity(horse)"
   ]
  },
  {
   "cell_type": "code",
   "execution_count": 56,
   "metadata": {
    "collapsed": false
   },
   "outputs": [
    {
     "data": {
      "text/plain": [
       "0.85963767802014357"
      ]
     },
     "execution_count": 56,
     "metadata": {},
     "output_type": "execute_result"
    }
   ],
   "source": [
    "africanSwallow.similarity(europeanSwallow)"
   ]
  },
  {
   "cell_type": "markdown",
   "metadata": {},
   "source": [
    "Let's look at vectors for _Pride and Prejudice_. First, let's get the first 150 nouns:"
   ]
  },
  {
   "cell_type": "code",
   "execution_count": 57,
   "metadata": {
    "collapsed": false
   },
   "outputs": [],
   "source": [
    "prideNouns = [word for word in pride if word.pos_.startswith('N')][:150]"
   ]
  },
  {
   "cell_type": "markdown",
   "metadata": {},
   "source": [
    "Now let's get vectors and labels for each of them: "
   ]
  },
  {
   "cell_type": "code",
   "execution_count": 58,
   "metadata": {
    "collapsed": false
   },
   "outputs": [],
   "source": [
    "prideNounVecs = [word.vector for word in prideNouns]\n",
    "prideNounLabels = [word.string.strip() for word in prideNouns]"
   ]
  },
  {
   "cell_type": "code",
   "execution_count": 59,
   "metadata": {
    "collapsed": false
   },
   "outputs": [
    {
     "data": {
      "text/plain": [
       "(300,)"
      ]
     },
     "execution_count": 59,
     "metadata": {},
     "output_type": "execute_result"
    }
   ],
   "source": [
    "prideNounVecs[0].shape"
   ]
  },
  {
   "cell_type": "markdown",
   "metadata": {
    "collapsed": true
   },
   "source": [
    "A single vector is 300-dimensional, so in order to plot it in 2D, it might help to reduce the dimensionality to the most meaningful dimensions. We can use Scikit-Learn to perform truncated singular value decomposition for latent semantic analysis (LSA). "
   ]
  },
  {
   "cell_type": "code",
   "execution_count": 60,
   "metadata": {
    "collapsed": false
   },
   "outputs": [],
   "source": [
    "lsa = TruncatedSVD(n_components=2)\n",
    "lsaOut = lsa.fit_transform(prideNounVecs)"
   ]
  },
  {
   "cell_type": "markdown",
   "metadata": {},
   "source": [
    "Plot the results in a scatter plot: "
   ]
  },
  {
   "cell_type": "code",
   "execution_count": 61,
   "metadata": {
    "collapsed": false
   },
   "outputs": [
    {
     "data": {
      "image/png": "[encoded data removed]",
      "text/plain": [
       "<matplotlib.figure.Figure at 0x7f7a96dc2908>"
      ]
     },
     "metadata": {},
     "output_type": "display_data"
    }
   ],
   "source": [
    "xs, ys = lsaOut[:,0], lsaOut[:,1]\n",
    "for i in range(len(xs)): \n",
    "    plt.scatter(xs[i], ys[i])\n",
    "    plt.annotate(prideNounLabels[i], (xs[i], ys[i]))"
   ]
  },
  {
   "cell_type": "markdown",
   "metadata": {},
   "source": [
    "# Document Vectorization\n",
    "\n",
    "This uses a non-semantic technique for vectorizing documents, just using bag-of-words. We won't need any of the fancy features of SpaCy for this, just scikit-learn. We'll use a subset of the Inaugural Address Corpus that contains 20th and 21st century inaugural addresses. \n",
    "\n",
    "First, we'll vectorize the corpus using scikit-learn's `TfidfVectorizer` class. This creates a matrix of word frequencies. (It doesn't actually use TF-IDF, since we're turning that off in the options below.)"
   ]
  },
  {
   "cell_type": "code",
   "execution_count": 62,
   "metadata": {
    "collapsed": false
   },
   "outputs": [],
   "source": [
    "tfidf = TfidfVectorizer(input='filename', decode_error='ignore', use_idf=False)"
   ]
  },
  {
   "cell_type": "code",
   "execution_count": 63,
   "metadata": {
    "collapsed": false
   },
   "outputs": [],
   "source": [
    "inauguralFilenames = sorted(glob('inaugural/*'))\n",
    "\n",
    "# Make labels by removing the directory name and .txt extension: \n",
    "labels = [filename.split('/')[1] for filename in inauguralFilenames]\n",
    "labels = [filename.split('.')[0] for filename in labels]\n",
    "\n",
    "# While we're at it, let's make a list of the lengths, so we can use them to plot dot sizes. \n",
    "lengths = [len(open(filename, errors='ignore').read())/100 for filename in inauguralFilenames]\n",
    "\n",
    "# Add a manually compiled list of presidential party affiliations, \n",
    "# So that we can use this to color our dots. \n",
    "parties = 'rrrbbrrrbbbbbrrbbrrbrrrbbrrbr'"
   ]
  },
  {
   "cell_type": "code",
   "execution_count": 64,
   "metadata": {
    "collapsed": false
   },
   "outputs": [],
   "source": [
    "tfidfOut = tfidf.fit_transform(inauguralFilenames)"
   ]
  },
  {
   "cell_type": "code",
   "execution_count": 65,
   "metadata": {
    "collapsed": false
   },
   "outputs": [
    {
     "data": {
      "text/plain": [
       "(29, 6177)"
      ]
     },
     "execution_count": 65,
     "metadata": {},
     "output_type": "execute_result"
    }
   ],
   "source": [
    "tfidfOut.shape"
   ]
  },
  {
   "cell_type": "code",
   "execution_count": 66,
   "metadata": {
    "collapsed": false
   },
   "outputs": [],
   "source": [
    "lsaOut = lsa.fit_transform(tfidfOut.todense())"
   ]
  },
  {
   "cell_type": "code",
   "execution_count": 67,
   "metadata": {
    "collapsed": false
   },
   "outputs": [
    {
     "data": {
      "image/png": "[encoded data removed]",
      "text/plain": [
       "<matplotlib.figure.Figure at 0x7f7a94d57630>"
      ]
     },
     "metadata": {},
     "output_type": "display_data"
    }
   ],
   "source": [
    "xs, ys = lsaOut[:,0], lsaOut[:,1]\n",
    "for i in range(len(xs)): \n",
    "    plt.scatter(xs[i], ys[i], c=parties[i], s=lengths[i], alpha=0.5)\n",
    "    plt.annotate(labels[i], (xs[i], ys[i]))"
   ]
  },
  {
   "cell_type": "markdown",
   "metadata": {},
   "source": [
    "# Average Sentence Lengths\n",
    "\n",
    "Let's load the Inaugural Address documents into SpaCy to analyze things like average sentence length. SpaCy makes this really easy. "
   ]
  },
  {
   "cell_type": "code",
   "execution_count": 68,
   "metadata": {
    "collapsed": false
   },
   "outputs": [],
   "source": [
    "inaugural = [nlp(open(doc, errors='ignore').read()) for doc in inauguralFilenames]"
   ]
  },
  {
   "cell_type": "code",
   "execution_count": 69,
   "metadata": {
    "collapsed": true
   },
   "outputs": [],
   "source": [
    "sentLengths = [ np.mean([len(sent) for sent in doc.sents]) for doc in inaugural ]"
   ]
  },
  {
   "cell_type": "code",
   "execution_count": 70,
   "metadata": {
    "collapsed": false
   },
   "outputs": [
    {
     "data": {
      "text/plain": [
       "<matplotlib.axes._subplots.AxesSubplot at 0x7f7a94a72c18>"
      ]
     },
     "execution_count": 70,
     "metadata": {},
     "output_type": "execute_result"
    },
    {
     "data": {
      "image/png": "[encoded data removed]",
      "text/plain": [
       "<matplotlib.figure.Figure at 0x7f7a9501b898>"
      ]
     },
     "metadata": {},
     "output_type": "display_data"
    }
   ],
   "source": [
    "pd.Series(sentLengths, index=labels).plot(kind='bar')"
   ]
  },
  {
   "cell_type": "markdown",
   "metadata": {},
   "source": [
    "# Term Frequency Distributions\n",
    "\n",
    "This sort of thing you've probably already seen in the NLTK book, but it's made even easier in SpaCy. We're simply going to count the occurrences of words and divide by the total number of words in the document. "
   ]
  },
  {
   "cell_type": "code",
   "execution_count": 71,
   "metadata": {
    "collapsed": false
   },
   "outputs": [],
   "source": [
    "inauguralSeries = [pd.Series(Counter(   \n",
    "                    [word.string.strip().lower() \n",
    "                     for word in doc]))/len(doc) \n",
    "                     for doc in inaugural]"
   ]
  },
  {
   "cell_type": "code",
   "execution_count": 72,
   "metadata": {
    "collapsed": true
   },
   "outputs": [],
   "source": [
    "seriesDict = {label: series for label, series in zip(labels, inauguralSeries)}"
   ]
  },
  {
   "cell_type": "code",
   "execution_count": 73,
   "metadata": {
    "collapsed": false
   },
   "outputs": [],
   "source": [
    "inauguralDf = pd.DataFrame(seriesDict).T.fillna(0)"
   ]
  },
  {
   "cell_type": "code",
   "execution_count": 74,
   "metadata": {
    "collapsed": false
   },
   "outputs": [
    {
     "data": {
      "text/plain": [
       "<matplotlib.axes._subplots.AxesSubplot at 0x7f7a94d57d68>"
      ]
     },
     "execution_count": 74,
     "metadata": {},
     "output_type": "execute_result"
    },
    {
     "data": {
      "image/png": "[encoded data removed]",
      "text/plain": [
       "<matplotlib.figure.Figure at 0x7f7a94c24240>"
      ]
     },
     "metadata": {},
     "output_type": "display_data"
    }
   ],
   "source": [
    "inauguralDf[['america', 'world']].plot(kind='bar')"
   ]
  },
  {
   "cell_type": "code",
   "execution_count": 75,
   "metadata": {
    "collapsed": false
   },
   "outputs": [
    {
     "data": {
      "text/plain": [
       "<matplotlib.axes._subplots.AxesSubplot at 0x7f7a95183320>"
      ]
     },
     "execution_count": 75,
     "metadata": {},
     "output_type": "execute_result"
    },
    {
     "data": {
      "image/png": "[encoded data removed]",
      "text/plain": [
       "<matplotlib.figure.Figure at 0x7f7a94d89828>"
      ]
     },
     "metadata": {},
     "output_type": "display_data"
    }
   ],
   "source": [
    "americaWorldRatio = inauguralDf['america']/inauguralDf['world']\n",
    "americaWorldRatio.plot(kind='bar')"
   ]
  },
  {
   "cell_type": "code",
   "execution_count": 76,
   "metadata": {
    "collapsed": false
   },
   "outputs": [],
   "source": [
    "similarities = [ [doc.similarity(other) for other in inaugural] for doc in inaugural ]\n",
    "similaritiesDf = pd.DataFrame(similarities, columns=labels, index=labels)"
   ]
  },
  {
   "cell_type": "code",
   "execution_count": 77,
   "metadata": {
    "collapsed": false
   },
   "outputs": [
    {
     "data": {
      "text/plain": [
       "<matplotlib.axes._subplots.AxesSubplot at 0x7f7a94fa7908>"
      ]
     },
     "execution_count": 77,
     "metadata": {},
     "output_type": "execute_result"
    },
    {
     "data": {
      "image/png": "[encoded data removed]",
      "text/plain": [
       "<matplotlib.figure.Figure at 0x7f7a94fd8080>"
      ]
     },
     "metadata": {},
     "output_type": "display_data"
    }
   ],
   "source": [
    "# Requires the Seaborn library. \n",
    "rcParams['figure.figsize'] = 16, 8\n",
    "seaborn.heatmap(similaritiesDf)"
   ]
  },
  {
   "cell_type": "markdown",
   "metadata": {},
   "source": [
    "# Exercises\n",
    "\n",
    "1. Extract all the events from _Pride and Prejudice_. \n",
    "2. Make a lexical dispersion plot of the word \"ni\" in _Monty Python and the Holy Grail_. What does this tell us? \n",
    "3. Find the shortest sentence in any inaugural address from our corpus.\n",
    "4. Find the president that used the lowest proportions of adjectives (or nouns, verbs) in his inaugural address. \n",
    "5. Find which of Charles Dickens's novels (or those of any other author) are the most semantically similar. \n",
    "\n",
    "# Learn More\n",
    "\n",
    " - [SpaCy Homepage](https://spacy.io/)\n",
    " - [Pycon: NLP in 10 Lines of Code](https://github.com/cytora/pycon-nlp-in-10-lines)\n",
    " - [What You Can Learn About Food By Analyzing a Million Yelp Reviews](http://nbviewer.jupyter.org/github/skipgram/modern-nlp-in-python/blob/master/executable/Modern_NLP_in_Python.ipynb)\n",
    " - [Other Tutorials Listed on Spacy.io](https://spacy.io/docs/usage/tutorials)\n",
    " \n",
    "# See Also\n",
    "\n",
    " - [Textacy, higher-level NLP based on SpaCy](https://github.com/chartbeat-labs/textacy)"
   ]
  }
 ],
 "metadata": {
  "kernelspec": {
   "display_name": "Python 3",
   "language": "python",
   "name": "python3"
  },
  "language_info": {
   "codemirror_mode": {
    "name": "ipython",
    "version": 3
   },
   "file_extension": ".py",
   "mimetype": "text/x-python",
   "name": "python",
   "nbconvert_exporter": "python",
   "pygments_lexer": "ipython3",
   "version": "3.6.0"
  }
 },
 "nbformat": 4,
 "nbformat_minor": 2
}
